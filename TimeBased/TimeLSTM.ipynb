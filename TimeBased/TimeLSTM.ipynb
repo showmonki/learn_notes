{
 "cells": [
  {
   "cell_type": "code",
   "execution_count": 1,
   "outputs": [
    {
     "name": "stdout",
     "output_type": "stream",
     "text": [
      "Requirement already satisfied: numpy==1.19.5 in /Users/nanzou/anaconda3/envs/learn_notes/lib/python3.7/site-packages (1.19.5)\r\n"
     ]
    }
   ],
   "source": [
    "!pip install -U numpy==1.19.5"
   ],
   "metadata": {
    "collapsed": false,
    "pycharm": {
     "name": "#%%\n"
    }
   }
  },
  {
   "cell_type": "code",
   "execution_count": 1,
   "metadata": {
    "collapsed": true,
    "pycharm": {
     "name": "#%%\n"
    }
   },
   "outputs": [],
   "source": [
    "import tushare as ts\n",
    "import json\n",
    "import time\n",
    "import pandas as pd\n",
    "import numpy as np\n",
    "from sklearn.model_selection import TimeSeriesSplit\n",
    "from tensorflow.keras.models import Sequential\n",
    "from tensorflow.keras.layers import LSTM, Dense, Dropout\n",
    "\n",
    "with open('token.json') as token_file:\n",
    "    token = json.load(token_file)['token']\n",
    "\n",
    "pro = ts.pro_api(token)"
   ]
  },
  {
   "cell_type": "code",
   "execution_count": 2,
   "outputs": [],
   "source": [
    "def get_daily(ts_code='', trade_date='', start_date='', end_date=''):\n",
    "    for _ in range(3):\n",
    "        try:\n",
    "            if trade_date:\n",
    "                df = pro.daily(ts_code=ts_code, trade_date=trade_date)\n",
    "            else:\n",
    "                df = pro.daily(ts_code=ts_code, start_date=start_date, end_date=end_date)\n",
    "        except:\n",
    "            time.sleep(1)\n",
    "        else:\n",
    "            return df"
   ],
   "metadata": {
    "collapsed": false,
    "pycharm": {
     "name": "#%%\n"
    }
   }
  },
  {
   "cell_type": "code",
   "execution_count": 4,
   "outputs": [
    {
     "data": {
      "text/plain": "     ts_code trade_date   open   high    low  close  pre_close  change  \\\n0  689009.SH   20220210  61.80  62.20  61.10  61.51      61.51    0.00   \n1  689009.SH   20220209  60.83  62.18  60.40  61.51      60.81    0.70   \n2  689009.SH   20220208  60.80  61.60  59.07  60.81      61.33   -0.52   \n3  689009.SH   20220207  60.31  62.10  58.82  61.33      60.81    0.52   \n4  689009.SH   20220128  60.65  61.06  59.60  60.81      60.60    0.21   \n\n   pct_chg       vol     amount  \n0   0.0000   6035.78  37148.005  \n1   1.1511  12423.93  76250.056  \n2  -0.8479   8239.31  49597.915  \n3   0.8551  15005.67  90778.007  \n4   0.3465  10422.22  63002.207  ",
      "text/html": "<div>\n<style scoped>\n    .dataframe tbody tr th:only-of-type {\n        vertical-align: middle;\n    }\n\n    .dataframe tbody tr th {\n        vertical-align: top;\n    }\n\n    .dataframe thead th {\n        text-align: right;\n    }\n</style>\n<table border=\"1\" class=\"dataframe\">\n  <thead>\n    <tr style=\"text-align: right;\">\n      <th></th>\n      <th>ts_code</th>\n      <th>trade_date</th>\n      <th>open</th>\n      <th>high</th>\n      <th>low</th>\n      <th>close</th>\n      <th>pre_close</th>\n      <th>change</th>\n      <th>pct_chg</th>\n      <th>vol</th>\n      <th>amount</th>\n    </tr>\n  </thead>\n  <tbody>\n    <tr>\n      <th>0</th>\n      <td>689009.SH</td>\n      <td>20220210</td>\n      <td>61.80</td>\n      <td>62.20</td>\n      <td>61.10</td>\n      <td>61.51</td>\n      <td>61.51</td>\n      <td>0.00</td>\n      <td>0.0000</td>\n      <td>6035.78</td>\n      <td>37148.005</td>\n    </tr>\n    <tr>\n      <th>1</th>\n      <td>689009.SH</td>\n      <td>20220209</td>\n      <td>60.83</td>\n      <td>62.18</td>\n      <td>60.40</td>\n      <td>61.51</td>\n      <td>60.81</td>\n      <td>0.70</td>\n      <td>1.1511</td>\n      <td>12423.93</td>\n      <td>76250.056</td>\n    </tr>\n    <tr>\n      <th>2</th>\n      <td>689009.SH</td>\n      <td>20220208</td>\n      <td>60.80</td>\n      <td>61.60</td>\n      <td>59.07</td>\n      <td>60.81</td>\n      <td>61.33</td>\n      <td>-0.52</td>\n      <td>-0.8479</td>\n      <td>8239.31</td>\n      <td>49597.915</td>\n    </tr>\n    <tr>\n      <th>3</th>\n      <td>689009.SH</td>\n      <td>20220207</td>\n      <td>60.31</td>\n      <td>62.10</td>\n      <td>58.82</td>\n      <td>61.33</td>\n      <td>60.81</td>\n      <td>0.52</td>\n      <td>0.8551</td>\n      <td>15005.67</td>\n      <td>90778.007</td>\n    </tr>\n    <tr>\n      <th>4</th>\n      <td>689009.SH</td>\n      <td>20220128</td>\n      <td>60.65</td>\n      <td>61.06</td>\n      <td>59.60</td>\n      <td>60.81</td>\n      <td>60.60</td>\n      <td>0.21</td>\n      <td>0.3465</td>\n      <td>10422.22</td>\n      <td>63002.207</td>\n    </tr>\n  </tbody>\n</table>\n</div>"
     },
     "execution_count": 4,
     "metadata": {},
     "output_type": "execute_result"
    }
   ],
   "source": [
    "test_df = pro.daily(exchange='SSE',ts_code='689009.SH',start_date='20220104', end_date='20220210')\n",
    "test_df.head()"
   ],
   "metadata": {
    "collapsed": false,
    "pycharm": {
     "name": "#%%\n"
    }
   }
  },
  {
   "cell_type": "code",
   "execution_count": 100,
   "outputs": [
    {
     "data": {
      "text/plain": "   cal_date\n0  20200102\n1  20200103\n2  20200106\n3  20200107\n4  20200108",
      "text/html": "<div>\n<style scoped>\n    .dataframe tbody tr th:only-of-type {\n        vertical-align: middle;\n    }\n\n    .dataframe tbody tr th {\n        vertical-align: top;\n    }\n\n    .dataframe thead th {\n        text-align: right;\n    }\n</style>\n<table border=\"1\" class=\"dataframe\">\n  <thead>\n    <tr style=\"text-align: right;\">\n      <th></th>\n      <th>cal_date</th>\n    </tr>\n  </thead>\n  <tbody>\n    <tr>\n      <th>0</th>\n      <td>20200102</td>\n    </tr>\n    <tr>\n      <th>1</th>\n      <td>20200103</td>\n    </tr>\n    <tr>\n      <th>2</th>\n      <td>20200106</td>\n    </tr>\n    <tr>\n      <th>3</th>\n      <td>20200107</td>\n    </tr>\n    <tr>\n      <th>4</th>\n      <td>20200108</td>\n    </tr>\n  </tbody>\n</table>\n</div>"
     },
     "execution_count": 100,
     "metadata": {},
     "output_type": "execute_result"
    }
   ],
   "source": [
    "trade_date = pro.trade_cal(exchange='SSE', is_open='1',\n",
    "                            start_date='20200101',\n",
    "                            end_date='20220430',\n",
    "                            fields='cal_date')\n",
    "\n",
    "trade_date.head()"
   ],
   "metadata": {
    "collapsed": false,
    "pycharm": {
     "name": "#%%\n"
    }
   }
  },
  {
   "cell_type": "code",
   "execution_count": 101,
   "outputs": [],
   "source": [
    "whole_df = pd.DataFrame()\n",
    "for date in trade_date['cal_date'].values:\n",
    "     df = get_daily(trade_date=date)\n",
    "     whole_df = whole_df.append(df)"
   ],
   "metadata": {
    "collapsed": false,
    "pycharm": {
     "name": "#%%\n"
    }
   }
  },
  {
   "cell_type": "code",
   "execution_count": 7,
   "outputs": [],
   "source": [
    "# whole_df.head(10)"
   ],
   "metadata": {
    "collapsed": false,
    "pycharm": {
     "name": "#%%\n"
    }
   }
  },
  {
   "cell_type": "code",
   "execution_count": 4,
   "outputs": [],
   "source": [
    "stock1 = '600979.SH'\n",
    "stock2 = '002642.SZ'"
   ],
   "metadata": {
    "collapsed": false,
    "pycharm": {
     "name": "#%%\n"
    }
   }
  },
  {
   "cell_type": "code",
   "execution_count": 7,
   "outputs": [],
   "source": [
    "target_df = pro.daily(exchange='SSE',ts_code=stock1,start_date='20200104', end_date='20220430').sort_values('trade_date')"
   ],
   "metadata": {
    "collapsed": false,
    "pycharm": {
     "name": "#%%\n"
    }
   }
  },
  {
   "cell_type": "code",
   "execution_count": 10,
   "outputs": [],
   "source": [
    "# target_df = whole_df[whole_df.ts_code == stock1].reset_index()"
   ],
   "metadata": {
    "collapsed": false,
    "pycharm": {
     "name": "#%%\n"
    }
   }
  },
  {
   "cell_type": "code",
   "execution_count": 9,
   "outputs": [
    {
     "data": {
      "text/plain": "       ts_code trade_date  open  high   low  close  pre_close  change  \\\n560  600979.SH   20200106  4.23  4.29  4.23   4.26       4.26    0.00   \n559  600979.SH   20200107  4.26  4.29  4.25   4.28       4.26    0.02   \n558  600979.SH   20200108  4.27  4.28  4.20   4.20       4.28   -0.08   \n557  600979.SH   20200109  4.23  4.26  4.22   4.26       4.20    0.06   \n556  600979.SH   20200110  4.26  4.26  4.23   4.24       4.26   -0.02   \n\n     pct_chg       vol     amount  \n560   0.0000  35324.37  15056.093  \n559   0.4695  29971.55  12791.987  \n558  -1.8692  29090.10  12337.166  \n557   1.4286  29085.31  12347.515  \n556  -0.4695  19300.00   8188.596  ",
      "text/html": "<div>\n<style scoped>\n    .dataframe tbody tr th:only-of-type {\n        vertical-align: middle;\n    }\n\n    .dataframe tbody tr th {\n        vertical-align: top;\n    }\n\n    .dataframe thead th {\n        text-align: right;\n    }\n</style>\n<table border=\"1\" class=\"dataframe\">\n  <thead>\n    <tr style=\"text-align: right;\">\n      <th></th>\n      <th>ts_code</th>\n      <th>trade_date</th>\n      <th>open</th>\n      <th>high</th>\n      <th>low</th>\n      <th>close</th>\n      <th>pre_close</th>\n      <th>change</th>\n      <th>pct_chg</th>\n      <th>vol</th>\n      <th>amount</th>\n    </tr>\n  </thead>\n  <tbody>\n    <tr>\n      <th>560</th>\n      <td>600979.SH</td>\n      <td>20200106</td>\n      <td>4.23</td>\n      <td>4.29</td>\n      <td>4.23</td>\n      <td>4.26</td>\n      <td>4.26</td>\n      <td>0.00</td>\n      <td>0.0000</td>\n      <td>35324.37</td>\n      <td>15056.093</td>\n    </tr>\n    <tr>\n      <th>559</th>\n      <td>600979.SH</td>\n      <td>20200107</td>\n      <td>4.26</td>\n      <td>4.29</td>\n      <td>4.25</td>\n      <td>4.28</td>\n      <td>4.26</td>\n      <td>0.02</td>\n      <td>0.4695</td>\n      <td>29971.55</td>\n      <td>12791.987</td>\n    </tr>\n    <tr>\n      <th>558</th>\n      <td>600979.SH</td>\n      <td>20200108</td>\n      <td>4.27</td>\n      <td>4.28</td>\n      <td>4.20</td>\n      <td>4.20</td>\n      <td>4.28</td>\n      <td>-0.08</td>\n      <td>-1.8692</td>\n      <td>29090.10</td>\n      <td>12337.166</td>\n    </tr>\n    <tr>\n      <th>557</th>\n      <td>600979.SH</td>\n      <td>20200109</td>\n      <td>4.23</td>\n      <td>4.26</td>\n      <td>4.22</td>\n      <td>4.26</td>\n      <td>4.20</td>\n      <td>0.06</td>\n      <td>1.4286</td>\n      <td>29085.31</td>\n      <td>12347.515</td>\n    </tr>\n    <tr>\n      <th>556</th>\n      <td>600979.SH</td>\n      <td>20200110</td>\n      <td>4.26</td>\n      <td>4.26</td>\n      <td>4.23</td>\n      <td>4.24</td>\n      <td>4.26</td>\n      <td>-0.02</td>\n      <td>-0.4695</td>\n      <td>19300.00</td>\n      <td>8188.596</td>\n    </tr>\n  </tbody>\n</table>\n</div>"
     },
     "execution_count": 9,
     "metadata": {},
     "output_type": "execute_result"
    }
   ],
   "source": [
    "target_df.head()"
   ],
   "metadata": {
    "collapsed": false,
    "pycharm": {
     "name": "#%%\n"
    }
   }
  },
  {
   "cell_type": "code",
   "execution_count": 8,
   "outputs": [
    {
     "data": {
      "text/plain": "(561, 11)"
     },
     "execution_count": 8,
     "metadata": {},
     "output_type": "execute_result"
    }
   ],
   "source": [
    "target_df.shape"
   ],
   "metadata": {
    "collapsed": false,
    "pycharm": {
     "name": "#%%\n"
    }
   }
  },
  {
   "cell_type": "markdown",
   "source": [
    "## Train test split"
   ],
   "metadata": {
    "collapsed": false,
    "pycharm": {
     "name": "#%% md\n"
    }
   }
  },
  {
   "cell_type": "code",
   "execution_count": 10,
   "outputs": [],
   "source": [
    "target_cols = list(target_df.columns)\n",
    "target_cols.remove('close')\n",
    "target_cols.remove('ts_code')\n",
    "target_cols.remove('trade_date')\n",
    "X = target_df[target_cols]\n",
    "y = target_df.close"
   ],
   "metadata": {
    "collapsed": false,
    "pycharm": {
     "name": "#%%\n"
    }
   }
  },
  {
   "cell_type": "code",
   "execution_count": 66,
   "outputs": [
    {
     "data": {
      "text/plain": "     open  high   low  pre_close  change  pct_chg        vol      amount\n554  6.26  6.45  6.26       6.31    0.03   0.4754   87472.04   55614.939\n553  6.34  6.58  6.32       6.34    0.19   2.9968  104871.16   67605.931\n552  6.48  6.86  6.47       6.53    0.08   1.2251  178228.97  119423.922\n551  6.65  6.94  6.65       6.61    0.33   4.9924  185866.76  127016.001\n550  7.01  7.10  6.72       6.94   -0.19  -2.7378  155401.78  106640.368",
      "text/html": "<div>\n<style scoped>\n    .dataframe tbody tr th:only-of-type {\n        vertical-align: middle;\n    }\n\n    .dataframe tbody tr th {\n        vertical-align: top;\n    }\n\n    .dataframe thead th {\n        text-align: right;\n    }\n</style>\n<table border=\"1\" class=\"dataframe\">\n  <thead>\n    <tr style=\"text-align: right;\">\n      <th></th>\n      <th>open</th>\n      <th>high</th>\n      <th>low</th>\n      <th>pre_close</th>\n      <th>change</th>\n      <th>pct_chg</th>\n      <th>vol</th>\n      <th>amount</th>\n    </tr>\n  </thead>\n  <tbody>\n    <tr>\n      <th>554</th>\n      <td>6.26</td>\n      <td>6.45</td>\n      <td>6.26</td>\n      <td>6.31</td>\n      <td>0.03</td>\n      <td>0.4754</td>\n      <td>87472.04</td>\n      <td>55614.939</td>\n    </tr>\n    <tr>\n      <th>553</th>\n      <td>6.34</td>\n      <td>6.58</td>\n      <td>6.32</td>\n      <td>6.34</td>\n      <td>0.19</td>\n      <td>2.9968</td>\n      <td>104871.16</td>\n      <td>67605.931</td>\n    </tr>\n    <tr>\n      <th>552</th>\n      <td>6.48</td>\n      <td>6.86</td>\n      <td>6.47</td>\n      <td>6.53</td>\n      <td>0.08</td>\n      <td>1.2251</td>\n      <td>178228.97</td>\n      <td>119423.922</td>\n    </tr>\n    <tr>\n      <th>551</th>\n      <td>6.65</td>\n      <td>6.94</td>\n      <td>6.65</td>\n      <td>6.61</td>\n      <td>0.33</td>\n      <td>4.9924</td>\n      <td>185866.76</td>\n      <td>127016.001</td>\n    </tr>\n    <tr>\n      <th>550</th>\n      <td>7.01</td>\n      <td>7.10</td>\n      <td>6.72</td>\n      <td>6.94</td>\n      <td>-0.19</td>\n      <td>-2.7378</td>\n      <td>155401.78</td>\n      <td>106640.368</td>\n    </tr>\n  </tbody>\n</table>\n</div>"
     },
     "execution_count": 66,
     "metadata": {},
     "output_type": "execute_result"
    }
   ],
   "source": [
    "time_step = 5\n",
    "X.iloc[0:time_step,0:10]"
   ],
   "metadata": {
    "collapsed": false,
    "pycharm": {
     "name": "#%%\n"
    }
   }
  },
  {
   "cell_type": "code",
   "execution_count": 67,
   "outputs": [],
   "source": [
    "X_list = []\n",
    "y_list = []\n",
    "for ii in range(time_step,len(target_df)):\n",
    "    X_list.append(X.iloc[ii - time_step:ii,:])\n",
    "    y_list.append(y.iloc[ii])"
   ],
   "metadata": {
    "collapsed": false,
    "pycharm": {
     "name": "#%%\n"
    }
   }
  },
  {
   "cell_type": "code",
   "execution_count": 68,
   "outputs": [],
   "source": [
    "X = np.array(X_list)\n",
    "y = np.array(y_list)\n",
    "tscv = TimeSeriesSplit(n_splits=3)\n",
    "all_splits = list(tscv.split(X, y))"
   ],
   "metadata": {
    "collapsed": false,
    "pycharm": {
     "name": "#%%\n"
    }
   }
  },
  {
   "cell_type": "code",
   "execution_count": 129,
   "outputs": [
    {
     "data": {
      "text/plain": "array([[[ 6.26000000e+00,  6.45000000e+00,  6.26000000e+00,\n          6.31000000e+00,  3.00000000e-02,  4.75400000e-01,\n          8.74720400e+04,  5.56149390e+04],\n        [ 6.34000000e+00,  6.58000000e+00,  6.32000000e+00,\n          6.34000000e+00,  1.90000000e-01,  2.99680000e+00,\n          1.04871160e+05,  6.76059310e+04],\n        [ 6.48000000e+00,  6.86000000e+00,  6.47000000e+00,\n          6.53000000e+00,  8.00000000e-02,  1.22510000e+00,\n          1.78228970e+05,  1.19423922e+05],\n        [ 6.65000000e+00,  6.94000000e+00,  6.65000000e+00,\n          6.61000000e+00,  3.30000000e-01,  4.99240000e+00,\n          1.85866760e+05,  1.27016001e+05],\n        [ 7.01000000e+00,  7.10000000e+00,  6.72000000e+00,\n          6.94000000e+00, -1.90000000e-01, -2.73780000e+00,\n          1.55401780e+05,  1.06640368e+05]],\n\n       [[ 6.34000000e+00,  6.58000000e+00,  6.32000000e+00,\n          6.34000000e+00,  1.90000000e-01,  2.99680000e+00,\n          1.04871160e+05,  6.76059310e+04],\n        [ 6.48000000e+00,  6.86000000e+00,  6.47000000e+00,\n          6.53000000e+00,  8.00000000e-02,  1.22510000e+00,\n          1.78228970e+05,  1.19423922e+05],\n        [ 6.65000000e+00,  6.94000000e+00,  6.65000000e+00,\n          6.61000000e+00,  3.30000000e-01,  4.99240000e+00,\n          1.85866760e+05,  1.27016001e+05],\n        [ 7.01000000e+00,  7.10000000e+00,  6.72000000e+00,\n          6.94000000e+00, -1.90000000e-01, -2.73780000e+00,\n          1.55401780e+05,  1.06640368e+05],\n        [ 6.74000000e+00,  7.05000000e+00,  6.74000000e+00,\n          6.75000000e+00,  2.80000000e-01,  4.14810000e+00,\n          1.17095370e+05,  8.11551100e+04]],\n\n       [[ 6.48000000e+00,  6.86000000e+00,  6.47000000e+00,\n          6.53000000e+00,  8.00000000e-02,  1.22510000e+00,\n          1.78228970e+05,  1.19423922e+05],\n        [ 6.65000000e+00,  6.94000000e+00,  6.65000000e+00,\n          6.61000000e+00,  3.30000000e-01,  4.99240000e+00,\n          1.85866760e+05,  1.27016001e+05],\n        [ 7.01000000e+00,  7.10000000e+00,  6.72000000e+00,\n          6.94000000e+00, -1.90000000e-01, -2.73780000e+00,\n          1.55401780e+05,  1.06640368e+05],\n        [ 6.74000000e+00,  7.05000000e+00,  6.74000000e+00,\n          6.75000000e+00,  2.80000000e-01,  4.14810000e+00,\n          1.17095370e+05,  8.11551100e+04],\n        [ 7.04000000e+00,  7.37000000e+00,  7.03000000e+00,\n          7.03000000e+00,  3.00000000e-01,  4.26740000e+00,\n          1.64257910e+05,  1.18102047e+05]],\n\n       [[ 6.65000000e+00,  6.94000000e+00,  6.65000000e+00,\n          6.61000000e+00,  3.30000000e-01,  4.99240000e+00,\n          1.85866760e+05,  1.27016001e+05],\n        [ 7.01000000e+00,  7.10000000e+00,  6.72000000e+00,\n          6.94000000e+00, -1.90000000e-01, -2.73780000e+00,\n          1.55401780e+05,  1.06640368e+05],\n        [ 6.74000000e+00,  7.05000000e+00,  6.74000000e+00,\n          6.75000000e+00,  2.80000000e-01,  4.14810000e+00,\n          1.17095370e+05,  8.11551100e+04],\n        [ 7.04000000e+00,  7.37000000e+00,  7.03000000e+00,\n          7.03000000e+00,  3.00000000e-01,  4.26740000e+00,\n          1.64257910e+05,  1.18102047e+05],\n        [ 7.32000000e+00,  7.40000000e+00,  7.10000000e+00,\n          7.33000000e+00, -6.00000000e-02, -8.18600000e-01,\n          1.11220580e+05,  8.06356770e+04]],\n\n       [[ 7.01000000e+00,  7.10000000e+00,  6.72000000e+00,\n          6.94000000e+00, -1.90000000e-01, -2.73780000e+00,\n          1.55401780e+05,  1.06640368e+05],\n        [ 6.74000000e+00,  7.05000000e+00,  6.74000000e+00,\n          6.75000000e+00,  2.80000000e-01,  4.14810000e+00,\n          1.17095370e+05,  8.11551100e+04],\n        [ 7.04000000e+00,  7.37000000e+00,  7.03000000e+00,\n          7.03000000e+00,  3.00000000e-01,  4.26740000e+00,\n          1.64257910e+05,  1.18102047e+05],\n        [ 7.32000000e+00,  7.40000000e+00,  7.10000000e+00,\n          7.33000000e+00, -6.00000000e-02, -8.18600000e-01,\n          1.11220580e+05,  8.06356770e+04],\n        [ 7.25000000e+00,  7.32000000e+00,  7.14000000e+00,\n          7.27000000e+00, -7.00000000e-02, -9.62900000e-01,\n          8.46587500e+04,  6.09643720e+04]],\n\n       [[ 6.74000000e+00,  7.05000000e+00,  6.74000000e+00,\n          6.75000000e+00,  2.80000000e-01,  4.14810000e+00,\n          1.17095370e+05,  8.11551100e+04],\n        [ 7.04000000e+00,  7.37000000e+00,  7.03000000e+00,\n          7.03000000e+00,  3.00000000e-01,  4.26740000e+00,\n          1.64257910e+05,  1.18102047e+05],\n        [ 7.32000000e+00,  7.40000000e+00,  7.10000000e+00,\n          7.33000000e+00, -6.00000000e-02, -8.18600000e-01,\n          1.11220580e+05,  8.06356770e+04],\n        [ 7.25000000e+00,  7.32000000e+00,  7.14000000e+00,\n          7.27000000e+00, -7.00000000e-02, -9.62900000e-01,\n          8.46587500e+04,  6.09643720e+04],\n        [ 7.20000000e+00,  7.56000000e+00,  7.20000000e+00,\n          7.20000000e+00,  3.00000000e-01,  4.16670000e+00,\n          1.15623700e+05,  8.61497100e+04]],\n\n       [[ 7.04000000e+00,  7.37000000e+00,  7.03000000e+00,\n          7.03000000e+00,  3.00000000e-01,  4.26740000e+00,\n          1.64257910e+05,  1.18102047e+05],\n        [ 7.32000000e+00,  7.40000000e+00,  7.10000000e+00,\n          7.33000000e+00, -6.00000000e-02, -8.18600000e-01,\n          1.11220580e+05,  8.06356770e+04],\n        [ 7.25000000e+00,  7.32000000e+00,  7.14000000e+00,\n          7.27000000e+00, -7.00000000e-02, -9.62900000e-01,\n          8.46587500e+04,  6.09643720e+04],\n        [ 7.20000000e+00,  7.56000000e+00,  7.20000000e+00,\n          7.20000000e+00,  3.00000000e-01,  4.16670000e+00,\n          1.15623700e+05,  8.61497100e+04],\n        [ 7.48000000e+00,  7.88000000e+00,  7.46000000e+00,\n          7.50000000e+00,  3.80000000e-01,  5.06670000e+00,\n          1.43262500e+05,  1.11029091e+05]],\n\n       [[ 7.32000000e+00,  7.40000000e+00,  7.10000000e+00,\n          7.33000000e+00, -6.00000000e-02, -8.18600000e-01,\n          1.11220580e+05,  8.06356770e+04],\n        [ 7.25000000e+00,  7.32000000e+00,  7.14000000e+00,\n          7.27000000e+00, -7.00000000e-02, -9.62900000e-01,\n          8.46587500e+04,  6.09643720e+04],\n        [ 7.20000000e+00,  7.56000000e+00,  7.20000000e+00,\n          7.20000000e+00,  3.00000000e-01,  4.16670000e+00,\n          1.15623700e+05,  8.61497100e+04],\n        [ 7.48000000e+00,  7.88000000e+00,  7.46000000e+00,\n          7.50000000e+00,  3.80000000e-01,  5.06670000e+00,\n          1.43262500e+05,  1.11029091e+05],\n        [ 7.90000000e+00,  8.03000000e+00,  7.66000000e+00,\n          7.88000000e+00,  0.00000000e+00,  0.00000000e+00,\n          1.48982530e+05,  1.17091875e+05]],\n\n       [[ 7.25000000e+00,  7.32000000e+00,  7.14000000e+00,\n          7.27000000e+00, -7.00000000e-02, -9.62900000e-01,\n          8.46587500e+04,  6.09643720e+04],\n        [ 7.20000000e+00,  7.56000000e+00,  7.20000000e+00,\n          7.20000000e+00,  3.00000000e-01,  4.16670000e+00,\n          1.15623700e+05,  8.61497100e+04],\n        [ 7.48000000e+00,  7.88000000e+00,  7.46000000e+00,\n          7.50000000e+00,  3.80000000e-01,  5.06670000e+00,\n          1.43262500e+05,  1.11029091e+05],\n        [ 7.90000000e+00,  8.03000000e+00,  7.66000000e+00,\n          7.88000000e+00,  0.00000000e+00,  0.00000000e+00,\n          1.48982530e+05,  1.17091875e+05],\n        [ 7.49000000e+00,  7.49000000e+00,  7.49000000e+00,\n          7.88000000e+00, -3.90000000e-01, -4.94920000e+00,\n          3.95330000e+04,  2.96102170e+04]],\n\n       [[ 7.20000000e+00,  7.56000000e+00,  7.20000000e+00,\n          7.20000000e+00,  3.00000000e-01,  4.16670000e+00,\n          1.15623700e+05,  8.61497100e+04],\n        [ 7.48000000e+00,  7.88000000e+00,  7.46000000e+00,\n          7.50000000e+00,  3.80000000e-01,  5.06670000e+00,\n          1.43262500e+05,  1.11029091e+05],\n        [ 7.90000000e+00,  8.03000000e+00,  7.66000000e+00,\n          7.88000000e+00,  0.00000000e+00,  0.00000000e+00,\n          1.48982530e+05,  1.17091875e+05],\n        [ 7.49000000e+00,  7.49000000e+00,  7.49000000e+00,\n          7.88000000e+00, -3.90000000e-01, -4.94920000e+00,\n          3.95330000e+04,  2.96102170e+04],\n        [ 7.12000000e+00,  7.18000000e+00,  7.12000000e+00,\n          7.49000000e+00, -3.70000000e-01, -4.93990000e+00,\n          1.97852000e+05,  1.40966825e+05]]])"
     },
     "execution_count": 129,
     "metadata": {},
     "output_type": "execute_result"
    }
   ],
   "source": [
    "X[:10]"
   ],
   "metadata": {
    "collapsed": false,
    "pycharm": {
     "name": "#%%\n"
    }
   }
  },
  {
   "cell_type": "code",
   "execution_count": 130,
   "outputs": [
    {
     "data": {
      "text/plain": "array([7.03, 7.33, 7.27, 7.2 , 7.5 , 7.88, 7.88, 7.49, 7.12, 6.76])"
     },
     "execution_count": 130,
     "metadata": {},
     "output_type": "execute_result"
    }
   ],
   "source": [
    "y[0:10]"
   ],
   "metadata": {
    "collapsed": false,
    "pycharm": {
     "name": "#%%\n"
    }
   }
  },
  {
   "cell_type": "code",
   "execution_count": 69,
   "outputs": [
    {
     "data": {
      "text/plain": "(550, 5, 8)"
     },
     "execution_count": 69,
     "metadata": {},
     "output_type": "execute_result"
    }
   ],
   "source": [
    "X.shape"
   ],
   "metadata": {
    "collapsed": false,
    "pycharm": {
     "name": "#%%\n"
    }
   }
  },
  {
   "cell_type": "markdown",
   "source": [
    "### LSTM module"
   ],
   "metadata": {
    "collapsed": false,
    "pycharm": {
     "name": "#%% md\n"
    }
   }
  },
  {
   "cell_type": "code",
   "execution_count": 43,
   "outputs": [],
   "source": [
    "class LSTMModule():\n",
    "    def __init__(self):\n",
    "        self.batch_size=32\n",
    "        self.input_shape = 5,8\n",
    "        self.hidden_size = 50\n",
    "        self.drop_out = 0.2\n",
    "        self.output_size = 1\n",
    "        self.model = self.build_model()\n",
    "\n",
    "    def build_model(self):\n",
    "        model = Sequential()\n",
    "        model.add(LSTM(self.hidden_size, return_sequences=True,input_shape=(self.input_shape)))\n",
    "        model.add(LSTM(self.hidden_size, return_sequences=False))  # 如果上个lstm 不return sequences， 则不能使用\n",
    "        model.add(Dropout(self.drop_out))\n",
    "        model.add(Dense(self.output_size))\n",
    "        model.compile(loss='mse', optimizer='adam', metrics=['mae','mape'])\n",
    "        return model"
   ],
   "metadata": {
    "collapsed": false,
    "pycharm": {
     "name": "#%%\n"
    }
   }
  },
  {
   "cell_type": "code",
   "execution_count": 94,
   "outputs": [],
   "source": [
    "lstm = LSTMModule()"
   ],
   "metadata": {
    "collapsed": false,
    "pycharm": {
     "name": "#%%\n"
    }
   }
  },
  {
   "cell_type": "code",
   "execution_count": 72,
   "outputs": [
    {
     "name": "stdout",
     "output_type": "stream",
     "text": [
      "Model: \"sequential_2\"\n",
      "_________________________________________________________________\n",
      "Layer (type)                 Output Shape              Param #   \n",
      "=================================================================\n",
      "lstm_4 (LSTM)                (None, 5, 50)             11800     \n",
      "_________________________________________________________________\n",
      "lstm_5 (LSTM)                (None, 50)                20200     \n",
      "_________________________________________________________________\n",
      "dropout_2 (Dropout)          (None, 50)                0         \n",
      "_________________________________________________________________\n",
      "dense_2 (Dense)              (None, 1)                 51        \n",
      "=================================================================\n",
      "Total params: 32,051\n",
      "Trainable params: 32,051\n",
      "Non-trainable params: 0\n",
      "_________________________________________________________________\n"
     ]
    }
   ],
   "source": [
    "lstm.model.summary()"
   ],
   "metadata": {
    "collapsed": false,
    "pycharm": {
     "name": "#%%\n"
    }
   }
  },
  {
   "cell_type": "code",
   "execution_count": 73,
   "outputs": [],
   "source": [
    "train1,test1 = all_splits[2]"
   ],
   "metadata": {
    "collapsed": false,
    "pycharm": {
     "name": "#%%\n"
    }
   }
  },
  {
   "cell_type": "code",
   "execution_count": 95,
   "outputs": [
    {
     "name": "stdout",
     "output_type": "stream",
     "text": [
      "Train on 413 samples\n",
      "Epoch 1/300\n",
      "413/413 [==============================] - 6s 14ms/sample - loss: 24.1429 - mae: 4.7451 - mape: 85.2612\n",
      "Epoch 2/300\n",
      "413/413 [==============================] - 0s 780us/sample - loss: 8.0043 - mae: 2.4678 - mape: 42.4145\n",
      "Epoch 3/300\n",
      "413/413 [==============================] - 0s 758us/sample - loss: 1.6775 - mae: 1.0497 - mape: 18.6543\n",
      "Epoch 4/300\n",
      "413/413 [==============================] - 0s 719us/sample - loss: 1.4172 - mae: 1.0156 - mape: 19.7413\n",
      "Epoch 5/300\n",
      "413/413 [==============================] - 0s 710us/sample - loss: 1.2811 - mae: 0.9639 - mape: 18.0518\n",
      "Epoch 6/300\n",
      "413/413 [==============================] - 0s 726us/sample - loss: 1.1807 - mae: 0.9094 - mape: 16.4762\n",
      "Epoch 7/300\n",
      "413/413 [==============================] - 0s 727us/sample - loss: 1.2305 - mae: 0.9325 - mape: 17.0315\n",
      "Epoch 8/300\n",
      "413/413 [==============================] - 0s 700us/sample - loss: 1.2410 - mae: 0.9359 - mape: 17.3389\n",
      "Epoch 9/300\n",
      "413/413 [==============================] - 0s 745us/sample - loss: 1.1154 - mae: 0.8816 - mape: 16.2090\n",
      "Epoch 10/300\n",
      "413/413 [==============================] - 0s 760us/sample - loss: 1.1154 - mae: 0.8910 - mape: 16.3893\n",
      "Epoch 11/300\n",
      "413/413 [==============================] - 0s 719us/sample - loss: 0.9484 - mae: 0.8027 - mape: 14.7950\n",
      "Epoch 12/300\n",
      "413/413 [==============================] - 0s 696us/sample - loss: 0.9182 - mae: 0.7840 - mape: 14.5598\n",
      "Epoch 13/300\n",
      "413/413 [==============================] - 0s 736us/sample - loss: 0.8351 - mae: 0.7438 - mape: 13.7347\n",
      "Epoch 14/300\n",
      "413/413 [==============================] - 0s 696us/sample - loss: 0.7744 - mae: 0.7171 - mape: 13.2127\n",
      "Epoch 15/300\n",
      "413/413 [==============================] - 0s 695us/sample - loss: 0.6324 - mae: 0.6311 - mape: 11.6088\n",
      "Epoch 16/300\n",
      "413/413 [==============================] - 0s 740us/sample - loss: 0.4986 - mae: 0.5674 - mape: 10.3736\n",
      "Epoch 17/300\n",
      "413/413 [==============================] - 0s 702us/sample - loss: 0.3763 - mae: 0.4824 - mape: 8.9265\n",
      "Epoch 18/300\n",
      "413/413 [==============================] - 0s 766us/sample - loss: 0.5124 - mae: 0.5899 - mape: 11.0663\n",
      "Epoch 19/300\n",
      "413/413 [==============================] - 0s 725us/sample - loss: 0.4478 - mae: 0.5384 - mape: 9.9019\n",
      "Epoch 20/300\n",
      "413/413 [==============================] - 1s 1ms/sample - loss: 0.4658 - mae: 0.5445 - mape: 9.9242\n",
      "Epoch 21/300\n",
      "413/413 [==============================] - 0s 721us/sample - loss: 0.4732 - mae: 0.5412 - mape: 9.9397\n",
      "Epoch 22/300\n",
      "413/413 [==============================] - 0s 709us/sample - loss: 0.5573 - mae: 0.5891 - mape: 10.5212\n",
      "Epoch 23/300\n",
      "413/413 [==============================] - 0s 703us/sample - loss: 0.4582 - mae: 0.5362 - mape: 9.6605\n",
      "Epoch 24/300\n",
      "413/413 [==============================] - 0s 718us/sample - loss: 0.8850 - mae: 0.7902 - mape: 14.7622\n",
      "Epoch 25/300\n",
      "413/413 [==============================] - 0s 759us/sample - loss: 0.9967 - mae: 0.8343 - mape: 15.3820\n",
      "Epoch 26/300\n",
      "413/413 [==============================] - 0s 705us/sample - loss: 0.9479 - mae: 0.8065 - mape: 14.8475\n",
      "Epoch 27/300\n",
      "413/413 [==============================] - 0s 709us/sample - loss: 0.8959 - mae: 0.7935 - mape: 14.7085\n",
      "Epoch 28/300\n",
      "413/413 [==============================] - 0s 767us/sample - loss: 0.9150 - mae: 0.7807 - mape: 14.2572\n",
      "Epoch 29/300\n",
      "413/413 [==============================] - 0s 719us/sample - loss: 1.0201 - mae: 0.8430 - mape: 15.8060\n",
      "Epoch 30/300\n",
      "413/413 [==============================] - 0s 766us/sample - loss: 0.9437 - mae: 0.7962 - mape: 14.5137\n",
      "Epoch 31/300\n",
      "413/413 [==============================] - 0s 718us/sample - loss: 0.7611 - mae: 0.7218 - mape: 13.3951\n",
      "Epoch 32/300\n",
      "413/413 [==============================] - 0s 727us/sample - loss: 0.4699 - mae: 0.5413 - mape: 9.9589\n",
      "Epoch 33/300\n",
      "413/413 [==============================] - 0s 720us/sample - loss: 0.4354 - mae: 0.5368 - mape: 9.7358\n",
      "Epoch 34/300\n",
      "413/413 [==============================] - 0s 726us/sample - loss: 0.5466 - mae: 0.5925 - mape: 10.8513\n",
      "Epoch 35/300\n",
      "413/413 [==============================] - 0s 726us/sample - loss: 0.5222 - mae: 0.5720 - mape: 10.3347\n",
      "Epoch 36/300\n",
      "413/413 [==============================] - 0s 722us/sample - loss: 0.4004 - mae: 0.5034 - mape: 9.1136\n",
      "Epoch 37/300\n",
      "413/413 [==============================] - 0s 737us/sample - loss: 0.4301 - mae: 0.5222 - mape: 9.6305\n",
      "Epoch 38/300\n",
      "413/413 [==============================] - 0s 719us/sample - loss: 0.4201 - mae: 0.5079 - mape: 9.2420\n",
      "Epoch 39/300\n",
      "413/413 [==============================] - 0s 718us/sample - loss: 0.4216 - mae: 0.5327 - mape: 9.7732\n",
      "Epoch 40/300\n",
      "413/413 [==============================] - 0s 710us/sample - loss: 0.3950 - mae: 0.5043 - mape: 9.3055\n",
      "Epoch 41/300\n",
      "413/413 [==============================] - 0s 706us/sample - loss: 0.4174 - mae: 0.5120 - mape: 9.3072\n",
      "Epoch 42/300\n",
      "413/413 [==============================] - 0s 721us/sample - loss: 0.4250 - mae: 0.5098 - mape: 9.1592\n",
      "Epoch 43/300\n",
      "413/413 [==============================] - 0s 714us/sample - loss: 0.4159 - mae: 0.5013 - mape: 9.0242\n",
      "Epoch 44/300\n",
      "413/413 [==============================] - 0s 731us/sample - loss: 0.4030 - mae: 0.5015 - mape: 9.1221\n",
      "Epoch 45/300\n",
      "413/413 [==============================] - 0s 746us/sample - loss: 0.4609 - mae: 0.5402 - mape: 9.8003\n",
      "Epoch 46/300\n",
      "413/413 [==============================] - 0s 724us/sample - loss: 0.4404 - mae: 0.5343 - mape: 9.6748\n",
      "Epoch 47/300\n",
      "413/413 [==============================] - 0s 765us/sample - loss: 0.4509 - mae: 0.5361 - mape: 9.7395\n",
      "Epoch 48/300\n",
      "413/413 [==============================] - 0s 806us/sample - loss: 0.4144 - mae: 0.5062 - mape: 9.2427\n",
      "Epoch 49/300\n",
      "413/413 [==============================] - 0s 765us/sample - loss: 0.4455 - mae: 0.5304 - mape: 9.5779\n",
      "Epoch 50/300\n",
      "413/413 [==============================] - 0s 755us/sample - loss: 0.4150 - mae: 0.5189 - mape: 9.4649\n",
      "Epoch 51/300\n",
      "413/413 [==============================] - 0s 721us/sample - loss: 0.4005 - mae: 0.4945 - mape: 8.9056\n",
      "Epoch 52/300\n",
      "413/413 [==============================] - 0s 725us/sample - loss: 0.4719 - mae: 0.5370 - mape: 9.6379\n",
      "Epoch 53/300\n",
      "413/413 [==============================] - 0s 753us/sample - loss: 0.4602 - mae: 0.5328 - mape: 9.6380\n",
      "Epoch 54/300\n",
      "413/413 [==============================] - 0s 727us/sample - loss: 0.4310 - mae: 0.5283 - mape: 9.5062\n",
      "Epoch 55/300\n",
      "413/413 [==============================] - 0s 724us/sample - loss: 0.4461 - mae: 0.5200 - mape: 9.3709\n",
      "Epoch 56/300\n",
      "413/413 [==============================] - 0s 724us/sample - loss: 0.4034 - mae: 0.5064 - mape: 9.1223\n",
      "Epoch 57/300\n",
      "413/413 [==============================] - 0s 739us/sample - loss: 0.4302 - mae: 0.5130 - mape: 9.2963\n",
      "Epoch 58/300\n",
      "413/413 [==============================] - 0s 728us/sample - loss: 0.4125 - mae: 0.4934 - mape: 8.9323\n",
      "Epoch 59/300\n",
      "413/413 [==============================] - 0s 721us/sample - loss: 0.3838 - mae: 0.4930 - mape: 8.8825\n",
      "Epoch 60/300\n",
      "413/413 [==============================] - 0s 774us/sample - loss: 0.4537 - mae: 0.5390 - mape: 9.6998\n",
      "Epoch 61/300\n",
      "413/413 [==============================] - 0s 760us/sample - loss: 0.3987 - mae: 0.5042 - mape: 9.1140\n",
      "Epoch 62/300\n",
      "413/413 [==============================] - 0s 749us/sample - loss: 0.3719 - mae: 0.4789 - mape: 8.7279\n",
      "Epoch 63/300\n",
      "413/413 [==============================] - 0s 746us/sample - loss: 0.3888 - mae: 0.4842 - mape: 8.6590\n",
      "Epoch 64/300\n",
      "413/413 [==============================] - 0s 737us/sample - loss: 0.3695 - mae: 0.4772 - mape: 8.6202\n",
      "Epoch 65/300\n",
      "413/413 [==============================] - 0s 729us/sample - loss: 0.3403 - mae: 0.4607 - mape: 8.3701\n",
      "Epoch 66/300\n",
      "413/413 [==============================] - 0s 766us/sample - loss: 0.3888 - mae: 0.4820 - mape: 8.6288\n",
      "Epoch 67/300\n",
      "413/413 [==============================] - 0s 726us/sample - loss: 0.3459 - mae: 0.4674 - mape: 8.4454\n",
      "Epoch 68/300\n",
      "413/413 [==============================] - 0s 773us/sample - loss: 0.4436 - mae: 0.5249 - mape: 9.4934\n",
      "Epoch 69/300\n",
      "413/413 [==============================] - 0s 727us/sample - loss: 0.4140 - mae: 0.5114 - mape: 9.1880\n",
      "Epoch 70/300\n",
      "413/413 [==============================] - 0s 731us/sample - loss: 0.4012 - mae: 0.4926 - mape: 8.9372\n",
      "Epoch 71/300\n",
      "413/413 [==============================] - 0s 731us/sample - loss: 0.4278 - mae: 0.5141 - mape: 9.2937\n",
      "Epoch 72/300\n",
      "413/413 [==============================] - 0s 732us/sample - loss: 0.3866 - mae: 0.4801 - mape: 8.6771\n",
      "Epoch 73/300\n",
      "413/413 [==============================] - 0s 731us/sample - loss: 0.4118 - mae: 0.4974 - mape: 8.9094\n",
      "Epoch 74/300\n",
      "413/413 [==============================] - 0s 737us/sample - loss: 0.3761 - mae: 0.4786 - mape: 8.5620\n",
      "Epoch 75/300\n",
      "413/413 [==============================] - 0s 781us/sample - loss: 0.3663 - mae: 0.4822 - mape: 8.7170\n",
      "Epoch 76/300\n",
      "413/413 [==============================] - 0s 772us/sample - loss: 0.3703 - mae: 0.4734 - mape: 8.5961\n",
      "Epoch 77/300\n",
      "413/413 [==============================] - 0s 815us/sample - loss: 0.3362 - mae: 0.4613 - mape: 8.3367\n",
      "Epoch 78/300\n",
      "413/413 [==============================] - 0s 738us/sample - loss: 0.3559 - mae: 0.4834 - mape: 8.8166\n",
      "Epoch 79/300\n",
      "413/413 [==============================] - 0s 742us/sample - loss: 0.3649 - mae: 0.4661 - mape: 8.3403\n",
      "Epoch 80/300\n",
      "413/413 [==============================] - 0s 732us/sample - loss: 0.3756 - mae: 0.4748 - mape: 8.5068\n",
      "Epoch 81/300\n",
      "413/413 [==============================] - 0s 756us/sample - loss: 0.3377 - mae: 0.4560 - mape: 8.2713\n",
      "Epoch 82/300\n",
      "413/413 [==============================] - 0s 776us/sample - loss: 0.3155 - mae: 0.4401 - mape: 8.0349\n",
      "Epoch 83/300\n",
      "413/413 [==============================] - 0s 774us/sample - loss: 0.3871 - mae: 0.4838 - mape: 8.6840\n",
      "Epoch 84/300\n",
      "413/413 [==============================] - 0s 735us/sample - loss: 0.4693 - mae: 0.5413 - mape: 9.7144\n",
      "Epoch 85/300\n",
      "413/413 [==============================] - 0s 733us/sample - loss: 0.3205 - mae: 0.4570 - mape: 8.2732\n",
      "Epoch 86/300\n",
      "413/413 [==============================] - 0s 757us/sample - loss: 0.3859 - mae: 0.4933 - mape: 8.9361\n",
      "Epoch 87/300\n",
      "413/413 [==============================] - 0s 741us/sample - loss: 0.4509 - mae: 0.5331 - mape: 9.6527\n",
      "Epoch 88/300\n",
      "413/413 [==============================] - 0s 760us/sample - loss: 0.4201 - mae: 0.5066 - mape: 9.0887\n",
      "Epoch 89/300\n",
      "413/413 [==============================] - 0s 774us/sample - loss: 0.3804 - mae: 0.4921 - mape: 9.0095\n",
      "Epoch 90/300\n",
      "413/413 [==============================] - 0s 741us/sample - loss: 0.3665 - mae: 0.4812 - mape: 8.6732\n",
      "Epoch 91/300\n",
      "413/413 [==============================] - 0s 784us/sample - loss: 0.3276 - mae: 0.4535 - mape: 8.1899\n",
      "Epoch 92/300\n",
      "413/413 [==============================] - 0s 752us/sample - loss: 0.3484 - mae: 0.4588 - mape: 8.2317\n",
      "Epoch 93/300\n",
      "413/413 [==============================] - 0s 736us/sample - loss: 0.3153 - mae: 0.4483 - mape: 8.1130\n",
      "Epoch 94/300\n",
      "413/413 [==============================] - 0s 739us/sample - loss: 0.2869 - mae: 0.4270 - mape: 7.7302\n",
      "Epoch 95/300\n",
      "413/413 [==============================] - 0s 745us/sample - loss: 0.2981 - mae: 0.4292 - mape: 7.7660\n",
      "Epoch 96/300\n",
      "413/413 [==============================] - 0s 741us/sample - loss: 0.3854 - mae: 0.4841 - mape: 8.6968\n",
      "Epoch 97/300\n",
      "413/413 [==============================] - 0s 746us/sample - loss: 0.3743 - mae: 0.4666 - mape: 8.4432\n",
      "Epoch 98/300\n",
      "413/413 [==============================] - 0s 750us/sample - loss: 0.4349 - mae: 0.5155 - mape: 9.3005\n",
      "Epoch 99/300\n",
      "413/413 [==============================] - 0s 740us/sample - loss: 0.3829 - mae: 0.4865 - mape: 8.8032\n",
      "Epoch 100/300\n",
      "413/413 [==============================] - 0s 748us/sample - loss: 0.3595 - mae: 0.4762 - mape: 8.7609\n",
      "Epoch 101/300\n",
      "413/413 [==============================] - 0s 739us/sample - loss: 0.3577 - mae: 0.4610 - mape: 8.3554\n",
      "Epoch 102/300\n",
      "413/413 [==============================] - 0s 755us/sample - loss: 0.3795 - mae: 0.4890 - mape: 8.8400\n",
      "Epoch 103/300\n",
      "413/413 [==============================] - 0s 753us/sample - loss: 0.3409 - mae: 0.4696 - mape: 8.5319\n",
      "Epoch 104/300\n",
      "413/413 [==============================] - 0s 746us/sample - loss: 0.3355 - mae: 0.4491 - mape: 8.1318\n",
      "Epoch 105/300\n",
      "413/413 [==============================] - 0s 747us/sample - loss: 0.3189 - mae: 0.4390 - mape: 7.8422\n",
      "Epoch 106/300\n",
      "413/413 [==============================] - 0s 743us/sample - loss: 0.3389 - mae: 0.4633 - mape: 8.4310\n",
      "Epoch 107/300\n",
      "413/413 [==============================] - 0s 743us/sample - loss: 0.3824 - mae: 0.4960 - mape: 9.0797\n",
      "Epoch 108/300\n",
      "413/413 [==============================] - 0s 744us/sample - loss: 0.3127 - mae: 0.4392 - mape: 7.9043\n",
      "Epoch 109/300\n",
      "413/413 [==============================] - 0s 738us/sample - loss: 0.3456 - mae: 0.4540 - mape: 8.1740\n",
      "Epoch 110/300\n",
      "413/413 [==============================] - 0s 743us/sample - loss: 0.3411 - mae: 0.4638 - mape: 8.3354\n",
      "Epoch 111/300\n",
      "413/413 [==============================] - 0s 748us/sample - loss: 0.3508 - mae: 0.4589 - mape: 8.2727\n",
      "Epoch 112/300\n",
      "413/413 [==============================] - 0s 752us/sample - loss: 0.3617 - mae: 0.4720 - mape: 8.5057\n",
      "Epoch 113/300\n",
      "413/413 [==============================] - 0s 744us/sample - loss: 0.3468 - mae: 0.4641 - mape: 8.3908\n",
      "Epoch 114/300\n",
      "413/413 [==============================] - 0s 783us/sample - loss: 0.3267 - mae: 0.4502 - mape: 8.1529\n",
      "Epoch 115/300\n",
      "413/413 [==============================] - 0s 746us/sample - loss: 0.3107 - mae: 0.4399 - mape: 7.9370\n",
      "Epoch 116/300\n",
      "413/413 [==============================] - 0s 759us/sample - loss: 0.3259 - mae: 0.4458 - mape: 8.1040\n",
      "Epoch 117/300\n",
      "413/413 [==============================] - 0s 785us/sample - loss: 0.3494 - mae: 0.4662 - mape: 8.4470\n",
      "Epoch 118/300\n",
      "413/413 [==============================] - 0s 751us/sample - loss: 0.3255 - mae: 0.4401 - mape: 7.9343\n",
      "Epoch 119/300\n",
      "413/413 [==============================] - 0s 745us/sample - loss: 0.3234 - mae: 0.4469 - mape: 8.1104\n",
      "Epoch 120/300\n",
      "413/413 [==============================] - 0s 746us/sample - loss: 0.3188 - mae: 0.4500 - mape: 8.1446\n",
      "Epoch 121/300\n",
      "413/413 [==============================] - 0s 771us/sample - loss: 0.3571 - mae: 0.4697 - mape: 8.5254\n",
      "Epoch 122/300\n",
      "413/413 [==============================] - 0s 746us/sample - loss: 0.3758 - mae: 0.4839 - mape: 8.6404\n",
      "Epoch 123/300\n",
      "413/413 [==============================] - 0s 772us/sample - loss: 0.3331 - mae: 0.4429 - mape: 7.9772\n",
      "Epoch 124/300\n",
      "413/413 [==============================] - 0s 774us/sample - loss: 0.3379 - mae: 0.4609 - mape: 8.3941\n",
      "Epoch 125/300\n",
      "413/413 [==============================] - 0s 813us/sample - loss: 0.3208 - mae: 0.4402 - mape: 7.9216\n",
      "Epoch 126/300\n",
      "413/413 [==============================] - 0s 750us/sample - loss: 0.3906 - mae: 0.4869 - mape: 8.6852\n",
      "Epoch 127/300\n",
      "413/413 [==============================] - 0s 748us/sample - loss: 0.3237 - mae: 0.4473 - mape: 8.0161\n",
      "Epoch 128/300\n",
      "413/413 [==============================] - 0s 745us/sample - loss: 0.2973 - mae: 0.4281 - mape: 7.7237\n",
      "Epoch 129/300\n",
      "413/413 [==============================] - 0s 789us/sample - loss: 0.3350 - mae: 0.4543 - mape: 8.2190\n",
      "Epoch 130/300\n",
      "413/413 [==============================] - 0s 764us/sample - loss: 0.3235 - mae: 0.4472 - mape: 8.0935\n",
      "Epoch 131/300\n",
      "413/413 [==============================] - 0s 785us/sample - loss: 0.2944 - mae: 0.4296 - mape: 7.7993\n",
      "Epoch 132/300\n",
      "413/413 [==============================] - 0s 748us/sample - loss: 0.3082 - mae: 0.4326 - mape: 7.8651\n",
      "Epoch 133/300\n",
      "413/413 [==============================] - 0s 755us/sample - loss: 0.3249 - mae: 0.4551 - mape: 8.2289\n",
      "Epoch 134/300\n",
      "413/413 [==============================] - 0s 753us/sample - loss: 0.3395 - mae: 0.4585 - mape: 8.3143\n",
      "Epoch 135/300\n",
      "413/413 [==============================] - 0s 784us/sample - loss: 0.3471 - mae: 0.4615 - mape: 8.3460\n",
      "Epoch 136/300\n",
      "413/413 [==============================] - 0s 745us/sample - loss: 0.3082 - mae: 0.4289 - mape: 7.6818\n",
      "Epoch 137/300\n",
      "413/413 [==============================] - 0s 752us/sample - loss: 0.3383 - mae: 0.4561 - mape: 8.1505\n",
      "Epoch 138/300\n",
      "413/413 [==============================] - 0s 753us/sample - loss: 0.3246 - mae: 0.4426 - mape: 7.9616\n",
      "Epoch 139/300\n",
      "413/413 [==============================] - 0s 745us/sample - loss: 0.3243 - mae: 0.4481 - mape: 8.1381\n",
      "Epoch 140/300\n",
      "413/413 [==============================] - 0s 770us/sample - loss: 0.3157 - mae: 0.4389 - mape: 7.8779\n",
      "Epoch 141/300\n",
      "413/413 [==============================] - 0s 743us/sample - loss: 0.3222 - mae: 0.4608 - mape: 8.3203\n",
      "Epoch 142/300\n",
      "413/413 [==============================] - 0s 829us/sample - loss: 0.3430 - mae: 0.4542 - mape: 8.2384\n",
      "Epoch 143/300\n",
      "413/413 [==============================] - 0s 818us/sample - loss: 0.3183 - mae: 0.4513 - mape: 8.1062\n",
      "Epoch 144/300\n",
      "413/413 [==============================] - 0s 749us/sample - loss: 0.3232 - mae: 0.4311 - mape: 7.7051\n",
      "Epoch 145/300\n",
      "413/413 [==============================] - 0s 756us/sample - loss: 0.3284 - mae: 0.4425 - mape: 7.9391\n",
      "Epoch 146/300\n",
      "413/413 [==============================] - 0s 751us/sample - loss: 0.3330 - mae: 0.4491 - mape: 8.1445\n",
      "Epoch 147/300\n",
      "413/413 [==============================] - 0s 781us/sample - loss: 0.3118 - mae: 0.4505 - mape: 8.0868\n",
      "Epoch 148/300\n",
      "413/413 [==============================] - 0s 751us/sample - loss: 0.3124 - mae: 0.4266 - mape: 7.6398\n",
      "Epoch 149/300\n",
      "413/413 [==============================] - 0s 752us/sample - loss: 0.3219 - mae: 0.4427 - mape: 8.0561\n",
      "Epoch 150/300\n",
      "413/413 [==============================] - 0s 750us/sample - loss: 0.2872 - mae: 0.4257 - mape: 7.6814\n",
      "Epoch 151/300\n",
      "413/413 [==============================] - 0s 753us/sample - loss: 0.3491 - mae: 0.4677 - mape: 8.4267\n",
      "Epoch 152/300\n",
      "413/413 [==============================] - 0s 748us/sample - loss: 0.2928 - mae: 0.4248 - mape: 7.7035\n",
      "Epoch 153/300\n",
      "413/413 [==============================] - 0s 750us/sample - loss: 0.3199 - mae: 0.4331 - mape: 7.7653\n",
      "Epoch 154/300\n",
      "413/413 [==============================] - 0s 748us/sample - loss: 0.3301 - mae: 0.4444 - mape: 7.9577\n",
      "Epoch 155/300\n",
      "413/413 [==============================] - 0s 750us/sample - loss: 0.3481 - mae: 0.4559 - mape: 8.1734\n",
      "Epoch 156/300\n",
      "413/413 [==============================] - 0s 760us/sample - loss: 0.3133 - mae: 0.4321 - mape: 7.7872\n",
      "Epoch 157/300\n",
      "413/413 [==============================] - 0s 810us/sample - loss: 0.3172 - mae: 0.4349 - mape: 7.8062\n",
      "Epoch 158/300\n",
      "413/413 [==============================] - 0s 757us/sample - loss: 0.3331 - mae: 0.4521 - mape: 8.1458\n",
      "Epoch 159/300\n",
      "413/413 [==============================] - 0s 790us/sample - loss: 0.2862 - mae: 0.4109 - mape: 7.3719\n",
      "Epoch 160/300\n",
      "413/413 [==============================] - 0s 758us/sample - loss: 0.3052 - mae: 0.4415 - mape: 7.9932\n",
      "Epoch 161/300\n",
      "413/413 [==============================] - 0s 751us/sample - loss: 0.2974 - mae: 0.4275 - mape: 7.6579\n",
      "Epoch 162/300\n",
      "413/413 [==============================] - 0s 792us/sample - loss: 0.3078 - mae: 0.4439 - mape: 8.0704\n",
      "Epoch 163/300\n",
      "413/413 [==============================] - 0s 751us/sample - loss: 0.2977 - mae: 0.4386 - mape: 7.9775\n",
      "Epoch 164/300\n",
      "413/413 [==============================] - 0s 946us/sample - loss: 0.3057 - mae: 0.4336 - mape: 7.8554\n",
      "Epoch 165/300\n",
      "413/413 [==============================] - 1s 1ms/sample - loss: 0.3173 - mae: 0.4401 - mape: 7.8295\n",
      "Epoch 166/300\n",
      "413/413 [==============================] - 1s 2ms/sample - loss: 0.3750 - mae: 0.4699 - mape: 8.3783\n",
      "Epoch 167/300\n",
      "413/413 [==============================] - 0s 902us/sample - loss: 0.3033 - mae: 0.4312 - mape: 7.9065\n",
      "Epoch 168/300\n",
      "413/413 [==============================] - 0s 1ms/sample - loss: 0.2809 - mae: 0.4115 - mape: 7.4364\n",
      "Epoch 169/300\n",
      "413/413 [==============================] - 1s 2ms/sample - loss: 0.3221 - mae: 0.4372 - mape: 7.8765\n",
      "Epoch 170/300\n",
      "413/413 [==============================] - 1s 2ms/sample - loss: 0.2803 - mae: 0.4107 - mape: 7.3885\n",
      "Epoch 171/300\n",
      "413/413 [==============================] - 0s 856us/sample - loss: 0.3104 - mae: 0.4375 - mape: 7.9405\n",
      "Epoch 172/300\n",
      "413/413 [==============================] - 0s 945us/sample - loss: 0.3073 - mae: 0.4374 - mape: 7.9728\n",
      "Epoch 173/300\n",
      "413/413 [==============================] - 0s 978us/sample - loss: 0.2979 - mae: 0.4287 - mape: 7.6969\n",
      "Epoch 174/300\n",
      "413/413 [==============================] - 0s 1ms/sample - loss: 0.2704 - mae: 0.4075 - mape: 7.5078\n",
      "Epoch 175/300\n",
      "413/413 [==============================] - 0s 862us/sample - loss: 0.3058 - mae: 0.4285 - mape: 7.7217\n",
      "Epoch 176/300\n",
      "413/413 [==============================] - 0s 939us/sample - loss: 0.3101 - mae: 0.4276 - mape: 7.6170\n",
      "Epoch 177/300\n",
      "413/413 [==============================] - 0s 1ms/sample - loss: 0.3256 - mae: 0.4464 - mape: 7.9948\n",
      "Epoch 178/300\n",
      "413/413 [==============================] - 0s 1ms/sample - loss: 0.4093 - mae: 0.4930 - mape: 8.7571\n",
      "Epoch 179/300\n",
      "413/413 [==============================] - 0s 1ms/sample - loss: 0.3988 - mae: 0.4919 - mape: 8.9014\n",
      "Epoch 180/300\n",
      "413/413 [==============================] - 0s 1ms/sample - loss: 0.3810 - mae: 0.4720 - mape: 8.5127\n",
      "Epoch 181/300\n",
      "413/413 [==============================] - 1s 3ms/sample - loss: 0.3487 - mae: 0.4570 - mape: 8.2392\n",
      "Epoch 182/300\n",
      "413/413 [==============================] - 1s 4ms/sample - loss: 0.3172 - mae: 0.4460 - mape: 7.9860\n",
      "Epoch 183/300\n",
      "413/413 [==============================] - 2s 4ms/sample - loss: 0.2813 - mae: 0.4100 - mape: 7.4054\n",
      "Epoch 184/300\n",
      "413/413 [==============================] - 2s 4ms/sample - loss: 0.3337 - mae: 0.4512 - mape: 8.1847\n",
      "Epoch 185/300\n",
      "413/413 [==============================] - 1s 2ms/sample - loss: 0.3379 - mae: 0.4528 - mape: 8.1640\n",
      "Epoch 186/300\n",
      "413/413 [==============================] - 0s 899us/sample - loss: 0.3393 - mae: 0.4618 - mape: 8.3433\n",
      "Epoch 187/300\n",
      "413/413 [==============================] - 0s 969us/sample - loss: 0.3153 - mae: 0.4453 - mape: 8.0247\n",
      "Epoch 188/300\n",
      "413/413 [==============================] - 0s 1ms/sample - loss: 0.3638 - mae: 0.4754 - mape: 8.6360\n",
      "Epoch 189/300\n",
      "413/413 [==============================] - 0s 1ms/sample - loss: 0.2744 - mae: 0.4055 - mape: 7.4079\n",
      "Epoch 190/300\n",
      "413/413 [==============================] - 0s 1ms/sample - loss: 0.3081 - mae: 0.4446 - mape: 7.9666\n",
      "Epoch 191/300\n",
      "413/413 [==============================] - 1s 1ms/sample - loss: 0.2945 - mae: 0.4195 - mape: 7.5624\n",
      "Epoch 192/300\n",
      "413/413 [==============================] - 1s 1ms/sample - loss: 0.3118 - mae: 0.4259 - mape: 7.6646\n",
      "Epoch 193/300\n",
      "413/413 [==============================] - 1s 1ms/sample - loss: 0.3457 - mae: 0.4458 - mape: 7.9659\n",
      "Epoch 194/300\n",
      "413/413 [==============================] - 1s 1ms/sample - loss: 0.3386 - mae: 0.4363 - mape: 7.7232\n",
      "Epoch 195/300\n",
      "413/413 [==============================] - 1s 1ms/sample - loss: 0.3702 - mae: 0.4846 - mape: 8.7274\n",
      "Epoch 196/300\n",
      "413/413 [==============================] - 1s 1ms/sample - loss: 0.3406 - mae: 0.4588 - mape: 8.3092\n",
      "Epoch 197/300\n",
      "413/413 [==============================] - 1s 2ms/sample - loss: 0.3173 - mae: 0.4229 - mape: 7.5612\n",
      "Epoch 198/300\n",
      "413/413 [==============================] - 1s 3ms/sample - loss: 0.2924 - mae: 0.4241 - mape: 7.6724\n",
      "Epoch 199/300\n",
      "413/413 [==============================] - 1s 3ms/sample - loss: 0.2987 - mae: 0.4199 - mape: 7.5187\n",
      "Epoch 200/300\n",
      "413/413 [==============================] - 1s 2ms/sample - loss: 0.3056 - mae: 0.4324 - mape: 7.8007\n",
      "Epoch 201/300\n",
      "413/413 [==============================] - 1s 3ms/sample - loss: 0.3104 - mae: 0.4322 - mape: 7.7950\n",
      "Epoch 202/300\n",
      "413/413 [==============================] - 1s 3ms/sample - loss: 0.3043 - mae: 0.4331 - mape: 7.7874\n",
      "Epoch 203/300\n",
      "413/413 [==============================] - 1s 2ms/sample - loss: 0.2994 - mae: 0.4343 - mape: 7.8740\n",
      "Epoch 204/300\n",
      "413/413 [==============================] - 0s 919us/sample - loss: 0.3124 - mae: 0.4483 - mape: 8.1389\n",
      "Epoch 205/300\n",
      "413/413 [==============================] - 0s 1ms/sample - loss: 0.2840 - mae: 0.4111 - mape: 7.4489\n",
      "Epoch 206/300\n",
      "413/413 [==============================] - 0s 998us/sample - loss: 0.2871 - mae: 0.4147 - mape: 7.5800\n",
      "Epoch 207/300\n",
      "413/413 [==============================] - 0s 1ms/sample - loss: 0.3200 - mae: 0.4387 - mape: 7.8786\n",
      "Epoch 208/300\n",
      "413/413 [==============================] - 0s 1ms/sample - loss: 0.2802 - mae: 0.4151 - mape: 7.5199\n",
      "Epoch 209/300\n",
      "413/413 [==============================] - 0s 921us/sample - loss: 0.3071 - mae: 0.4351 - mape: 7.8157\n",
      "Epoch 210/300\n",
      "413/413 [==============================] - 0s 960us/sample - loss: 0.3449 - mae: 0.4543 - mape: 8.1742\n",
      "Epoch 211/300\n",
      "413/413 [==============================] - 0s 1ms/sample - loss: 0.2749 - mae: 0.4152 - mape: 7.5138\n",
      "Epoch 212/300\n",
      "413/413 [==============================] - 0s 990us/sample - loss: 0.2977 - mae: 0.4265 - mape: 7.7304\n",
      "Epoch 213/300\n",
      "413/413 [==============================] - 0s 913us/sample - loss: 0.3077 - mae: 0.4244 - mape: 7.6102\n",
      "Epoch 214/300\n",
      "413/413 [==============================] - 0s 962us/sample - loss: 0.3345 - mae: 0.4656 - mape: 8.3670\n",
      "Epoch 215/300\n",
      "413/413 [==============================] - 0s 1ms/sample - loss: 0.2914 - mae: 0.4202 - mape: 7.5251\n",
      "Epoch 216/300\n",
      "413/413 [==============================] - 0s 1ms/sample - loss: 0.3146 - mae: 0.4341 - mape: 7.8101\n",
      "Epoch 217/300\n",
      "413/413 [==============================] - 0s 1ms/sample - loss: 0.2912 - mae: 0.4255 - mape: 7.7267\n",
      "Epoch 218/300\n",
      "413/413 [==============================] - 0s 879us/sample - loss: 0.2837 - mae: 0.4211 - mape: 7.6145\n",
      "Epoch 219/300\n",
      "413/413 [==============================] - 0s 945us/sample - loss: 0.2701 - mae: 0.4136 - mape: 7.5065\n",
      "Epoch 220/300\n",
      "413/413 [==============================] - 0s 1ms/sample - loss: 0.3063 - mae: 0.4339 - mape: 7.8218\n",
      "Epoch 221/300\n",
      "413/413 [==============================] - 0s 1ms/sample - loss: 0.2890 - mae: 0.4227 - mape: 7.6975\n",
      "Epoch 222/300\n",
      "413/413 [==============================] - 0s 1ms/sample - loss: 0.3238 - mae: 0.4509 - mape: 8.1523\n",
      "Epoch 223/300\n",
      "413/413 [==============================] - 0s 1ms/sample - loss: 0.2938 - mae: 0.4300 - mape: 7.7976\n",
      "Epoch 224/300\n",
      "413/413 [==============================] - 0s 1ms/sample - loss: 0.3430 - mae: 0.4642 - mape: 8.3757\n",
      "Epoch 225/300\n",
      "413/413 [==============================] - 0s 1ms/sample - loss: 0.2744 - mae: 0.4029 - mape: 7.3057\n",
      "Epoch 226/300\n",
      "413/413 [==============================] - 1s 1ms/sample - loss: 0.2807 - mae: 0.4106 - mape: 7.3840\n",
      "Epoch 227/300\n",
      "413/413 [==============================] - 0s 905us/sample - loss: 0.2541 - mae: 0.3986 - mape: 7.2335\n",
      "Epoch 228/300\n",
      "413/413 [==============================] - 0s 885us/sample - loss: 0.3516 - mae: 0.4682 - mape: 8.5173\n",
      "Epoch 229/300\n",
      "413/413 [==============================] - 0s 963us/sample - loss: 0.3261 - mae: 0.4493 - mape: 8.0355\n",
      "Epoch 230/300\n",
      "413/413 [==============================] - 0s 1ms/sample - loss: 0.3197 - mae: 0.4478 - mape: 8.0918\n",
      "Epoch 231/300\n",
      "413/413 [==============================] - 0s 1ms/sample - loss: 0.3531 - mae: 0.4619 - mape: 8.3419\n",
      "Epoch 232/300\n",
      "413/413 [==============================] - 0s 1ms/sample - loss: 0.2950 - mae: 0.4288 - mape: 7.6834\n",
      "Epoch 233/300\n",
      "413/413 [==============================] - 1s 3ms/sample - loss: 0.3142 - mae: 0.4418 - mape: 8.0116\n",
      "Epoch 234/300\n",
      "413/413 [==============================] - 1s 3ms/sample - loss: 0.3034 - mae: 0.4307 - mape: 7.7779\n",
      "Epoch 235/300\n",
      "413/413 [==============================] - 1s 2ms/sample - loss: 0.2978 - mae: 0.4224 - mape: 7.6538\n",
      "Epoch 236/300\n",
      "413/413 [==============================] - 1s 1ms/sample - loss: 0.3537 - mae: 0.4551 - mape: 8.1349\n",
      "Epoch 237/300\n",
      "413/413 [==============================] - 1s 1ms/sample - loss: 0.3661 - mae: 0.4618 - mape: 8.3107\n",
      "Epoch 238/300\n",
      "413/413 [==============================] - 2s 4ms/sample - loss: 0.3357 - mae: 0.4514 - mape: 8.1452\n",
      "Epoch 239/300\n",
      "413/413 [==============================] - 1s 3ms/sample - loss: 0.2980 - mae: 0.4238 - mape: 7.5999\n",
      "Epoch 240/300\n",
      "413/413 [==============================] - 0s 886us/sample - loss: 0.2990 - mae: 0.4254 - mape: 7.7156\n",
      "Epoch 241/300\n",
      "413/413 [==============================] - 0s 977us/sample - loss: 0.3016 - mae: 0.4263 - mape: 7.7412\n",
      "Epoch 242/300\n",
      "413/413 [==============================] - 1s 2ms/sample - loss: 0.2954 - mae: 0.4253 - mape: 7.6494\n",
      "Epoch 243/300\n",
      "413/413 [==============================] - 2s 4ms/sample - loss: 0.2823 - mae: 0.4206 - mape: 7.6586\n",
      "Epoch 244/300\n",
      "413/413 [==============================] - 1s 3ms/sample - loss: 0.2980 - mae: 0.4239 - mape: 7.6258\n",
      "Epoch 245/300\n",
      "413/413 [==============================] - 0s 1ms/sample - loss: 0.3205 - mae: 0.4460 - mape: 8.0633\n",
      "Epoch 246/300\n",
      "413/413 [==============================] - 0s 952us/sample - loss: 0.2957 - mae: 0.4302 - mape: 7.7766\n",
      "Epoch 247/300\n",
      "413/413 [==============================] - 0s 1ms/sample - loss: 0.2860 - mae: 0.4137 - mape: 7.4460\n",
      "Epoch 248/300\n",
      "413/413 [==============================] - 0s 879us/sample - loss: 0.3131 - mae: 0.4376 - mape: 7.8936\n",
      "Epoch 249/300\n",
      "413/413 [==============================] - 0s 991us/sample - loss: 0.3128 - mae: 0.4271 - mape: 7.6220\n",
      "Epoch 250/300\n",
      "413/413 [==============================] - 0s 1000us/sample - loss: 0.3056 - mae: 0.4303 - mape: 7.6414\n",
      "Epoch 251/300\n",
      "413/413 [==============================] - 0s 1ms/sample - loss: 0.2701 - mae: 0.4176 - mape: 7.6377\n",
      "Epoch 252/300\n",
      "413/413 [==============================] - 0s 1ms/sample - loss: 0.2638 - mae: 0.3971 - mape: 7.1972\n",
      "Epoch 253/300\n",
      "413/413 [==============================] - 1s 1ms/sample - loss: 0.2500 - mae: 0.3789 - mape: 6.8248\n",
      "Epoch 254/300\n",
      "413/413 [==============================] - 1s 1ms/sample - loss: 0.3539 - mae: 0.4501 - mape: 8.0743\n",
      "Epoch 255/300\n",
      "413/413 [==============================] - 1s 1ms/sample - loss: 0.3252 - mae: 0.4362 - mape: 7.8771\n",
      "Epoch 256/300\n",
      "413/413 [==============================] - 1s 1ms/sample - loss: 0.3243 - mae: 0.4450 - mape: 7.9303\n",
      "Epoch 257/300\n",
      "413/413 [==============================] - 1s 1ms/sample - loss: 0.3039 - mae: 0.4328 - mape: 7.7788\n",
      "Epoch 258/300\n",
      "413/413 [==============================] - 1s 3ms/sample - loss: 0.2985 - mae: 0.4210 - mape: 7.6071\n",
      "Epoch 259/300\n",
      "413/413 [==============================] - 1s 3ms/sample - loss: 0.2907 - mae: 0.4177 - mape: 7.5402\n",
      "Epoch 260/300\n",
      "413/413 [==============================] - 1s 3ms/sample - loss: 0.3458 - mae: 0.4520 - mape: 8.1297\n",
      "Epoch 261/300\n",
      "413/413 [==============================] - 2s 4ms/sample - loss: 0.2390 - mae: 0.3886 - mape: 7.0898\n",
      "Epoch 262/300\n",
      "413/413 [==============================] - 1s 3ms/sample - loss: 0.2865 - mae: 0.4146 - mape: 7.5284\n",
      "Epoch 263/300\n",
      "413/413 [==============================] - 1s 2ms/sample - loss: 0.3045 - mae: 0.4197 - mape: 7.5661\n",
      "Epoch 264/300\n",
      "413/413 [==============================] - 0s 885us/sample - loss: 0.2864 - mae: 0.4207 - mape: 7.6189\n",
      "Epoch 265/300\n",
      "413/413 [==============================] - 0s 997us/sample - loss: 0.2989 - mae: 0.4397 - mape: 7.8825\n",
      "Epoch 266/300\n",
      "413/413 [==============================] - 0s 1ms/sample - loss: 0.2943 - mae: 0.4259 - mape: 7.6297\n",
      "Epoch 267/300\n",
      "413/413 [==============================] - 0s 1ms/sample - loss: 0.3130 - mae: 0.4383 - mape: 7.8476\n",
      "Epoch 268/300\n",
      "413/413 [==============================] - 0s 1ms/sample - loss: 0.3045 - mae: 0.4222 - mape: 7.6356\n",
      "Epoch 269/300\n",
      "413/413 [==============================] - 1s 1ms/sample - loss: 0.2885 - mae: 0.4262 - mape: 7.7406\n",
      "Epoch 270/300\n",
      "413/413 [==============================] - 1s 1ms/sample - loss: 0.2970 - mae: 0.4329 - mape: 7.8469\n",
      "Epoch 271/300\n",
      "413/413 [==============================] - 1s 1ms/sample - loss: 0.3182 - mae: 0.4332 - mape: 7.7687\n",
      "Epoch 272/300\n",
      "413/413 [==============================] - 0s 1ms/sample - loss: 0.2984 - mae: 0.4198 - mape: 7.5606\n",
      "Epoch 273/300\n",
      "413/413 [==============================] - 1s 1ms/sample - loss: 0.3063 - mae: 0.4287 - mape: 7.7224\n",
      "Epoch 274/300\n",
      "413/413 [==============================] - 0s 954us/sample - loss: 0.3156 - mae: 0.4368 - mape: 7.8770\n",
      "Epoch 275/300\n",
      "413/413 [==============================] - 0s 986us/sample - loss: 0.2948 - mae: 0.4422 - mape: 8.0053\n",
      "Epoch 276/300\n",
      "413/413 [==============================] - 0s 1ms/sample - loss: 0.3075 - mae: 0.4435 - mape: 7.9796\n",
      "Epoch 277/300\n",
      "413/413 [==============================] - 0s 1ms/sample - loss: 0.3210 - mae: 0.4477 - mape: 8.0326\n",
      "Epoch 278/300\n",
      "413/413 [==============================] - 0s 1ms/sample - loss: 0.2982 - mae: 0.4326 - mape: 7.8179\n",
      "Epoch 279/300\n",
      "413/413 [==============================] - 0s 1ms/sample - loss: 0.2907 - mae: 0.4308 - mape: 7.7952\n",
      "Epoch 280/300\n",
      "413/413 [==============================] - 1s 1ms/sample - loss: 0.3224 - mae: 0.4374 - mape: 7.8432\n",
      "Epoch 281/300\n",
      "413/413 [==============================] - 1s 1ms/sample - loss: 0.2834 - mae: 0.4180 - mape: 7.6142\n",
      "Epoch 282/300\n",
      "413/413 [==============================] - 0s 1ms/sample - loss: 0.3404 - mae: 0.4593 - mape: 8.2787\n",
      "Epoch 283/300\n",
      "413/413 [==============================] - 0s 947us/sample - loss: 0.2829 - mae: 0.4207 - mape: 7.6641\n",
      "Epoch 284/300\n",
      "413/413 [==============================] - 0s 1ms/sample - loss: 0.3263 - mae: 0.4398 - mape: 7.8887\n",
      "Epoch 285/300\n",
      "413/413 [==============================] - 0s 1ms/sample - loss: 0.2867 - mae: 0.4213 - mape: 7.5737\n",
      "Epoch 286/300\n",
      "413/413 [==============================] - 0s 1ms/sample - loss: 0.3427 - mae: 0.4495 - mape: 8.1237\n",
      "Epoch 287/300\n",
      "413/413 [==============================] - 0s 1ms/sample - loss: 0.2815 - mae: 0.4107 - mape: 7.3156\n",
      "Epoch 288/300\n",
      "413/413 [==============================] - 0s 1ms/sample - loss: 0.2768 - mae: 0.4185 - mape: 7.4959\n",
      "Epoch 289/300\n",
      "413/413 [==============================] - 1s 1ms/sample - loss: 0.2632 - mae: 0.4071 - mape: 7.3773\n",
      "Epoch 290/300\n",
      "413/413 [==============================] - 0s 1ms/sample - loss: 0.3057 - mae: 0.4345 - mape: 7.7744\n",
      "Epoch 291/300\n",
      "413/413 [==============================] - 0s 978us/sample - loss: 0.2997 - mae: 0.4305 - mape: 7.8074\n",
      "Epoch 292/300\n",
      "413/413 [==============================] - 0s 994us/sample - loss: 0.2975 - mae: 0.4224 - mape: 7.6489\n",
      "Epoch 293/300\n",
      "413/413 [==============================] - 0s 1ms/sample - loss: 0.3152 - mae: 0.4327 - mape: 7.7742\n",
      "Epoch 294/300\n",
      "413/413 [==============================] - 1s 1ms/sample - loss: 0.3091 - mae: 0.4329 - mape: 7.8097\n",
      "Epoch 295/300\n",
      "413/413 [==============================] - 2s 4ms/sample - loss: 0.3241 - mae: 0.4425 - mape: 8.0032\n",
      "Epoch 296/300\n",
      "413/413 [==============================] - 1s 3ms/sample - loss: 0.2959 - mae: 0.4151 - mape: 7.3966\n",
      "Epoch 297/300\n",
      "413/413 [==============================] - 1s 3ms/sample - loss: 0.2682 - mae: 0.4126 - mape: 7.4384\n",
      "Epoch 298/300\n",
      "413/413 [==============================] - 1s 3ms/sample - loss: 0.3052 - mae: 0.4353 - mape: 7.8557\n",
      "Epoch 299/300\n",
      "413/413 [==============================] - 1s 2ms/sample - loss: 0.2672 - mae: 0.4014 - mape: 7.2501\n",
      "Epoch 300/300\n",
      "413/413 [==============================] - 1s 2ms/sample - loss: 0.2900 - mae: 0.4326 - mape: 7.8577\n"
     ]
    }
   ],
   "source": [
    "history = lstm.model.fit(X[train1],y[train1],epochs=300)"
   ],
   "metadata": {
    "collapsed": false,
    "pycharm": {
     "name": "#%%\n"
    }
   }
  },
  {
   "cell_type": "code",
   "execution_count": 23,
   "outputs": [],
   "source": [
    "from sklearn.metrics import mean_absolute_error"
   ],
   "metadata": {
    "collapsed": false,
    "pycharm": {
     "name": "#%%\n"
    }
   }
  },
  {
   "cell_type": "code",
   "execution_count": 75,
   "outputs": [
    {
     "name": "stdout",
     "output_type": "stream",
     "text": [
      "137/1 [==============================================================================================================================================================================================================================================================================================================================================================================================================================================================================================================================================================================================================================================================================================================================================================================================================================================================================================================================================================================================================================================================================================================================================================================================================================================================================================================================================================================================================================================================================================================================================================================================================================================================================================================================================================================================================================================================================================================================================================================================================================================================================================================================================================================================================================================================================================================================================================================================================================================================================================================================================================================================================================================================================================================================================================================================================================================================================================================================================================================================================================================================================================================================================================================================================================================================================================================================================================================================================================================================================================================================================================================================================================================================================================================================================================================================================================================================================================================================================================================================================================================================================================================================================================================================================================================================================] - 3s 24ms/sample - loss: 0.1827 - mae: 0.3749 - mape: 6.2527\n"
     ]
    },
    {
     "data": {
      "text/plain": "[0.23273413525010547, 0.3749046, 6.252651]"
     },
     "execution_count": 75,
     "metadata": {},
     "output_type": "execute_result"
    }
   ],
   "source": [
    "lstm.model.evaluate(X[test1],y[test1])"
   ],
   "metadata": {
    "collapsed": false,
    "pycharm": {
     "name": "#%%\n"
    }
   }
  },
  {
   "cell_type": "code",
   "execution_count": 96,
   "outputs": [],
   "source": [
    "original = y[test1]\n",
    "pred = lstm.model.predict(X[test1])"
   ],
   "metadata": {
    "collapsed": false,
    "pycharm": {
     "name": "#%%\n"
    }
   }
  },
  {
   "cell_type": "code",
   "execution_count": 97,
   "outputs": [
    {
     "data": {
      "text/plain": "0.36069920324061044"
     },
     "execution_count": 97,
     "metadata": {},
     "output_type": "execute_result"
    }
   ],
   "source": [
    "mean_absolute_error(pred,original)"
   ],
   "metadata": {
    "collapsed": false,
    "pycharm": {
     "name": "#%%\n"
    }
   }
  },
  {
   "cell_type": "code",
   "execution_count": 98,
   "outputs": [
    {
     "data": {
      "text/plain": "<Figure size 432x288 with 1 Axes>",
      "image/png": "[encoded data removed]"
     },
     "metadata": {
      "needs_background": "light"
     },
     "output_type": "display_data"
    }
   ],
   "source": [
    "%matplotlib inline\n",
    "import matplotlib.pyplot as plt\n",
    "\n",
    "plt.plot(original, color = 'red', label = 'Real Stock Price')\n",
    "plt.plot(pred, color = 'blue', label = 'Predicted Stock Price')\n",
    "plt.title('Stock Price Prediction')\n",
    "plt.xlabel('Time')\n",
    "plt.ylabel('Google Stock Price')\n",
    "plt.legend()\n",
    "plt.show()"
   ],
   "metadata": {
    "collapsed": false,
    "pycharm": {
     "name": "#%%\n"
    }
   }
  },
  {
   "cell_type": "code",
   "execution_count": 80,
   "outputs": [
    {
     "data": {
      "text/plain": "<Figure size 432x288 with 1 Axes>",
      "image/png": "[encoded data removed]"
     },
     "metadata": {
      "needs_background": "light"
     },
     "output_type": "display_data"
    }
   ],
   "source": [
    "p1 = plt.plot(history.history['loss'], color='blue', label='train')\n",
    "p2 = plt.plot(history.history['val_loss'], color='yellow',label='test')\n",
    "plt.legend([\"train\",\"test\"])\n",
    "plt.show()"
   ],
   "metadata": {
    "collapsed": false,
    "pycharm": {
     "name": "#%%\n"
    }
   }
  },
  {
   "cell_type": "code",
   "execution_count": 99,
   "outputs": [],
   "source": [
    "from sklearn.datasets import fetch_openml\n",
    "bike_sharing = fetch_openml('Bike_Sharing_Demand', version=2, as_frame=True)\n",
    "df = bike_sharing.frame"
   ],
   "metadata": {
    "collapsed": false,
    "pycharm": {
     "name": "#%%\n"
    }
   }
  },
  {
   "cell_type": "code",
   "execution_count": 100,
   "outputs": [
    {
     "data": {
      "text/plain": "   season  year  month  hour holiday  weekday workingday weather  temp  \\\n0  spring   0.0    1.0   0.0   False      6.0      False   clear  9.84   \n1  spring   0.0    1.0   1.0   False      6.0      False   clear  9.02   \n2  spring   0.0    1.0   2.0   False      6.0      False   clear  9.02   \n3  spring   0.0    1.0   3.0   False      6.0      False   clear  9.84   \n4  spring   0.0    1.0   4.0   False      6.0      False   clear  9.84   \n\n   feel_temp  humidity  windspeed  count  \n0     14.395      0.81        0.0   16.0  \n1     13.635      0.80        0.0   40.0  \n2     13.635      0.80        0.0   32.0  \n3     14.395      0.75        0.0   13.0  \n4     14.395      0.75        0.0    1.0  ",
      "text/html": "<div>\n<style scoped>\n    .dataframe tbody tr th:only-of-type {\n        vertical-align: middle;\n    }\n\n    .dataframe tbody tr th {\n        vertical-align: top;\n    }\n\n    .dataframe thead th {\n        text-align: right;\n    }\n</style>\n<table border=\"1\" class=\"dataframe\">\n  <thead>\n    <tr style=\"text-align: right;\">\n      <th></th>\n      <th>season</th>\n      <th>year</th>\n      <th>month</th>\n      <th>hour</th>\n      <th>holiday</th>\n      <th>weekday</th>\n      <th>workingday</th>\n      <th>weather</th>\n      <th>temp</th>\n      <th>feel_temp</th>\n      <th>humidity</th>\n      <th>windspeed</th>\n      <th>count</th>\n    </tr>\n  </thead>\n  <tbody>\n    <tr>\n      <th>0</th>\n      <td>spring</td>\n      <td>0.0</td>\n      <td>1.0</td>\n      <td>0.0</td>\n      <td>False</td>\n      <td>6.0</td>\n      <td>False</td>\n      <td>clear</td>\n      <td>9.84</td>\n      <td>14.395</td>\n      <td>0.81</td>\n      <td>0.0</td>\n      <td>16.0</td>\n    </tr>\n    <tr>\n      <th>1</th>\n      <td>spring</td>\n      <td>0.0</td>\n      <td>1.0</td>\n      <td>1.0</td>\n      <td>False</td>\n      <td>6.0</td>\n      <td>False</td>\n      <td>clear</td>\n      <td>9.02</td>\n      <td>13.635</td>\n      <td>0.80</td>\n      <td>0.0</td>\n      <td>40.0</td>\n    </tr>\n    <tr>\n      <th>2</th>\n      <td>spring</td>\n      <td>0.0</td>\n      <td>1.0</td>\n      <td>2.0</td>\n      <td>False</td>\n      <td>6.0</td>\n      <td>False</td>\n      <td>clear</td>\n      <td>9.02</td>\n      <td>13.635</td>\n      <td>0.80</td>\n      <td>0.0</td>\n      <td>32.0</td>\n    </tr>\n    <tr>\n      <th>3</th>\n      <td>spring</td>\n      <td>0.0</td>\n      <td>1.0</td>\n      <td>3.0</td>\n      <td>False</td>\n      <td>6.0</td>\n      <td>False</td>\n      <td>clear</td>\n      <td>9.84</td>\n      <td>14.395</td>\n      <td>0.75</td>\n      <td>0.0</td>\n      <td>13.0</td>\n    </tr>\n    <tr>\n      <th>4</th>\n      <td>spring</td>\n      <td>0.0</td>\n      <td>1.0</td>\n      <td>4.0</td>\n      <td>False</td>\n      <td>6.0</td>\n      <td>False</td>\n      <td>clear</td>\n      <td>9.84</td>\n      <td>14.395</td>\n      <td>0.75</td>\n      <td>0.0</td>\n      <td>1.0</td>\n    </tr>\n  </tbody>\n</table>\n</div>"
     },
     "execution_count": 100,
     "metadata": {},
     "output_type": "execute_result"
    }
   ],
   "source": [
    "df.head()"
   ],
   "metadata": {
    "collapsed": false,
    "pycharm": {
     "name": "#%%\n"
    }
   }
  },
  {
   "cell_type": "code",
   "execution_count": 106,
   "outputs": [],
   "source": [
    "time_groups = ['year','month']\n",
    "y_col = ['count']\n",
    "add_col = ['temp','humidity']\n",
    "bike_time = df[time_groups+add_col+y_col].groupby(time_groups).mean()"
   ],
   "metadata": {
    "collapsed": false,
    "pycharm": {
     "name": "#%%\n"
    }
   }
  },
  {
   "cell_type": "code",
   "execution_count": 107,
   "outputs": [
    {
     "data": {
      "text/plain": "                 temp  humidity       count\nyear month                                 \n0.0  1.0     8.093924  0.574055   55.507267\n     2.0    11.642989  0.559707   74.291217\n     3.0    13.580548  0.570055   87.732877\n     4.0    19.311627  0.668220  131.947149\n     5.0    23.666478  0.713360  182.555108\n     6.0    28.416417  0.593250  199.322222\n     7.0    31.101586  0.589664  189.974462\n     8.0    28.927715  0.625622  186.991792\n     9.0    25.129512  0.783821  177.709902\n     10.0   19.265034  0.706541  166.232840\n     11.0   16.490097  0.675216  142.095967\n     12.0   13.336896  0.649528  117.844804\n1.0  1.0    11.275277  0.587314  130.558704\n     2.0    12.932775  0.574249  149.041908\n     3.0    18.430686  0.607712  221.904441\n     4.0    19.230028  0.507897  242.651811\n     5.0    25.106989  0.664556  263.259409\n     6.0    27.679556  0.558361  281.708333\n     7.0    30.846989  0.606089  273.665323\n     8.0    29.183844  0.648629  288.310484\n     9.0    25.423417  0.645375  303.573611\n     10.0   20.718898  0.671596  280.848870\n     11.0   13.782396  0.574805  212.623955\n     12.0   13.244879  0.682682  166.729111",
      "text/html": "<div>\n<style scoped>\n    .dataframe tbody tr th:only-of-type {\n        vertical-align: middle;\n    }\n\n    .dataframe tbody tr th {\n        vertical-align: top;\n    }\n\n    .dataframe thead th {\n        text-align: right;\n    }\n</style>\n<table border=\"1\" class=\"dataframe\">\n  <thead>\n    <tr style=\"text-align: right;\">\n      <th></th>\n      <th></th>\n      <th>temp</th>\n      <th>humidity</th>\n      <th>count</th>\n    </tr>\n    <tr>\n      <th>year</th>\n      <th>month</th>\n      <th></th>\n      <th></th>\n      <th></th>\n    </tr>\n  </thead>\n  <tbody>\n    <tr>\n      <th rowspan=\"12\" valign=\"top\">0.0</th>\n      <th>1.0</th>\n      <td>8.093924</td>\n      <td>0.574055</td>\n      <td>55.507267</td>\n    </tr>\n    <tr>\n      <th>2.0</th>\n      <td>11.642989</td>\n      <td>0.559707</td>\n      <td>74.291217</td>\n    </tr>\n    <tr>\n      <th>3.0</th>\n      <td>13.580548</td>\n      <td>0.570055</td>\n      <td>87.732877</td>\n    </tr>\n    <tr>\n      <th>4.0</th>\n      <td>19.311627</td>\n      <td>0.668220</td>\n      <td>131.947149</td>\n    </tr>\n    <tr>\n      <th>5.0</th>\n      <td>23.666478</td>\n      <td>0.713360</td>\n      <td>182.555108</td>\n    </tr>\n    <tr>\n      <th>6.0</th>\n      <td>28.416417</td>\n      <td>0.593250</td>\n      <td>199.322222</td>\n    </tr>\n    <tr>\n      <th>7.0</th>\n      <td>31.101586</td>\n      <td>0.589664</td>\n      <td>189.974462</td>\n    </tr>\n    <tr>\n      <th>8.0</th>\n      <td>28.927715</td>\n      <td>0.625622</td>\n      <td>186.991792</td>\n    </tr>\n    <tr>\n      <th>9.0</th>\n      <td>25.129512</td>\n      <td>0.783821</td>\n      <td>177.709902</td>\n    </tr>\n    <tr>\n      <th>10.0</th>\n      <td>19.265034</td>\n      <td>0.706541</td>\n      <td>166.232840</td>\n    </tr>\n    <tr>\n      <th>11.0</th>\n      <td>16.490097</td>\n      <td>0.675216</td>\n      <td>142.095967</td>\n    </tr>\n    <tr>\n      <th>12.0</th>\n      <td>13.336896</td>\n      <td>0.649528</td>\n      <td>117.844804</td>\n    </tr>\n    <tr>\n      <th rowspan=\"12\" valign=\"top\">1.0</th>\n      <th>1.0</th>\n      <td>11.275277</td>\n      <td>0.587314</td>\n      <td>130.558704</td>\n    </tr>\n    <tr>\n      <th>2.0</th>\n      <td>12.932775</td>\n      <td>0.574249</td>\n      <td>149.041908</td>\n    </tr>\n    <tr>\n      <th>3.0</th>\n      <td>18.430686</td>\n      <td>0.607712</td>\n      <td>221.904441</td>\n    </tr>\n    <tr>\n      <th>4.0</th>\n      <td>19.230028</td>\n      <td>0.507897</td>\n      <td>242.651811</td>\n    </tr>\n    <tr>\n      <th>5.0</th>\n      <td>25.106989</td>\n      <td>0.664556</td>\n      <td>263.259409</td>\n    </tr>\n    <tr>\n      <th>6.0</th>\n      <td>27.679556</td>\n      <td>0.558361</td>\n      <td>281.708333</td>\n    </tr>\n    <tr>\n      <th>7.0</th>\n      <td>30.846989</td>\n      <td>0.606089</td>\n      <td>273.665323</td>\n    </tr>\n    <tr>\n      <th>8.0</th>\n      <td>29.183844</td>\n      <td>0.648629</td>\n      <td>288.310484</td>\n    </tr>\n    <tr>\n      <th>9.0</th>\n      <td>25.423417</td>\n      <td>0.645375</td>\n      <td>303.573611</td>\n    </tr>\n    <tr>\n      <th>10.0</th>\n      <td>20.718898</td>\n      <td>0.671596</td>\n      <td>280.848870</td>\n    </tr>\n    <tr>\n      <th>11.0</th>\n      <td>13.782396</td>\n      <td>0.574805</td>\n      <td>212.623955</td>\n    </tr>\n    <tr>\n      <th>12.0</th>\n      <td>13.244879</td>\n      <td>0.682682</td>\n      <td>166.729111</td>\n    </tr>\n  </tbody>\n</table>\n</div>"
     },
     "execution_count": 107,
     "metadata": {},
     "output_type": "execute_result"
    }
   ],
   "source": [
    "bike_time"
   ],
   "metadata": {
    "collapsed": false,
    "pycharm": {
     "name": "#%%\n"
    }
   }
  },
  {
   "cell_type": "code",
   "execution_count": 34,
   "outputs": [],
   "source": [
    "def get_xy(input_x, input_y, time_step):\n",
    "    X_list = []\n",
    "    y_list = []\n",
    "    for ii in range(time_step,len(input_x)):\n",
    "        X_list.append(input_x.iloc[ii - time_step:ii,:])\n",
    "        y_list.append(input_y.iloc[ii])\n",
    "    X = np.array(X_list)\n",
    "    y = np.array(y_list)\n",
    "    return X, y"
   ],
   "metadata": {
    "collapsed": false,
    "pycharm": {
     "name": "#%%\n"
    }
   }
  },
  {
   "cell_type": "code",
   "execution_count": 108,
   "outputs": [
    {
     "data": {
      "text/plain": "(24, 3)"
     },
     "execution_count": 108,
     "metadata": {},
     "output_type": "execute_result"
    }
   ],
   "source": [
    "bike_time.shape"
   ],
   "metadata": {
    "collapsed": false,
    "pycharm": {
     "name": "#%%\n"
    }
   }
  },
  {
   "cell_type": "code",
   "execution_count": 126,
   "outputs": [
    {
     "name": "stdout",
     "output_type": "stream",
     "text": [
      "Train on 16 samples\n",
      "Epoch 1/30\n",
      "16/16 [==============================] - 5s 296ms/sample - loss: 39077.2227 - mae: 191.0000 - mape: 99.9459\n",
      "Epoch 2/30\n",
      "16/16 [==============================] - 0s 982us/sample - loss: 39035.7109 - mae: 190.9011 - mape: 99.8942\n",
      "Epoch 3/30\n",
      "16/16 [==============================] - 0s 1ms/sample - loss: 39012.7344 - mae: 190.8367 - mape: 99.8572\n",
      "Epoch 4/30\n",
      "16/16 [==============================] - 0s 1ms/sample - loss: 38964.3438 - mae: 190.7065 - mape: 99.7819\n",
      "Epoch 5/30\n",
      "16/16 [==============================] - 0s 1ms/sample - loss: 38942.8438 - mae: 190.6628 - mape: 99.7631\n",
      "Epoch 6/30\n",
      "16/16 [==============================] - 0s 1ms/sample - loss: 38893.6953 - mae: 190.5305 - mape: 99.6893\n",
      "Epoch 7/30\n",
      "16/16 [==============================] - 0s 1ms/sample - loss: 38849.7266 - mae: 190.4115 - mape: 99.6179\n",
      "Epoch 8/30\n",
      "16/16 [==============================] - 0s 1ms/sample - loss: 38833.8789 - mae: 190.3755 - mape: 99.6013\n",
      "Epoch 9/30\n",
      "16/16 [==============================] - 0s 1ms/sample - loss: 38788.8867 - mae: 190.2545 - mape: 99.5308\n",
      "Epoch 10/30\n",
      "16/16 [==============================] - 0s 1ms/sample - loss: 38714.8008 - mae: 190.0591 - mape: 99.4226\n",
      "Epoch 11/30\n",
      "16/16 [==============================] - 0s 1ms/sample - loss: 38681.7305 - mae: 189.9650 - mape: 99.3653\n",
      "Epoch 12/30\n",
      "16/16 [==============================] - 0s 1ms/sample - loss: 38626.3125 - mae: 189.8096 - mape: 99.2731\n",
      "Epoch 13/30\n",
      "16/16 [==============================] - 0s 1ms/sample - loss: 38576.9219 - mae: 189.6963 - mape: 99.2213\n",
      "Epoch 14/30\n",
      "16/16 [==============================] - 0s 1ms/sample - loss: 38517.6875 - mae: 189.5439 - mape: 99.1326\n",
      "Epoch 15/30\n",
      "16/16 [==============================] - 0s 1ms/sample - loss: 38480.3086 - mae: 189.4334 - mape: 99.0649\n",
      "Epoch 16/30\n",
      "16/16 [==============================] - 0s 1ms/sample - loss: 38374.5469 - mae: 189.1570 - mape: 98.9117\n",
      "Epoch 17/30\n",
      "16/16 [==============================] - 0s 1ms/sample - loss: 38355.6016 - mae: 189.0926 - mape: 98.8664\n",
      "Epoch 18/30\n",
      "16/16 [==============================] - 0s 1ms/sample - loss: 38316.7656 - mae: 189.0044 - mape: 98.8245\n",
      "Epoch 19/30\n",
      "16/16 [==============================] - 0s 1ms/sample - loss: 38218.7734 - mae: 188.7053 - mape: 98.6368\n",
      "Epoch 20/30\n",
      "16/16 [==============================] - 0s 1ms/sample - loss: 38124.1406 - mae: 188.5089 - mape: 98.5546\n",
      "Epoch 21/30\n",
      "16/16 [==============================] - 0s 1ms/sample - loss: 38051.6875 - mae: 188.3038 - mape: 98.4343\n",
      "Epoch 22/30\n",
      "16/16 [==============================] - 0s 1ms/sample - loss: 37960.6055 - mae: 188.0740 - mape: 98.3105\n",
      "Epoch 23/30\n",
      "16/16 [==============================] - 0s 1ms/sample - loss: 37854.4297 - mae: 187.7618 - mape: 98.1187\n",
      "Epoch 24/30\n",
      "16/16 [==============================] - 0s 1ms/sample - loss: 37796.2617 - mae: 187.5808 - mape: 98.0072\n",
      "Epoch 25/30\n",
      "16/16 [==============================] - 0s 1ms/sample - loss: 37688.7578 - mae: 187.3807 - mape: 97.9440\n",
      "Epoch 26/30\n",
      "16/16 [==============================] - 0s 1ms/sample - loss: 37609.4023 - mae: 187.1187 - mape: 97.7616\n",
      "Epoch 27/30\n",
      "16/16 [==============================] - 0s 1ms/sample - loss: 37431.1016 - mae: 186.6036 - mape: 97.4566\n",
      "Epoch 28/30\n",
      "16/16 [==============================] - 0s 1ms/sample - loss: 37369.6758 - mae: 186.4668 - mape: 97.3946\n",
      "Epoch 29/30\n",
      "16/16 [==============================] - 0s 1ms/sample - loss: 37282.9766 - mae: 186.2896 - mape: 97.3256\n",
      "Epoch 30/30\n",
      "16/16 [==============================] - 0s 1ms/sample - loss: 37110.7773 - mae: 185.8586 - mape: 97.0995\n"
     ]
    }
   ],
   "source": [
    "X_bike,y_bike = get_xy(bike_time[add_col], bike_time[y_col],3)\n",
    "tscv_bike = TimeSeriesSplit(n_splits=3)\n",
    "all_splits_bike = list(tscv.split(X_bike, y_bike))\n",
    "lstm_bike = LSTMModule()\n",
    "lstm_bike.batch_size = 3\n",
    "lstm_bike.input_shape = 3,2\n",
    "train_i, test_i = all_splits_bike[2]\n",
    "lstm_bike.model = lstm_bike.build_model()\n",
    "history = lstm_bike.model.fit(X_bike[train_i],y_bike[train_i],epochs=30)"
   ],
   "metadata": {
    "collapsed": false,
    "pycharm": {
     "name": "#%%\n"
    }
   }
  },
  {
   "cell_type": "code",
   "execution_count": 127,
   "outputs": [
    {
     "data": {
      "text/plain": "<Figure size 432x288 with 1 Axes>",
      "image/png": "[encoded data removed]"
     },
     "metadata": {
      "needs_background": "light"
     },
     "output_type": "display_data"
    }
   ],
   "source": [
    "%matplotlib inline\n",
    "import matplotlib.pyplot as plt\n",
    "\n",
    "\n",
    "plt.plot(y_bike[test_i], color = 'red', label = 'Real Stock Price')\n",
    "plt.plot(lstm_bike.model.predict(X_bike[test_i]), color = 'blue', label = 'Predicted Stock Price')\n",
    "plt.title('Stock Price Prediction')\n",
    "plt.xlabel('Time')\n",
    "plt.ylabel('Google Stock Price')\n",
    "plt.legend()\n",
    "plt.show()"
   ],
   "metadata": {
    "collapsed": false,
    "pycharm": {
     "name": "#%%\n"
    }
   }
  },
  {
   "cell_type": "markdown",
   "source": [
    "## 2 stocks test"
   ],
   "metadata": {
    "collapsed": false,
    "pycharm": {
     "name": "#%% md\n"
    }
   }
  },
  {
   "cell_type": "code",
   "execution_count": 8,
   "outputs": [
    {
     "data": {
      "text/plain": "('600979.SH', '002642.SZ')"
     },
     "execution_count": 8,
     "metadata": {},
     "output_type": "execute_result"
    }
   ],
   "source": [
    "stock1,stock2"
   ],
   "metadata": {
    "collapsed": false,
    "pycharm": {
     "name": "#%%\n"
    }
   }
  },
  {
   "cell_type": "code",
   "execution_count": 102,
   "outputs": [],
   "source": [
    "target_df = whole_df[whole_df.ts_code.isin([stock1,stock2])].reset_index(drop=True)"
   ],
   "metadata": {
    "collapsed": false,
    "pycharm": {
     "name": "#%%\n"
    }
   }
  },
  {
   "cell_type": "code",
   "execution_count": 103,
   "outputs": [
    {
     "data": {
      "text/plain": "     ts_code trade_date  open  high   low  close  pre_close  change  pct_chg  \\\n0  002642.SZ   20200102  6.20  6.34  6.20   6.29       6.22    0.07   1.1254   \n1  600979.SH   20200102  4.22  4.24  4.19   4.24       4.19    0.05   1.1933   \n2  002642.SZ   20200103  6.27  6.33  6.20   6.31       6.29    0.02   0.3180   \n3  600979.SH   20200103  4.25  4.28  4.22   4.26       4.24    0.02   0.4717   \n4  002642.SZ   20200106  6.26  6.45  6.26   6.34       6.31    0.03   0.4754   \n\n        vol     amount  \n0  74227.25  46586.696  \n1  25991.00  10982.460  \n2  83564.51  52339.284  \n3  37062.02  15733.614  \n4  87472.04  55614.939  ",
      "text/html": "<div>\n<style scoped>\n    .dataframe tbody tr th:only-of-type {\n        vertical-align: middle;\n    }\n\n    .dataframe tbody tr th {\n        vertical-align: top;\n    }\n\n    .dataframe thead th {\n        text-align: right;\n    }\n</style>\n<table border=\"1\" class=\"dataframe\">\n  <thead>\n    <tr style=\"text-align: right;\">\n      <th></th>\n      <th>ts_code</th>\n      <th>trade_date</th>\n      <th>open</th>\n      <th>high</th>\n      <th>low</th>\n      <th>close</th>\n      <th>pre_close</th>\n      <th>change</th>\n      <th>pct_chg</th>\n      <th>vol</th>\n      <th>amount</th>\n    </tr>\n  </thead>\n  <tbody>\n    <tr>\n      <th>0</th>\n      <td>002642.SZ</td>\n      <td>20200102</td>\n      <td>6.20</td>\n      <td>6.34</td>\n      <td>6.20</td>\n      <td>6.29</td>\n      <td>6.22</td>\n      <td>0.07</td>\n      <td>1.1254</td>\n      <td>74227.25</td>\n      <td>46586.696</td>\n    </tr>\n    <tr>\n      <th>1</th>\n      <td>600979.SH</td>\n      <td>20200102</td>\n      <td>4.22</td>\n      <td>4.24</td>\n      <td>4.19</td>\n      <td>4.24</td>\n      <td>4.19</td>\n      <td>0.05</td>\n      <td>1.1933</td>\n      <td>25991.00</td>\n      <td>10982.460</td>\n    </tr>\n    <tr>\n      <th>2</th>\n      <td>002642.SZ</td>\n      <td>20200103</td>\n      <td>6.27</td>\n      <td>6.33</td>\n      <td>6.20</td>\n      <td>6.31</td>\n      <td>6.29</td>\n      <td>0.02</td>\n      <td>0.3180</td>\n      <td>83564.51</td>\n      <td>52339.284</td>\n    </tr>\n    <tr>\n      <th>3</th>\n      <td>600979.SH</td>\n      <td>20200103</td>\n      <td>4.25</td>\n      <td>4.28</td>\n      <td>4.22</td>\n      <td>4.26</td>\n      <td>4.24</td>\n      <td>0.02</td>\n      <td>0.4717</td>\n      <td>37062.02</td>\n      <td>15733.614</td>\n    </tr>\n    <tr>\n      <th>4</th>\n      <td>002642.SZ</td>\n      <td>20200106</td>\n      <td>6.26</td>\n      <td>6.45</td>\n      <td>6.26</td>\n      <td>6.34</td>\n      <td>6.31</td>\n      <td>0.03</td>\n      <td>0.4754</td>\n      <td>87472.04</td>\n      <td>55614.939</td>\n    </tr>\n  </tbody>\n</table>\n</div>"
     },
     "execution_count": 103,
     "metadata": {},
     "output_type": "execute_result"
    }
   ],
   "source": [
    "target_df.head()"
   ],
   "metadata": {
    "collapsed": false,
    "pycharm": {
     "name": "#%%\n"
    }
   }
  },
  {
   "cell_type": "code",
   "execution_count": 41,
   "outputs": [
    {
     "data": {
      "text/plain": "               close          \nts_code    002642.SZ 600979.SH\ntrade_date                    \n20200106        6.34      4.26\n20200107        6.53      4.28\n20200108        6.61      4.20\n20200109        6.94      4.26\n20200110        6.75      4.24",
      "text/html": "<div>\n<style scoped>\n    .dataframe tbody tr th:only-of-type {\n        vertical-align: middle;\n    }\n\n    .dataframe tbody tr th {\n        vertical-align: top;\n    }\n\n    .dataframe thead tr th {\n        text-align: left;\n    }\n\n    .dataframe thead tr:last-of-type th {\n        text-align: right;\n    }\n</style>\n<table border=\"1\" class=\"dataframe\">\n  <thead>\n    <tr>\n      <th></th>\n      <th colspan=\"2\" halign=\"left\">close</th>\n    </tr>\n    <tr>\n      <th>ts_code</th>\n      <th>002642.SZ</th>\n      <th>600979.SH</th>\n    </tr>\n    <tr>\n      <th>trade_date</th>\n      <th></th>\n      <th></th>\n    </tr>\n  </thead>\n  <tbody>\n    <tr>\n      <th>20200106</th>\n      <td>6.34</td>\n      <td>4.26</td>\n    </tr>\n    <tr>\n      <th>20200107</th>\n      <td>6.53</td>\n      <td>4.28</td>\n    </tr>\n    <tr>\n      <th>20200108</th>\n      <td>6.61</td>\n      <td>4.20</td>\n    </tr>\n    <tr>\n      <th>20200109</th>\n      <td>6.94</td>\n      <td>4.26</td>\n    </tr>\n    <tr>\n      <th>20200110</th>\n      <td>6.75</td>\n      <td>4.24</td>\n    </tr>\n  </tbody>\n</table>\n</div>"
     },
     "execution_count": 41,
     "metadata": {},
     "output_type": "execute_result"
    }
   ],
   "source": [
    "target_df.pivot(index='trade_date',columns='ts_code').head()"
   ],
   "metadata": {
    "collapsed": false,
    "pycharm": {
     "name": "#%%\n"
    }
   }
  },
  {
   "cell_type": "code",
   "execution_count": 105,
   "outputs": [
    {
     "data": {
      "text/plain": "Index([     ('open', '002642.SZ'),      ('open', '600979.SH'),\n            ('high', '002642.SZ'),      ('high', '600979.SH'),\n             ('low', '002642.SZ'),       ('low', '600979.SH'),\n           ('close', '002642.SZ'),     ('close', '600979.SH'),\n       ('pre_close', '002642.SZ'), ('pre_close', '600979.SH'),\n          ('change', '002642.SZ'),    ('change', '600979.SH'),\n         ('pct_chg', '002642.SZ'),   ('pct_chg', '600979.SH'),\n             ('vol', '002642.SZ'),       ('vol', '600979.SH'),\n          ('amount', '002642.SZ'),    ('amount', '600979.SH')],\n      dtype='object')"
     },
     "execution_count": 105,
     "metadata": {},
     "output_type": "execute_result"
    }
   ],
   "source": [
    "target_df.pivot(index='trade_date',columns='ts_code').columns.to_flat_index()"
   ],
   "metadata": {
    "collapsed": false,
    "pycharm": {
     "name": "#%%\n"
    }
   }
  },
  {
   "cell_type": "code",
   "execution_count": 42,
   "outputs": [],
   "source": [
    "stocks_df = target_df.pivot(index='trade_date',columns='ts_code')"
   ],
   "metadata": {
    "collapsed": false,
    "pycharm": {
     "name": "#%%\n"
    }
   }
  },
  {
   "cell_type": "code",
   "execution_count": 43,
   "outputs": [],
   "source": [
    "stocks_df.columns = [a+'_'+b for a,b in stocks_df.columns.to_flat_index()]"
   ],
   "metadata": {
    "collapsed": false,
    "pycharm": {
     "name": "#%%\n"
    }
   }
  },
  {
   "cell_type": "code",
   "execution_count": 30,
   "outputs": [
    {
     "data": {
      "text/plain": "            open_002642.SZ  open_600979.SH  high_002642.SZ  high_600979.SH  \\\ntrade_date                                                                   \n20200106              6.26            4.23            6.45            4.29   \n20200107              6.34            4.26            6.58            4.29   \n20200108              6.48            4.27            6.86            4.28   \n20200109              6.65            4.23            6.94            4.26   \n20200110              7.01            4.26            7.10            4.26   \n\n            low_002642.SZ  low_600979.SH  close_002642.SZ  close_600979.SH  \\\ntrade_date                                                                   \n20200106             6.26           4.23             6.34             4.26   \n20200107             6.32           4.25             6.53             4.28   \n20200108             6.47           4.20             6.61             4.20   \n20200109             6.65           4.22             6.94             4.26   \n20200110             6.72           4.23             6.75             4.24   \n\n            pre_close_002642.SZ  pre_close_600979.SH  change_002642.SZ  \\\ntrade_date                                                               \n20200106                   6.31                 4.26              0.03   \n20200107                   6.34                 4.26              0.19   \n20200108                   6.53                 4.28              0.08   \n20200109                   6.61                 4.20              0.33   \n20200110                   6.94                 4.26             -0.19   \n\n            change_600979.SH  pct_chg_002642.SZ  pct_chg_600979.SH  \\\ntrade_date                                                           \n20200106                0.00             0.4754             0.0000   \n20200107                0.02             2.9968             0.4695   \n20200108               -0.08             1.2251            -1.8692   \n20200109                0.06             4.9924             1.4286   \n20200110               -0.02            -2.7378            -0.4695   \n\n            vol_002642.SZ  vol_600979.SH  amount_002642.SZ  amount_600979.SH  \ntrade_date                                                                    \n20200106         87472.04       35324.37         55614.939         15056.093  \n20200107        104871.16       29971.55         67605.931         12791.987  \n20200108        178228.97       29090.10        119423.922         12337.166  \n20200109        185866.76       29085.31        127016.001         12347.515  \n20200110        155401.78       19300.00        106640.368          8188.596  ",
      "text/html": "<div>\n<style scoped>\n    .dataframe tbody tr th:only-of-type {\n        vertical-align: middle;\n    }\n\n    .dataframe tbody tr th {\n        vertical-align: top;\n    }\n\n    .dataframe thead th {\n        text-align: right;\n    }\n</style>\n<table border=\"1\" class=\"dataframe\">\n  <thead>\n    <tr style=\"text-align: right;\">\n      <th></th>\n      <th>open_002642.SZ</th>\n      <th>open_600979.SH</th>\n      <th>high_002642.SZ</th>\n      <th>high_600979.SH</th>\n      <th>low_002642.SZ</th>\n      <th>low_600979.SH</th>\n      <th>close_002642.SZ</th>\n      <th>close_600979.SH</th>\n      <th>pre_close_002642.SZ</th>\n      <th>pre_close_600979.SH</th>\n      <th>change_002642.SZ</th>\n      <th>change_600979.SH</th>\n      <th>pct_chg_002642.SZ</th>\n      <th>pct_chg_600979.SH</th>\n      <th>vol_002642.SZ</th>\n      <th>vol_600979.SH</th>\n      <th>amount_002642.SZ</th>\n      <th>amount_600979.SH</th>\n    </tr>\n    <tr>\n      <th>trade_date</th>\n      <th></th>\n      <th></th>\n      <th></th>\n      <th></th>\n      <th></th>\n      <th></th>\n      <th></th>\n      <th></th>\n      <th></th>\n      <th></th>\n      <th></th>\n      <th></th>\n      <th></th>\n      <th></th>\n      <th></th>\n      <th></th>\n      <th></th>\n      <th></th>\n    </tr>\n  </thead>\n  <tbody>\n    <tr>\n      <th>20200106</th>\n      <td>6.26</td>\n      <td>4.23</td>\n      <td>6.45</td>\n      <td>4.29</td>\n      <td>6.26</td>\n      <td>4.23</td>\n      <td>6.34</td>\n      <td>4.26</td>\n      <td>6.31</td>\n      <td>4.26</td>\n      <td>0.03</td>\n      <td>0.00</td>\n      <td>0.4754</td>\n      <td>0.0000</td>\n      <td>87472.04</td>\n      <td>35324.37</td>\n      <td>55614.939</td>\n      <td>15056.093</td>\n    </tr>\n    <tr>\n      <th>20200107</th>\n      <td>6.34</td>\n      <td>4.26</td>\n      <td>6.58</td>\n      <td>4.29</td>\n      <td>6.32</td>\n      <td>4.25</td>\n      <td>6.53</td>\n      <td>4.28</td>\n      <td>6.34</td>\n      <td>4.26</td>\n      <td>0.19</td>\n      <td>0.02</td>\n      <td>2.9968</td>\n      <td>0.4695</td>\n      <td>104871.16</td>\n      <td>29971.55</td>\n      <td>67605.931</td>\n      <td>12791.987</td>\n    </tr>\n    <tr>\n      <th>20200108</th>\n      <td>6.48</td>\n      <td>4.27</td>\n      <td>6.86</td>\n      <td>4.28</td>\n      <td>6.47</td>\n      <td>4.20</td>\n      <td>6.61</td>\n      <td>4.20</td>\n      <td>6.53</td>\n      <td>4.28</td>\n      <td>0.08</td>\n      <td>-0.08</td>\n      <td>1.2251</td>\n      <td>-1.8692</td>\n      <td>178228.97</td>\n      <td>29090.10</td>\n      <td>119423.922</td>\n      <td>12337.166</td>\n    </tr>\n    <tr>\n      <th>20200109</th>\n      <td>6.65</td>\n      <td>4.23</td>\n      <td>6.94</td>\n      <td>4.26</td>\n      <td>6.65</td>\n      <td>4.22</td>\n      <td>6.94</td>\n      <td>4.26</td>\n      <td>6.61</td>\n      <td>4.20</td>\n      <td>0.33</td>\n      <td>0.06</td>\n      <td>4.9924</td>\n      <td>1.4286</td>\n      <td>185866.76</td>\n      <td>29085.31</td>\n      <td>127016.001</td>\n      <td>12347.515</td>\n    </tr>\n    <tr>\n      <th>20200110</th>\n      <td>7.01</td>\n      <td>4.26</td>\n      <td>7.10</td>\n      <td>4.26</td>\n      <td>6.72</td>\n      <td>4.23</td>\n      <td>6.75</td>\n      <td>4.24</td>\n      <td>6.94</td>\n      <td>4.26</td>\n      <td>-0.19</td>\n      <td>-0.02</td>\n      <td>-2.7378</td>\n      <td>-0.4695</td>\n      <td>155401.78</td>\n      <td>19300.00</td>\n      <td>106640.368</td>\n      <td>8188.596</td>\n    </tr>\n  </tbody>\n</table>\n</div>"
     },
     "execution_count": 30,
     "metadata": {},
     "output_type": "execute_result"
    }
   ],
   "source": [
    "stocks_df.head()"
   ],
   "metadata": {
    "collapsed": false,
    "pycharm": {
     "name": "#%%\n"
    }
   }
  },
  {
   "cell_type": "code",
   "execution_count": 109,
   "outputs": [],
   "source": [
    "stocks_df = stocks_df[10:] # rawdata issue, nan before no10"
   ],
   "metadata": {
    "collapsed": false,
    "pycharm": {
     "name": "#%%\n"
    }
   }
  },
  {
   "cell_type": "code",
   "execution_count": 44,
   "outputs": [],
   "source": [
    "stocks_df.fillna(method='ffill',inplace=True) # rawdata missing item for several days. fill with last valid value"
   ],
   "metadata": {
    "collapsed": false,
    "pycharm": {
     "name": "#%%\n"
    }
   }
  },
  {
   "cell_type": "code",
   "execution_count": 45,
   "outputs": [
    {
     "data": {
      "text/plain": "       close_002642.SZ  close_600979.SH\ncount       561.000000       561.000000\nmean          5.586346         3.415294\nstd           1.008662         0.369909\nmin           3.770000         2.770000\n25%           4.730000         3.100000\n50%           5.390000         3.340000\n75%           6.510000         3.640000\nmax           8.200000         4.510000",
      "text/html": "<div>\n<style scoped>\n    .dataframe tbody tr th:only-of-type {\n        vertical-align: middle;\n    }\n\n    .dataframe tbody tr th {\n        vertical-align: top;\n    }\n\n    .dataframe thead th {\n        text-align: right;\n    }\n</style>\n<table border=\"1\" class=\"dataframe\">\n  <thead>\n    <tr style=\"text-align: right;\">\n      <th></th>\n      <th>close_002642.SZ</th>\n      <th>close_600979.SH</th>\n    </tr>\n  </thead>\n  <tbody>\n    <tr>\n      <th>count</th>\n      <td>561.000000</td>\n      <td>561.000000</td>\n    </tr>\n    <tr>\n      <th>mean</th>\n      <td>5.586346</td>\n      <td>3.415294</td>\n    </tr>\n    <tr>\n      <th>std</th>\n      <td>1.008662</td>\n      <td>0.369909</td>\n    </tr>\n    <tr>\n      <th>min</th>\n      <td>3.770000</td>\n      <td>2.770000</td>\n    </tr>\n    <tr>\n      <th>25%</th>\n      <td>4.730000</td>\n      <td>3.100000</td>\n    </tr>\n    <tr>\n      <th>50%</th>\n      <td>5.390000</td>\n      <td>3.340000</td>\n    </tr>\n    <tr>\n      <th>75%</th>\n      <td>6.510000</td>\n      <td>3.640000</td>\n    </tr>\n    <tr>\n      <th>max</th>\n      <td>8.200000</td>\n      <td>4.510000</td>\n    </tr>\n  </tbody>\n</table>\n</div>"
     },
     "execution_count": 45,
     "metadata": {},
     "output_type": "execute_result"
    }
   ],
   "source": [
    "stocks_df.describe()"
   ],
   "metadata": {
    "collapsed": false,
    "pycharm": {
     "name": "#%%\n"
    }
   }
  },
  {
   "cell_type": "code",
   "execution_count": 46,
   "outputs": [],
   "source": [
    "cols_x = [col for col in stocks_df.columns if 'open_' not in col]\n",
    "cols_y = [col for col in stocks_df.columns if 'open_' in col]\n",
    "X_stocks,y_stocks = get_xy(stocks_df[cols_x], stocks_df[cols_y],5)\n",
    "split_ratio = 0.2\n",
    "split_idx = -int(len(stocks_df)*split_ratio)\n",
    "\n",
    "train_x, train_y = X_stocks[:split_idx], y_stocks[:split_idx]\n",
    "test_x, test_y = X_stocks[split_idx:], y_stocks[split_idx:]"
   ],
   "metadata": {
    "collapsed": false,
    "pycharm": {
     "name": "#%%\n"
    }
   }
  },
  {
   "cell_type": "code",
   "execution_count": 119,
   "outputs": [
    {
     "name": "stdout",
     "output_type": "stream",
     "text": [
      "Train on 446 samples\n",
      "Epoch 1/300\n",
      "446/446 [==============================] - 6s 13ms/sample - loss: 18.4359 - mae: 4.0760 - mape: 90.9424\n",
      "Epoch 2/300\n",
      "446/446 [==============================] - 0s 715us/sample - loss: 10.4741 - mae: 2.9629 - mape: 64.9605\n",
      "Epoch 3/300\n",
      "446/446 [==============================] - 0s 800us/sample - loss: 2.0706 - mae: 1.1189 - mape: 23.9291\n",
      "Epoch 4/300\n",
      "446/446 [==============================] - 0s 789us/sample - loss: 0.9996 - mae: 0.7991 - mape: 19.3627\n",
      "Epoch 5/300\n",
      "446/446 [==============================] - 0s 746us/sample - loss: 0.7272 - mae: 0.6852 - mape: 15.7912\n",
      "Epoch 6/300\n",
      "446/446 [==============================] - 0s 920us/sample - loss: 0.6250 - mae: 0.6256 - mape: 14.2484\n",
      "Epoch 7/300\n",
      "446/446 [==============================] - 0s 1ms/sample - loss: 0.5391 - mae: 0.5792 - mape: 13.1937\n",
      "Epoch 8/300\n",
      "446/446 [==============================] - 0s 822us/sample - loss: 0.5107 - mae: 0.5697 - mape: 13.1235\n",
      "Epoch 9/300\n",
      "446/446 [==============================] - 0s 771us/sample - loss: 0.4792 - mae: 0.5353 - mape: 12.3121\n",
      "Epoch 10/300\n",
      "446/446 [==============================] - 0s 785us/sample - loss: 0.4134 - mae: 0.5016 - mape: 11.5574\n",
      "Epoch 11/300\n",
      "446/446 [==============================] - 0s 815us/sample - loss: 0.3925 - mae: 0.4808 - mape: 11.0350\n",
      "Epoch 12/300\n",
      "446/446 [==============================] - 0s 789us/sample - loss: 0.3941 - mae: 0.4933 - mape: 11.3091\n",
      "Epoch 13/300\n",
      "446/446 [==============================] - 0s 746us/sample - loss: 0.3698 - mae: 0.4719 - mape: 10.8752\n",
      "Epoch 14/300\n",
      "446/446 [==============================] - 0s 736us/sample - loss: 0.3455 - mae: 0.4700 - mape: 10.9157\n",
      "Epoch 15/300\n",
      "446/446 [==============================] - 0s 739us/sample - loss: 0.3703 - mae: 0.4777 - mape: 10.9921\n",
      "Epoch 16/300\n",
      "446/446 [==============================] - 0s 735us/sample - loss: 0.3500 - mae: 0.4612 - mape: 10.5760\n",
      "Epoch 17/300\n",
      "446/446 [==============================] - 0s 741us/sample - loss: 0.3599 - mae: 0.4620 - mape: 10.4469\n",
      "Epoch 18/300\n",
      "446/446 [==============================] - 0s 776us/sample - loss: 0.3746 - mae: 0.4701 - mape: 10.7357\n",
      "Epoch 19/300\n",
      "446/446 [==============================] - 0s 780us/sample - loss: 0.3878 - mae: 0.4875 - mape: 11.1194\n",
      "Epoch 20/300\n",
      "446/446 [==============================] - 0s 760us/sample - loss: 0.3538 - mae: 0.4600 - mape: 10.5456\n",
      "Epoch 21/300\n",
      "446/446 [==============================] - 0s 857us/sample - loss: 0.3370 - mae: 0.4487 - mape: 10.2361\n",
      "Epoch 22/300\n",
      "446/446 [==============================] - 0s 800us/sample - loss: 0.3211 - mae: 0.4331 - mape: 9.9089\n",
      "Epoch 23/300\n",
      "446/446 [==============================] - 0s 864us/sample - loss: 0.3522 - mae: 0.4613 - mape: 10.6981\n",
      "Epoch 24/300\n",
      "446/446 [==============================] - 0s 809us/sample - loss: 0.3328 - mae: 0.4365 - mape: 10.0186\n",
      "Epoch 25/300\n",
      "446/446 [==============================] - 0s 805us/sample - loss: 0.3202 - mae: 0.4332 - mape: 9.8978\n",
      "Epoch 26/300\n",
      "446/446 [==============================] - 0s 805us/sample - loss: 0.3186 - mae: 0.4358 - mape: 9.9414\n",
      "Epoch 27/300\n",
      "446/446 [==============================] - 0s 1ms/sample - loss: 0.2909 - mae: 0.4224 - mape: 9.8114\n",
      "Epoch 28/300\n",
      "446/446 [==============================] - 0s 819us/sample - loss: 0.2799 - mae: 0.4145 - mape: 9.5235\n",
      "Epoch 29/300\n",
      "446/446 [==============================] - 0s 936us/sample - loss: 0.3018 - mae: 0.4243 - mape: 9.8074\n",
      "Epoch 30/300\n",
      "446/446 [==============================] - 0s 932us/sample - loss: 0.2969 - mae: 0.4170 - mape: 9.4822\n",
      "Epoch 31/300\n",
      "446/446 [==============================] - 1s 1ms/sample - loss: 0.2873 - mae: 0.4138 - mape: 9.5339\n",
      "Epoch 32/300\n",
      "446/446 [==============================] - 0s 913us/sample - loss: 0.3060 - mae: 0.4269 - mape: 9.8457\n",
      "Epoch 33/300\n",
      "446/446 [==============================] - 0s 933us/sample - loss: 0.2851 - mae: 0.4177 - mape: 9.5851\n",
      "Epoch 34/300\n",
      "446/446 [==============================] - 0s 851us/sample - loss: 0.2895 - mae: 0.4208 - mape: 9.6357\n",
      "Epoch 35/300\n",
      "446/446 [==============================] - 0s 754us/sample - loss: 0.2733 - mae: 0.4103 - mape: 9.4399\n",
      "Epoch 36/300\n",
      "446/446 [==============================] - 0s 820us/sample - loss: 0.2598 - mae: 0.3998 - mape: 9.2441\n",
      "Epoch 37/300\n",
      "446/446 [==============================] - 0s 960us/sample - loss: 0.2461 - mae: 0.3848 - mape: 8.9084\n",
      "Epoch 38/300\n",
      "446/446 [==============================] - 0s 755us/sample - loss: 0.2939 - mae: 0.4136 - mape: 9.5345\n",
      "Epoch 39/300\n",
      "446/446 [==============================] - 0s 788us/sample - loss: 0.2488 - mae: 0.3885 - mape: 9.0253\n",
      "Epoch 40/300\n",
      "446/446 [==============================] - 0s 834us/sample - loss: 0.2881 - mae: 0.4135 - mape: 9.4137\n",
      "Epoch 41/300\n",
      "446/446 [==============================] - 0s 805us/sample - loss: 0.2548 - mae: 0.3877 - mape: 8.8603\n",
      "Epoch 42/300\n",
      "446/446 [==============================] - 0s 800us/sample - loss: 0.2743 - mae: 0.4124 - mape: 9.5225\n",
      "Epoch 43/300\n",
      "446/446 [==============================] - 0s 892us/sample - loss: 0.2720 - mae: 0.3995 - mape: 9.1410\n",
      "Epoch 44/300\n",
      "446/446 [==============================] - 0s 855us/sample - loss: 0.2865 - mae: 0.4172 - mape: 9.5100\n",
      "Epoch 45/300\n",
      "446/446 [==============================] - 0s 888us/sample - loss: 0.2659 - mae: 0.4015 - mape: 9.1745\n",
      "Epoch 46/300\n",
      "446/446 [==============================] - 0s 963us/sample - loss: 0.2559 - mae: 0.3928 - mape: 9.0124\n",
      "Epoch 47/300\n",
      "446/446 [==============================] - 0s 766us/sample - loss: 0.2666 - mae: 0.3983 - mape: 9.1029\n",
      "Epoch 48/300\n",
      "446/446 [==============================] - 0s 801us/sample - loss: 0.2832 - mae: 0.4114 - mape: 9.3627\n",
      "Epoch 49/300\n",
      "446/446 [==============================] - 0s 852us/sample - loss: 0.2522 - mae: 0.3877 - mape: 8.8564\n",
      "Epoch 50/300\n",
      "446/446 [==============================] - 0s 894us/sample - loss: 0.2605 - mae: 0.4027 - mape: 9.2943\n",
      "Epoch 51/300\n",
      "446/446 [==============================] - 0s 782us/sample - loss: 0.2629 - mae: 0.3990 - mape: 9.1483\n",
      "Epoch 52/300\n",
      "446/446 [==============================] - 0s 928us/sample - loss: 0.2442 - mae: 0.3845 - mape: 8.8090\n",
      "Epoch 53/300\n",
      "446/446 [==============================] - 0s 836us/sample - loss: 0.2615 - mae: 0.3892 - mape: 8.9138\n",
      "Epoch 54/300\n",
      "446/446 [==============================] - 0s 900us/sample - loss: 0.2782 - mae: 0.3978 - mape: 9.0074\n",
      "Epoch 55/300\n",
      "446/446 [==============================] - 0s 828us/sample - loss: 0.2632 - mae: 0.3913 - mape: 8.8316\n",
      "Epoch 56/300\n",
      "446/446 [==============================] - 0s 877us/sample - loss: 0.2537 - mae: 0.3921 - mape: 8.9167\n",
      "Epoch 57/300\n",
      "446/446 [==============================] - 0s 907us/sample - loss: 0.2574 - mae: 0.3887 - mape: 8.8762\n",
      "Epoch 58/300\n",
      "446/446 [==============================] - 0s 904us/sample - loss: 0.2875 - mae: 0.4130 - mape: 9.3626\n",
      "Epoch 59/300\n",
      "446/446 [==============================] - 0s 854us/sample - loss: 0.2497 - mae: 0.3903 - mape: 8.9591\n",
      "Epoch 60/300\n",
      "446/446 [==============================] - 0s 863us/sample - loss: 0.3008 - mae: 0.4228 - mape: 9.6424\n",
      "Epoch 61/300\n",
      "446/446 [==============================] - 0s 883us/sample - loss: 0.2479 - mae: 0.3839 - mape: 8.7270\n",
      "Epoch 62/300\n",
      "446/446 [==============================] - 0s 806us/sample - loss: 0.2510 - mae: 0.3859 - mape: 8.8802\n",
      "Epoch 63/300\n",
      "446/446 [==============================] - 0s 929us/sample - loss: 0.2730 - mae: 0.3944 - mape: 8.8831\n",
      "Epoch 64/300\n",
      "446/446 [==============================] - 0s 804us/sample - loss: 0.2201 - mae: 0.3615 - mape: 8.2523\n",
      "Epoch 65/300\n",
      "446/446 [==============================] - 0s 861us/sample - loss: 0.2533 - mae: 0.3884 - mape: 8.7902\n",
      "Epoch 66/300\n",
      "446/446 [==============================] - 0s 857us/sample - loss: 0.2381 - mae: 0.3685 - mape: 8.3527\n",
      "Epoch 67/300\n",
      "446/446 [==============================] - 0s 903us/sample - loss: 0.2363 - mae: 0.3673 - mape: 8.3188\n",
      "Epoch 68/300\n",
      "446/446 [==============================] - 0s 876us/sample - loss: 0.2386 - mae: 0.3749 - mape: 8.6038\n",
      "Epoch 69/300\n",
      "446/446 [==============================] - 0s 905us/sample - loss: 0.2325 - mae: 0.3681 - mape: 8.3880\n",
      "Epoch 70/300\n",
      "446/446 [==============================] - 0s 861us/sample - loss: 0.2329 - mae: 0.3676 - mape: 8.3824\n",
      "Epoch 71/300\n",
      "446/446 [==============================] - 0s 929us/sample - loss: 0.2335 - mae: 0.3734 - mape: 8.5518\n",
      "Epoch 72/300\n",
      "446/446 [==============================] - 0s 781us/sample - loss: 0.2274 - mae: 0.3694 - mape: 8.3884\n",
      "Epoch 73/300\n",
      "446/446 [==============================] - 0s 807us/sample - loss: 0.2686 - mae: 0.4027 - mape: 9.0729\n",
      "Epoch 74/300\n",
      "446/446 [==============================] - 0s 878us/sample - loss: 0.2173 - mae: 0.3628 - mape: 8.3322\n",
      "Epoch 75/300\n",
      "446/446 [==============================] - 0s 847us/sample - loss: 0.2319 - mae: 0.3700 - mape: 8.4623\n",
      "Epoch 76/300\n",
      "446/446 [==============================] - 0s 835us/sample - loss: 0.2244 - mae: 0.3631 - mape: 8.2614\n",
      "Epoch 77/300\n",
      "446/446 [==============================] - 0s 862us/sample - loss: 0.2309 - mae: 0.3798 - mape: 8.6735\n",
      "Epoch 78/300\n",
      "446/446 [==============================] - 0s 958us/sample - loss: 0.2345 - mae: 0.3745 - mape: 8.4237\n",
      "Epoch 79/300\n",
      "446/446 [==============================] - 1s 1ms/sample - loss: 0.2225 - mae: 0.3640 - mape: 8.2522\n",
      "Epoch 80/300\n",
      "446/446 [==============================] - 0s 925us/sample - loss: 0.2515 - mae: 0.3806 - mape: 8.6304\n",
      "Epoch 81/300\n",
      "446/446 [==============================] - 0s 871us/sample - loss: 0.2406 - mae: 0.3760 - mape: 8.4580\n",
      "Epoch 82/300\n",
      "446/446 [==============================] - 0s 860us/sample - loss: 0.2298 - mae: 0.3705 - mape: 8.4719\n",
      "Epoch 83/300\n",
      "446/446 [==============================] - 0s 925us/sample - loss: 0.2534 - mae: 0.3899 - mape: 8.8935\n",
      "Epoch 84/300\n",
      "446/446 [==============================] - 0s 979us/sample - loss: 0.2223 - mae: 0.3651 - mape: 8.2501\n",
      "Epoch 85/300\n",
      "446/446 [==============================] - 0s 819us/sample - loss: 0.2375 - mae: 0.3843 - mape: 8.7454\n",
      "Epoch 86/300\n",
      "446/446 [==============================] - 0s 773us/sample - loss: 0.2295 - mae: 0.3678 - mape: 8.3672\n",
      "Epoch 87/300\n",
      "446/446 [==============================] - 0s 777us/sample - loss: 0.2319 - mae: 0.3723 - mape: 8.4494\n",
      "Epoch 88/300\n",
      "446/446 [==============================] - 0s 796us/sample - loss: 0.2065 - mae: 0.3446 - mape: 7.8558\n",
      "Epoch 89/300\n",
      "446/446 [==============================] - 0s 898us/sample - loss: 0.2075 - mae: 0.3480 - mape: 7.9585\n",
      "Epoch 90/300\n",
      "446/446 [==============================] - 0s 964us/sample - loss: 0.2486 - mae: 0.3826 - mape: 8.7658\n",
      "Epoch 91/300\n",
      "446/446 [==============================] - 0s 851us/sample - loss: 0.2306 - mae: 0.3721 - mape: 8.4773\n",
      "Epoch 92/300\n",
      "446/446 [==============================] - 0s 879us/sample - loss: 0.2171 - mae: 0.3671 - mape: 8.4516\n",
      "Epoch 93/300\n",
      "446/446 [==============================] - 0s 936us/sample - loss: 0.2067 - mae: 0.3430 - mape: 7.7524\n",
      "Epoch 94/300\n",
      "446/446 [==============================] - 0s 922us/sample - loss: 0.2159 - mae: 0.3608 - mape: 8.1697\n",
      "Epoch 95/300\n",
      "446/446 [==============================] - 0s 805us/sample - loss: 0.2139 - mae: 0.3584 - mape: 8.1903\n",
      "Epoch 96/300\n",
      "446/446 [==============================] - 0s 781us/sample - loss: 0.2296 - mae: 0.3692 - mape: 8.4541\n",
      "Epoch 97/300\n",
      "446/446 [==============================] - 0s 832us/sample - loss: 0.2163 - mae: 0.3535 - mape: 7.9975\n",
      "Epoch 98/300\n",
      "446/446 [==============================] - 0s 784us/sample - loss: 0.1882 - mae: 0.3334 - mape: 7.5645\n",
      "Epoch 99/300\n",
      "446/446 [==============================] - 0s 849us/sample - loss: 0.2058 - mae: 0.3556 - mape: 8.1893\n",
      "Epoch 100/300\n",
      "446/446 [==============================] - 0s 823us/sample - loss: 0.2157 - mae: 0.3528 - mape: 7.9386\n",
      "Epoch 101/300\n",
      "446/446 [==============================] - 0s 995us/sample - loss: 0.2029 - mae: 0.3503 - mape: 8.0626\n",
      "Epoch 102/300\n",
      "446/446 [==============================] - 0s 825us/sample - loss: 0.2319 - mae: 0.3688 - mape: 8.3503\n",
      "Epoch 103/300\n",
      "446/446 [==============================] - 0s 818us/sample - loss: 0.1947 - mae: 0.3445 - mape: 7.8283\n",
      "Epoch 104/300\n",
      "446/446 [==============================] - 0s 816us/sample - loss: 0.2071 - mae: 0.3538 - mape: 8.0030\n",
      "Epoch 105/300\n",
      "446/446 [==============================] - 0s 817us/sample - loss: 0.2170 - mae: 0.3597 - mape: 8.1536\n",
      "Epoch 106/300\n",
      "446/446 [==============================] - 0s 779us/sample - loss: 0.2278 - mae: 0.3570 - mape: 8.0456\n",
      "Epoch 107/300\n",
      "446/446 [==============================] - 0s 780us/sample - loss: 0.2153 - mae: 0.3597 - mape: 8.2025\n",
      "Epoch 108/300\n",
      "446/446 [==============================] - 0s 820us/sample - loss: 0.2457 - mae: 0.3727 - mape: 8.4232\n",
      "Epoch 109/300\n",
      "446/446 [==============================] - 0s 785us/sample - loss: 0.2083 - mae: 0.3574 - mape: 8.1003\n",
      "Epoch 110/300\n",
      "446/446 [==============================] - 0s 827us/sample - loss: 0.2321 - mae: 0.3646 - mape: 8.2141\n",
      "Epoch 111/300\n",
      "446/446 [==============================] - 0s 786us/sample - loss: 0.2123 - mae: 0.3458 - mape: 7.7958\n",
      "Epoch 112/300\n",
      "446/446 [==============================] - 0s 796us/sample - loss: 0.2318 - mae: 0.3691 - mape: 8.4184\n",
      "Epoch 113/300\n",
      "446/446 [==============================] - 0s 821us/sample - loss: 0.2104 - mae: 0.3557 - mape: 8.1435\n",
      "Epoch 114/300\n",
      "446/446 [==============================] - 0s 813us/sample - loss: 0.2029 - mae: 0.3451 - mape: 7.8348\n",
      "Epoch 115/300\n",
      "446/446 [==============================] - 0s 796us/sample - loss: 0.1940 - mae: 0.3400 - mape: 7.7783\n",
      "Epoch 116/300\n",
      "446/446 [==============================] - 0s 816us/sample - loss: 0.2277 - mae: 0.3664 - mape: 8.2733\n",
      "Epoch 117/300\n",
      "446/446 [==============================] - 0s 826us/sample - loss: 0.2006 - mae: 0.3454 - mape: 7.8546\n",
      "Epoch 118/300\n",
      "446/446 [==============================] - 0s 768us/sample - loss: 0.2263 - mae: 0.3696 - mape: 8.3970\n",
      "Epoch 119/300\n",
      "446/446 [==============================] - 0s 881us/sample - loss: 0.2209 - mae: 0.3569 - mape: 8.0362\n",
      "Epoch 120/300\n",
      "446/446 [==============================] - 0s 831us/sample - loss: 0.1969 - mae: 0.3462 - mape: 7.8670\n",
      "Epoch 121/300\n",
      "446/446 [==============================] - 0s 825us/sample - loss: 0.2121 - mae: 0.3537 - mape: 7.9881\n",
      "Epoch 122/300\n",
      "446/446 [==============================] - 0s 851us/sample - loss: 0.2090 - mae: 0.3531 - mape: 7.9417\n",
      "Epoch 123/300\n",
      "446/446 [==============================] - 0s 790us/sample - loss: 0.2057 - mae: 0.3430 - mape: 7.7861\n",
      "Epoch 124/300\n",
      "446/446 [==============================] - 0s 811us/sample - loss: 0.2051 - mae: 0.3498 - mape: 7.9906\n",
      "Epoch 125/300\n",
      "446/446 [==============================] - 0s 860us/sample - loss: 0.2012 - mae: 0.3458 - mape: 7.7977\n",
      "Epoch 126/300\n",
      "446/446 [==============================] - 0s 803us/sample - loss: 0.2034 - mae: 0.3491 - mape: 7.9600\n",
      "Epoch 127/300\n",
      "446/446 [==============================] - 0s 822us/sample - loss: 0.2186 - mae: 0.3521 - mape: 7.9205\n",
      "Epoch 128/300\n",
      "446/446 [==============================] - 0s 839us/sample - loss: 0.2169 - mae: 0.3470 - mape: 7.7863\n",
      "Epoch 129/300\n",
      "446/446 [==============================] - 0s 817us/sample - loss: 0.1988 - mae: 0.3415 - mape: 7.7926\n",
      "Epoch 130/300\n",
      "446/446 [==============================] - 0s 789us/sample - loss: 0.2150 - mae: 0.3543 - mape: 7.9973\n",
      "Epoch 131/300\n",
      "446/446 [==============================] - 0s 816us/sample - loss: 0.2170 - mae: 0.3527 - mape: 7.9247\n",
      "Epoch 132/300\n",
      "446/446 [==============================] - 0s 826us/sample - loss: 0.2071 - mae: 0.3454 - mape: 7.7053\n",
      "Epoch 133/300\n",
      "446/446 [==============================] - 0s 798us/sample - loss: 0.2004 - mae: 0.3470 - mape: 7.8614\n",
      "Epoch 134/300\n",
      "446/446 [==============================] - 0s 776us/sample - loss: 0.1824 - mae: 0.3240 - mape: 7.3023\n",
      "Epoch 135/300\n",
      "446/446 [==============================] - 0s 825us/sample - loss: 0.2213 - mae: 0.3634 - mape: 8.2875\n",
      "Epoch 136/300\n",
      "446/446 [==============================] - 0s 782us/sample - loss: 0.2115 - mae: 0.3494 - mape: 7.8389\n",
      "Epoch 137/300\n",
      "446/446 [==============================] - 0s 780us/sample - loss: 0.1940 - mae: 0.3393 - mape: 7.7467\n",
      "Epoch 138/300\n",
      "446/446 [==============================] - 0s 799us/sample - loss: 0.2281 - mae: 0.3725 - mape: 8.4220\n",
      "Epoch 139/300\n",
      "446/446 [==============================] - 0s 842us/sample - loss: 0.2145 - mae: 0.3483 - mape: 7.8202\n",
      "Epoch 140/300\n",
      "446/446 [==============================] - 0s 798us/sample - loss: 0.1999 - mae: 0.3460 - mape: 7.8165\n",
      "Epoch 141/300\n",
      "446/446 [==============================] - 0s 774us/sample - loss: 0.2065 - mae: 0.3443 - mape: 7.8321\n",
      "Epoch 142/300\n",
      "446/446 [==============================] - 0s 820us/sample - loss: 0.1814 - mae: 0.3243 - mape: 7.3746\n",
      "Epoch 143/300\n",
      "446/446 [==============================] - 0s 781us/sample - loss: 0.2203 - mae: 0.3636 - mape: 8.2461\n",
      "Epoch 144/300\n",
      "446/446 [==============================] - 0s 791us/sample - loss: 0.1993 - mae: 0.3427 - mape: 7.7498\n",
      "Epoch 145/300\n",
      "446/446 [==============================] - 0s 779us/sample - loss: 0.1833 - mae: 0.3326 - mape: 7.6345\n",
      "Epoch 146/300\n",
      "446/446 [==============================] - 0s 776us/sample - loss: 0.1983 - mae: 0.3422 - mape: 7.7462\n",
      "Epoch 147/300\n",
      "446/446 [==============================] - 0s 786us/sample - loss: 0.2425 - mae: 0.3770 - mape: 8.5121\n",
      "Epoch 148/300\n",
      "446/446 [==============================] - 0s 785us/sample - loss: 0.2015 - mae: 0.3445 - mape: 7.7509\n",
      "Epoch 149/300\n",
      "446/446 [==============================] - 0s 816us/sample - loss: 0.2279 - mae: 0.3625 - mape: 8.1756\n",
      "Epoch 150/300\n",
      "446/446 [==============================] - 0s 813us/sample - loss: 0.2097 - mae: 0.3531 - mape: 7.9254\n",
      "Epoch 151/300\n",
      "446/446 [==============================] - 0s 775us/sample - loss: 0.1920 - mae: 0.3356 - mape: 7.5885\n",
      "Epoch 152/300\n",
      "446/446 [==============================] - 0s 780us/sample - loss: 0.1934 - mae: 0.3418 - mape: 7.7791\n",
      "Epoch 153/300\n",
      "446/446 [==============================] - 0s 799us/sample - loss: 0.1977 - mae: 0.3438 - mape: 7.7975\n",
      "Epoch 154/300\n",
      "446/446 [==============================] - 0s 816us/sample - loss: 0.1922 - mae: 0.3374 - mape: 7.6649\n",
      "Epoch 155/300\n",
      "446/446 [==============================] - 0s 807us/sample - loss: 0.2044 - mae: 0.3388 - mape: 7.6640\n",
      "Epoch 156/300\n",
      "446/446 [==============================] - 0s 795us/sample - loss: 0.1866 - mae: 0.3317 - mape: 7.4685\n",
      "Epoch 157/300\n",
      "446/446 [==============================] - 0s 804us/sample - loss: 0.1952 - mae: 0.3360 - mape: 7.6519\n",
      "Epoch 158/300\n",
      "446/446 [==============================] - 0s 775us/sample - loss: 0.1865 - mae: 0.3241 - mape: 7.2966\n",
      "Epoch 159/300\n",
      "446/446 [==============================] - 0s 776us/sample - loss: 0.1865 - mae: 0.3363 - mape: 7.6739\n",
      "Epoch 160/300\n",
      "446/446 [==============================] - 0s 773us/sample - loss: 0.2018 - mae: 0.3440 - mape: 7.7946\n",
      "Epoch 161/300\n",
      "446/446 [==============================] - 0s 834us/sample - loss: 0.1822 - mae: 0.3292 - mape: 7.5559\n",
      "Epoch 162/300\n",
      "446/446 [==============================] - 0s 767us/sample - loss: 0.1846 - mae: 0.3257 - mape: 7.3317\n",
      "Epoch 163/300\n",
      "446/446 [==============================] - 0s 778us/sample - loss: 0.1835 - mae: 0.3293 - mape: 7.4897\n",
      "Epoch 164/300\n",
      "446/446 [==============================] - 0s 777us/sample - loss: 0.1911 - mae: 0.3330 - mape: 7.5016\n",
      "Epoch 165/300\n",
      "446/446 [==============================] - 0s 762us/sample - loss: 0.1887 - mae: 0.3437 - mape: 7.8724\n",
      "Epoch 166/300\n",
      "446/446 [==============================] - 0s 776us/sample - loss: 0.1902 - mae: 0.3333 - mape: 7.5107\n",
      "Epoch 167/300\n",
      "446/446 [==============================] - 0s 869us/sample - loss: 0.1986 - mae: 0.3366 - mape: 7.5335\n",
      "Epoch 168/300\n",
      "446/446 [==============================] - 0s 784us/sample - loss: 0.1850 - mae: 0.3304 - mape: 7.4823\n",
      "Epoch 169/300\n",
      "446/446 [==============================] - 0s 784us/sample - loss: 0.1892 - mae: 0.3395 - mape: 7.7225\n",
      "Epoch 170/300\n",
      "446/446 [==============================] - 0s 776us/sample - loss: 0.1864 - mae: 0.3312 - mape: 7.5864\n",
      "Epoch 171/300\n",
      "446/446 [==============================] - 0s 768us/sample - loss: 0.1927 - mae: 0.3303 - mape: 7.4804\n",
      "Epoch 172/300\n",
      "446/446 [==============================] - 0s 781us/sample - loss: 0.1986 - mae: 0.3358 - mape: 7.5802\n",
      "Epoch 173/300\n",
      "446/446 [==============================] - 0s 821us/sample - loss: 0.1844 - mae: 0.3283 - mape: 7.3788\n",
      "Epoch 174/300\n",
      "446/446 [==============================] - 0s 781us/sample - loss: 0.1880 - mae: 0.3408 - mape: 7.7668\n",
      "Epoch 175/300\n",
      "446/446 [==============================] - 0s 806us/sample - loss: 0.1826 - mae: 0.3338 - mape: 7.5190\n",
      "Epoch 176/300\n",
      "446/446 [==============================] - 0s 796us/sample - loss: 0.1875 - mae: 0.3330 - mape: 7.5902\n",
      "Epoch 177/300\n",
      "446/446 [==============================] - 0s 785us/sample - loss: 0.1819 - mae: 0.3274 - mape: 7.4201\n",
      "Epoch 178/300\n",
      "446/446 [==============================] - 0s 834us/sample - loss: 0.1900 - mae: 0.3332 - mape: 7.5000\n",
      "Epoch 179/300\n",
      "446/446 [==============================] - 0s 766us/sample - loss: 0.1679 - mae: 0.3175 - mape: 7.2079\n",
      "Epoch 180/300\n",
      "446/446 [==============================] - 0s 807us/sample - loss: 0.1777 - mae: 0.3257 - mape: 7.3694\n",
      "Epoch 181/300\n",
      "446/446 [==============================] - 0s 825us/sample - loss: 0.1844 - mae: 0.3373 - mape: 7.6787\n",
      "Epoch 182/300\n",
      "446/446 [==============================] - 0s 812us/sample - loss: 0.1852 - mae: 0.3305 - mape: 7.3923\n",
      "Epoch 183/300\n",
      "446/446 [==============================] - 0s 780us/sample - loss: 0.1695 - mae: 0.3238 - mape: 7.3861\n",
      "Epoch 184/300\n",
      "446/446 [==============================] - 0s 828us/sample - loss: 0.1913 - mae: 0.3352 - mape: 7.5804\n",
      "Epoch 185/300\n",
      "446/446 [==============================] - 0s 813us/sample - loss: 0.1886 - mae: 0.3307 - mape: 7.4029\n",
      "Epoch 186/300\n",
      "446/446 [==============================] - 0s 775us/sample - loss: 0.1812 - mae: 0.3216 - mape: 7.2284\n",
      "Epoch 187/300\n",
      "446/446 [==============================] - 0s 809us/sample - loss: 0.1977 - mae: 0.3429 - mape: 7.7211\n",
      "Epoch 188/300\n",
      "446/446 [==============================] - 0s 771us/sample - loss: 0.1944 - mae: 0.3295 - mape: 7.3880\n",
      "Epoch 189/300\n",
      "446/446 [==============================] - 0s 772us/sample - loss: 0.1778 - mae: 0.3288 - mape: 7.3956\n",
      "Epoch 190/300\n",
      "446/446 [==============================] - 0s 777us/sample - loss: 0.1842 - mae: 0.3285 - mape: 7.4848\n",
      "Epoch 191/300\n",
      "446/446 [==============================] - 0s 771us/sample - loss: 0.1847 - mae: 0.3297 - mape: 7.4626\n",
      "Epoch 192/300\n",
      "446/446 [==============================] - 0s 796us/sample - loss: 0.1700 - mae: 0.3143 - mape: 7.1044\n",
      "Epoch 193/300\n",
      "446/446 [==============================] - 0s 785us/sample - loss: 0.1753 - mae: 0.3238 - mape: 7.3567\n",
      "Epoch 194/300\n",
      "446/446 [==============================] - 0s 848us/sample - loss: 0.1863 - mae: 0.3324 - mape: 7.4679\n",
      "Epoch 195/300\n",
      "446/446 [==============================] - 0s 861us/sample - loss: 0.1788 - mae: 0.3249 - mape: 7.3501\n",
      "Epoch 196/300\n",
      "446/446 [==============================] - 0s 827us/sample - loss: 0.1679 - mae: 0.3167 - mape: 7.2229\n",
      "Epoch 197/300\n",
      "446/446 [==============================] - 0s 841us/sample - loss: 0.1803 - mae: 0.3271 - mape: 7.4047\n",
      "Epoch 198/300\n",
      "446/446 [==============================] - 0s 859us/sample - loss: 0.1850 - mae: 0.3340 - mape: 7.5395\n",
      "Epoch 199/300\n",
      "446/446 [==============================] - 0s 867us/sample - loss: 0.1643 - mae: 0.3155 - mape: 7.1772\n",
      "Epoch 200/300\n",
      "446/446 [==============================] - 0s 842us/sample - loss: 0.1868 - mae: 0.3397 - mape: 7.7130\n",
      "Epoch 201/300\n",
      "446/446 [==============================] - 0s 965us/sample - loss: 0.1667 - mae: 0.3090 - mape: 6.9651\n",
      "Epoch 202/300\n",
      "446/446 [==============================] - 0s 852us/sample - loss: 0.1744 - mae: 0.3238 - mape: 7.3039\n",
      "Epoch 203/300\n",
      "446/446 [==============================] - 0s 857us/sample - loss: 0.1700 - mae: 0.3193 - mape: 7.2637\n",
      "Epoch 204/300\n",
      "446/446 [==============================] - 0s 846us/sample - loss: 0.1636 - mae: 0.3104 - mape: 7.0700\n",
      "Epoch 205/300\n",
      "446/446 [==============================] - 0s 839us/sample - loss: 0.1698 - mae: 0.3192 - mape: 7.2552\n",
      "Epoch 206/300\n",
      "446/446 [==============================] - 0s 843us/sample - loss: 0.1859 - mae: 0.3276 - mape: 7.3084\n",
      "Epoch 207/300\n",
      "446/446 [==============================] - 0s 839us/sample - loss: 0.1767 - mae: 0.3266 - mape: 7.3709\n",
      "Epoch 208/300\n",
      "446/446 [==============================] - 0s 883us/sample - loss: 0.1979 - mae: 0.3371 - mape: 7.5326\n",
      "Epoch 209/300\n",
      "446/446 [==============================] - 0s 909us/sample - loss: 0.1983 - mae: 0.3424 - mape: 7.6754\n",
      "Epoch 210/300\n",
      "446/446 [==============================] - 0s 880us/sample - loss: 0.1903 - mae: 0.3307 - mape: 7.4233\n",
      "Epoch 211/300\n",
      "446/446 [==============================] - 0s 878us/sample - loss: 0.1763 - mae: 0.3254 - mape: 7.3211\n",
      "Epoch 212/300\n",
      "446/446 [==============================] - 0s 840us/sample - loss: 0.1795 - mae: 0.3305 - mape: 7.4995\n",
      "Epoch 213/300\n",
      "446/446 [==============================] - 0s 845us/sample - loss: 0.1834 - mae: 0.3316 - mape: 7.4486\n",
      "Epoch 214/300\n",
      "446/446 [==============================] - 0s 1ms/sample - loss: 0.1716 - mae: 0.3164 - mape: 7.1858\n",
      "Epoch 215/300\n",
      "446/446 [==============================] - 0s 843us/sample - loss: 0.1816 - mae: 0.3286 - mape: 7.3691\n",
      "Epoch 216/300\n",
      "446/446 [==============================] - 0s 918us/sample - loss: 0.1870 - mae: 0.3277 - mape: 7.3601\n",
      "Epoch 217/300\n",
      "446/446 [==============================] - 0s 877us/sample - loss: 0.1724 - mae: 0.3182 - mape: 7.1960\n",
      "Epoch 218/300\n",
      "446/446 [==============================] - 0s 917us/sample - loss: 0.1844 - mae: 0.3273 - mape: 7.4277\n",
      "Epoch 219/300\n",
      "446/446 [==============================] - 0s 911us/sample - loss: 0.1636 - mae: 0.3114 - mape: 7.0558\n",
      "Epoch 220/300\n",
      "446/446 [==============================] - 0s 884us/sample - loss: 0.1689 - mae: 0.3176 - mape: 7.2556\n",
      "Epoch 221/300\n",
      "446/446 [==============================] - 0s 908us/sample - loss: 0.1559 - mae: 0.3077 - mape: 6.9582\n",
      "Epoch 222/300\n",
      "446/446 [==============================] - 0s 879us/sample - loss: 0.1698 - mae: 0.3146 - mape: 7.0922\n",
      "Epoch 223/300\n",
      "446/446 [==============================] - 0s 880us/sample - loss: 0.1585 - mae: 0.2962 - mape: 6.6459\n",
      "Epoch 224/300\n",
      "446/446 [==============================] - 0s 911us/sample - loss: 0.1788 - mae: 0.3249 - mape: 7.3054\n",
      "Epoch 225/300\n",
      "446/446 [==============================] - 0s 878us/sample - loss: 0.1710 - mae: 0.3172 - mape: 7.1965\n",
      "Epoch 226/300\n",
      "446/446 [==============================] - 0s 903us/sample - loss: 0.1704 - mae: 0.3187 - mape: 7.2168\n",
      "Epoch 227/300\n",
      "446/446 [==============================] - 0s 883us/sample - loss: 0.1794 - mae: 0.3282 - mape: 7.4197\n",
      "Epoch 228/300\n",
      "446/446 [==============================] - 0s 846us/sample - loss: 0.1619 - mae: 0.3129 - mape: 7.0419\n",
      "Epoch 229/300\n",
      "446/446 [==============================] - 0s 840us/sample - loss: 0.1817 - mae: 0.3283 - mape: 7.4093\n",
      "Epoch 230/300\n",
      "446/446 [==============================] - 0s 850us/sample - loss: 0.1940 - mae: 0.3353 - mape: 7.5677\n",
      "Epoch 231/300\n",
      "446/446 [==============================] - 0s 843us/sample - loss: 0.1762 - mae: 0.3263 - mape: 7.3385\n",
      "Epoch 232/300\n",
      "446/446 [==============================] - 0s 863us/sample - loss: 0.1774 - mae: 0.3221 - mape: 7.3188\n",
      "Epoch 233/300\n",
      "446/446 [==============================] - 0s 851us/sample - loss: 0.1702 - mae: 0.3211 - mape: 7.2396\n",
      "Epoch 234/300\n",
      "446/446 [==============================] - 0s 870us/sample - loss: 0.1694 - mae: 0.3157 - mape: 7.1167\n",
      "Epoch 235/300\n",
      "446/446 [==============================] - 0s 840us/sample - loss: 0.1806 - mae: 0.3298 - mape: 7.5224\n",
      "Epoch 236/300\n",
      "446/446 [==============================] - 0s 839us/sample - loss: 0.1616 - mae: 0.3086 - mape: 6.9672\n",
      "Epoch 237/300\n",
      "446/446 [==============================] - 0s 920us/sample - loss: 0.1735 - mae: 0.3174 - mape: 7.2179\n",
      "Epoch 238/300\n",
      "446/446 [==============================] - 0s 872us/sample - loss: 0.1887 - mae: 0.3285 - mape: 7.3930\n",
      "Epoch 239/300\n",
      "446/446 [==============================] - 0s 890us/sample - loss: 0.1583 - mae: 0.3034 - mape: 6.8503\n",
      "Epoch 240/300\n",
      "446/446 [==============================] - 0s 836us/sample - loss: 0.1746 - mae: 0.3268 - mape: 7.4618\n",
      "Epoch 241/300\n",
      "446/446 [==============================] - 0s 874us/sample - loss: 0.1820 - mae: 0.3221 - mape: 7.1782\n",
      "Epoch 242/300\n",
      "446/446 [==============================] - 1s 1ms/sample - loss: 0.1556 - mae: 0.3027 - mape: 6.8405\n",
      "Epoch 243/300\n",
      "446/446 [==============================] - 0s 919us/sample - loss: 0.1677 - mae: 0.3185 - mape: 7.1961\n",
      "Epoch 244/300\n",
      "446/446 [==============================] - 0s 877us/sample - loss: 0.1732 - mae: 0.3190 - mape: 7.1838\n",
      "Epoch 245/300\n",
      "446/446 [==============================] - 0s 917us/sample - loss: 0.1763 - mae: 0.3197 - mape: 7.1852\n",
      "Epoch 246/300\n",
      "446/446 [==============================] - 0s 907us/sample - loss: 0.1674 - mae: 0.3138 - mape: 7.1156\n",
      "Epoch 247/300\n",
      "446/446 [==============================] - 0s 886us/sample - loss: 0.1778 - mae: 0.3236 - mape: 7.4016\n",
      "Epoch 248/300\n",
      "446/446 [==============================] - 0s 925us/sample - loss: 0.1788 - mae: 0.3216 - mape: 7.1965\n",
      "Epoch 249/300\n",
      "446/446 [==============================] - 0s 948us/sample - loss: 0.1684 - mae: 0.3119 - mape: 7.0940\n",
      "Epoch 250/300\n",
      "446/446 [==============================] - 0s 866us/sample - loss: 0.1571 - mae: 0.3082 - mape: 6.9851\n",
      "Epoch 251/300\n",
      "446/446 [==============================] - 0s 904us/sample - loss: 0.1869 - mae: 0.3335 - mape: 7.5317\n",
      "Epoch 252/300\n",
      "446/446 [==============================] - 0s 868us/sample - loss: 0.1693 - mae: 0.3244 - mape: 7.3588\n",
      "Epoch 253/300\n",
      "446/446 [==============================] - 0s 901us/sample - loss: 0.1661 - mae: 0.3143 - mape: 7.1469\n",
      "Epoch 254/300\n",
      "446/446 [==============================] - 0s 879us/sample - loss: 0.1592 - mae: 0.3063 - mape: 6.9146\n",
      "Epoch 255/300\n",
      "446/446 [==============================] - 0s 874us/sample - loss: 0.1788 - mae: 0.3242 - mape: 7.3277\n",
      "Epoch 256/300\n",
      "446/446 [==============================] - 0s 881us/sample - loss: 0.1662 - mae: 0.3082 - mape: 7.0040\n",
      "Epoch 257/300\n",
      "446/446 [==============================] - 0s 924us/sample - loss: 0.1702 - mae: 0.3101 - mape: 7.0071\n",
      "Epoch 258/300\n",
      "446/446 [==============================] - 0s 886us/sample - loss: 0.1533 - mae: 0.3021 - mape: 6.8715\n",
      "Epoch 259/300\n",
      "446/446 [==============================] - 0s 961us/sample - loss: 0.1733 - mae: 0.3255 - mape: 7.3137\n",
      "Epoch 260/300\n",
      "446/446 [==============================] - 0s 845us/sample - loss: 0.1788 - mae: 0.3144 - mape: 7.0611\n",
      "Epoch 261/300\n",
      "446/446 [==============================] - 0s 856us/sample - loss: 0.1583 - mae: 0.3089 - mape: 6.9881\n",
      "Epoch 262/300\n",
      "446/446 [==============================] - 0s 878us/sample - loss: 0.1583 - mae: 0.3080 - mape: 6.9410\n",
      "Epoch 263/300\n",
      "446/446 [==============================] - 0s 843us/sample - loss: 0.1666 - mae: 0.3173 - mape: 7.1305\n",
      "Epoch 264/300\n",
      "446/446 [==============================] - 0s 847us/sample - loss: 0.1708 - mae: 0.3150 - mape: 7.1665\n",
      "Epoch 265/300\n",
      "446/446 [==============================] - 0s 843us/sample - loss: 0.1567 - mae: 0.3024 - mape: 6.7898\n",
      "Epoch 266/300\n",
      "446/446 [==============================] - 0s 843us/sample - loss: 0.1608 - mae: 0.3040 - mape: 6.9054\n",
      "Epoch 267/300\n",
      "446/446 [==============================] - 0s 836us/sample - loss: 0.1598 - mae: 0.3036 - mape: 6.8601\n",
      "Epoch 268/300\n",
      "446/446 [==============================] - 0s 856us/sample - loss: 0.1674 - mae: 0.3107 - mape: 7.0046\n",
      "Epoch 269/300\n",
      "446/446 [==============================] - 0s 876us/sample - loss: 0.1803 - mae: 0.3221 - mape: 7.1677\n",
      "Epoch 270/300\n",
      "446/446 [==============================] - 0s 851us/sample - loss: 0.1555 - mae: 0.3053 - mape: 6.8317\n",
      "Epoch 271/300\n",
      "446/446 [==============================] - 0s 888us/sample - loss: 0.1538 - mae: 0.3016 - mape: 6.8786\n",
      "Epoch 272/300\n",
      "446/446 [==============================] - 0s 899us/sample - loss: 0.1795 - mae: 0.3201 - mape: 7.1959\n",
      "Epoch 273/300\n",
      "446/446 [==============================] - 0s 1ms/sample - loss: 0.1618 - mae: 0.3088 - mape: 7.0022\n",
      "Epoch 274/300\n",
      "446/446 [==============================] - 0s 917us/sample - loss: 0.1893 - mae: 0.3340 - mape: 7.4201\n",
      "Epoch 275/300\n",
      "446/446 [==============================] - 0s 869us/sample - loss: 0.1623 - mae: 0.3110 - mape: 7.0224\n",
      "Epoch 276/300\n",
      "446/446 [==============================] - 0s 878us/sample - loss: 0.1565 - mae: 0.3088 - mape: 6.9671\n",
      "Epoch 277/300\n",
      "446/446 [==============================] - 0s 873us/sample - loss: 0.1476 - mae: 0.2943 - mape: 6.6317\n",
      "Epoch 278/300\n",
      "446/446 [==============================] - 0s 874us/sample - loss: 0.1501 - mae: 0.2920 - mape: 6.6215\n",
      "Epoch 279/300\n",
      "446/446 [==============================] - 0s 903us/sample - loss: 0.1724 - mae: 0.3211 - mape: 7.1697\n",
      "Epoch 280/300\n",
      "446/446 [==============================] - 0s 896us/sample - loss: 0.1644 - mae: 0.3140 - mape: 7.1341\n",
      "Epoch 281/300\n",
      "446/446 [==============================] - 0s 888us/sample - loss: 0.1656 - mae: 0.3112 - mape: 6.9852\n",
      "Epoch 282/300\n",
      "446/446 [==============================] - 0s 872us/sample - loss: 0.1785 - mae: 0.3190 - mape: 7.0871\n",
      "Epoch 283/300\n",
      "446/446 [==============================] - 0s 911us/sample - loss: 0.1459 - mae: 0.2923 - mape: 6.5951\n",
      "Epoch 284/300\n",
      "446/446 [==============================] - 0s 895us/sample - loss: 0.1666 - mae: 0.3113 - mape: 7.0465\n",
      "Epoch 285/300\n",
      "446/446 [==============================] - 0s 893us/sample - loss: 0.1600 - mae: 0.3046 - mape: 6.8607\n",
      "Epoch 286/300\n",
      "446/446 [==============================] - 0s 870us/sample - loss: 0.1579 - mae: 0.2984 - mape: 6.7054\n",
      "Epoch 287/300\n",
      "446/446 [==============================] - 0s 917us/sample - loss: 0.1581 - mae: 0.3096 - mape: 7.0265\n",
      "Epoch 288/300\n",
      "446/446 [==============================] - 0s 925us/sample - loss: 0.1650 - mae: 0.3130 - mape: 7.0863\n",
      "Epoch 289/300\n",
      "446/446 [==============================] - 0s 926us/sample - loss: 0.1608 - mae: 0.3038 - mape: 6.7567\n",
      "Epoch 290/300\n",
      "446/446 [==============================] - 0s 901us/sample - loss: 0.1437 - mae: 0.2855 - mape: 6.4309\n",
      "Epoch 291/300\n",
      "446/446 [==============================] - 0s 880us/sample - loss: 0.1656 - mae: 0.3110 - mape: 7.0056\n",
      "Epoch 292/300\n",
      "446/446 [==============================] - 0s 877us/sample - loss: 0.1744 - mae: 0.3077 - mape: 6.8434\n",
      "Epoch 293/300\n",
      "446/446 [==============================] - 0s 899us/sample - loss: 0.1568 - mae: 0.2981 - mape: 6.7405\n",
      "Epoch 294/300\n",
      "446/446 [==============================] - 0s 877us/sample - loss: 0.1620 - mae: 0.3062 - mape: 6.8730\n",
      "Epoch 295/300\n",
      "446/446 [==============================] - 0s 918us/sample - loss: 0.1646 - mae: 0.3091 - mape: 6.9253\n",
      "Epoch 296/300\n",
      "446/446 [==============================] - 0s 875us/sample - loss: 0.1533 - mae: 0.2992 - mape: 6.7726\n",
      "Epoch 297/300\n",
      "446/446 [==============================] - 0s 907us/sample - loss: 0.1540 - mae: 0.3017 - mape: 6.7502\n",
      "Epoch 298/300\n",
      "446/446 [==============================] - 0s 883us/sample - loss: 0.1498 - mae: 0.3001 - mape: 6.7874\n",
      "Epoch 299/300\n",
      "446/446 [==============================] - 0s 882us/sample - loss: 0.1541 - mae: 0.3052 - mape: 6.8723\n",
      "Epoch 300/300\n",
      "446/446 [==============================] - 0s 868us/sample - loss: 0.1718 - mae: 0.3152 - mape: 7.0950\n"
     ]
    }
   ],
   "source": [
    "lstm_2stock = LSTMModule()\n",
    "lstm_2stock.batch_size = 64\n",
    "lstm_2stock.input_shape = 5,16\n",
    "lstm_2stock.output_size = 2\n",
    "lstm_2stock.model = lstm_2stock.build_model()\n",
    "history_2stock = lstm_2stock.model.fit(train_x, train_y,epochs=300)"
   ],
   "metadata": {
    "collapsed": false,
    "pycharm": {
     "name": "#%%\n"
    }
   }
  },
  {
   "cell_type": "code",
   "execution_count": 120,
   "outputs": [],
   "source": [
    "y_pred = lstm_2stock.model.predict(test_x)"
   ],
   "metadata": {
    "collapsed": false,
    "pycharm": {
     "name": "#%%\n"
    }
   }
  },
  {
   "cell_type": "code",
   "execution_count": 121,
   "outputs": [
    {
     "data": {
      "text/plain": "<Figure size 432x288 with 1 Axes>",
      "image/png": "[encoded data removed]"
     },
     "metadata": {
      "needs_background": "light"
     },
     "output_type": "display_data"
    }
   ],
   "source": [
    "%matplotlib inline\n",
    "import matplotlib.pyplot as plt\n",
    "\n",
    "\n",
    "plt.plot(test_y[:,0], color = 'red', label = 'Real Stock Price')\n",
    "plt.plot(y_pred[:,0], color = 'blue', label = 'Predicted Stock Price')\n",
    "plt.title('Stock Price Prediction')\n",
    "plt.xlabel('Time')\n",
    "plt.ylabel('Stock1 Price')\n",
    "plt.legend()\n",
    "plt.show()"
   ],
   "metadata": {
    "collapsed": false,
    "pycharm": {
     "name": "#%%\n"
    }
   }
  },
  {
   "cell_type": "code",
   "execution_count": 122,
   "outputs": [
    {
     "data": {
      "text/plain": "<Figure size 432x288 with 1 Axes>",
      "image/png": "[encoded data removed]"
     },
     "metadata": {
      "needs_background": "light"
     },
     "output_type": "display_data"
    }
   ],
   "source": [
    "%matplotlib inline\n",
    "import matplotlib.pyplot as plt\n",
    "\n",
    "\n",
    "plt.plot(test_y[:,1], color = 'red', label = 'Real Stock Price')\n",
    "plt.plot(y_pred[:,1], color = 'blue', label = 'Predicted Stock Price')\n",
    "plt.title('Stock Price Prediction')\n",
    "plt.xlabel('Time')\n",
    "plt.ylabel('Stock2 Price')\n",
    "plt.legend()\n",
    "plt.show()"
   ],
   "metadata": {
    "collapsed": false,
    "pycharm": {
     "name": "#%%\n"
    }
   }
  },
  {
   "cell_type": "code",
   "execution_count": 215,
   "outputs": [],
   "source": [
    "sh_list = [tscode for tscode in whole_df.ts_code.unique() if ('SH' in tscode) & ('688' != tscode[:3])]\n",
    "sz_list = [tscode for tscode in whole_df.ts_code.unique() if ('SZ' in tscode) & ('300' != tscode[:3])]\n",
    "bj_list = [tscode for tscode in whole_df.ts_code.unique() if 'BJ' in tscode]"
   ],
   "metadata": {
    "collapsed": false,
    "pycharm": {
     "name": "#%%\n"
    }
   }
  },
  {
   "cell_type": "code",
   "execution_count": 192,
   "outputs": [],
   "source": [
    "import random\n",
    "random.seed(950925)"
   ],
   "metadata": {
    "collapsed": false,
    "pycharm": {
     "name": "#%%\n"
    }
   }
  },
  {
   "cell_type": "code",
   "execution_count": 20,
   "outputs": [
    {
     "ename": "SyntaxError",
     "evalue": "invalid syntax (<ipython-input-20-ac6ec1b54747>, line 2)",
     "output_type": "error",
     "traceback": [
      "\u001B[0;36m  File \u001B[0;32m\"<ipython-input-20-ac6ec1b54747>\"\u001B[0;36m, line \u001B[0;32m2\u001B[0m\n\u001B[0;31m    sh5=['600812.SH','603053.SH'], '600609.SH']\u001B[0m\n\u001B[0m                                              ^\u001B[0m\n\u001B[0;31mSyntaxError\u001B[0m\u001B[0;31m:\u001B[0m invalid syntax\n"
     ]
    }
   ],
   "source": [
    "# sh5 = random.sample(sh_list,5)\n",
    "sh5=['600812.SH','603053.SH'], '600609.SH']"
   ],
   "metadata": {
    "collapsed": false,
    "pycharm": {
     "name": "#%%\n"
    }
   }
  },
  {
   "cell_type": "code",
   "execution_count": 216,
   "outputs": [],
   "source": [
    "sz5 = random.sample(sz_list,5)\n",
    "bj5 = random.sample(bj_list,5)"
   ],
   "metadata": {
    "collapsed": false,
    "pycharm": {
     "name": "#%%\n"
    }
   }
  },
  {
   "cell_type": "code",
   "execution_count": 21,
   "outputs": [],
   "source": [
    "def prepare_data(df, tscode_list):\n",
    "    target_df = df[df.ts_code.isin(tscode_list)].reset_index(drop=True)\n",
    "    stocks_df = target_df.pivot(index='trade_date',columns='ts_code')\n",
    "    stocks_df.columns = [a+'_'+b for a,b in stocks_df.columns.to_flat_index()]\n",
    "    stocks_df.fillna(method='ffill',inplace=True)\n",
    "    cols_x = [col for col in stocks_df.columns if 'open_' not in col]\n",
    "    cols_y = [col for col in stocks_df.columns if 'open_' in col]\n",
    "    X_stocks,y_stocks = get_xy(stocks_df[cols_x], stocks_df[cols_y],5)\n",
    "    split_ratio = 0.2\n",
    "    split_idx = -int(len(stocks_df)*split_ratio)\n",
    "\n",
    "    train_x, train_y = X_stocks[:split_idx], y_stocks[:split_idx]\n",
    "    test_x, test_y = X_stocks[split_idx:], y_stocks[split_idx:]\n",
    "    return train_x, train_y, test_x, test_y"
   ],
   "metadata": {
    "collapsed": false,
    "pycharm": {
     "name": "#%%\n"
    }
   }
  },
  {
   "cell_type": "code",
   "execution_count": 22,
   "outputs": [
    {
     "ename": "NameError",
     "evalue": "name 'whole_df' is not defined",
     "output_type": "error",
     "traceback": [
      "\u001B[0;31m---------------------------------------------------------------------------\u001B[0m",
      "\u001B[0;31mNameError\u001B[0m                                 Traceback (most recent call last)",
      "\u001B[0;32m<ipython-input-22-9ac979c85288>\u001B[0m in \u001B[0;36m<module>\u001B[0;34m\u001B[0m\n\u001B[0;32m----> 1\u001B[0;31m \u001B[0mtrain_sh5_x\u001B[0m\u001B[0;34m,\u001B[0m \u001B[0mtrain_sh5_y\u001B[0m\u001B[0;34m,\u001B[0m \u001B[0mtest_sh5_x\u001B[0m\u001B[0;34m,\u001B[0m \u001B[0mtest_sh5_y\u001B[0m \u001B[0;34m=\u001B[0m \u001B[0mprepare_data\u001B[0m\u001B[0;34m(\u001B[0m\u001B[0mwhole_df\u001B[0m\u001B[0;34m,\u001B[0m \u001B[0msz5\u001B[0m\u001B[0;34m)\u001B[0m\u001B[0;34m\u001B[0m\u001B[0;34m\u001B[0m\u001B[0m\n\u001B[0m",
      "\u001B[0;31mNameError\u001B[0m: name 'whole_df' is not defined"
     ]
    }
   ],
   "source": [
    "train_sh5_x, train_sh5_y, test_sh5_x, test_sh5_y = prepare_data(whole_df, sz5)"
   ],
   "metadata": {
    "collapsed": false,
    "pycharm": {
     "name": "#%%\n"
    }
   }
  },
  {
   "cell_type": "code",
   "execution_count": 218,
   "outputs": [
    {
     "data": {
      "text/plain": "                open                                              high  \\\nts_code    430047.BJ 831768.BJ 835640.BJ 836433.BJ 837344.BJ 430047.BJ   \ntrade_date                                                               \n20211115       18.12     17.81     27.20       NaN     27.70     21.68   \n20211116       17.50     15.20     27.25       NaN     26.90     17.80   \n20211117       16.50     14.40     23.65      8.93     25.35     16.50   \n20211118       14.60     14.45     23.98      9.00     25.81     14.61   \n20211119       14.00     14.19     23.65      8.93     25.63     15.42   \n...              ...       ...       ...       ...       ...       ...   \n20220425       12.13      7.66     13.50      6.29     15.88     12.32   \n20220426       11.40      7.55     13.20      6.20     15.35     11.48   \n20220427       10.26      6.50     13.00      5.86     15.25     10.80   \n20220428       10.66      6.13     13.63      6.60     15.89     10.66   \n20220429       10.13      6.10     13.00      6.84     15.45     10.75   \n\n                                                    ...       vol            \\\nts_code    831768.BJ 835640.BJ 836433.BJ 837344.BJ  ... 430047.BJ 831768.BJ   \ntrade_date                                          ...                       \n20211115       17.95     30.60       NaN     31.72  ...  97922.84  36583.67   \n20211116       15.60     27.25       NaN     26.90  ...  35144.43  22745.44   \n20211117       14.68     24.25      9.10     26.50  ...  71191.30   9278.65   \n20211118       14.59     24.58      9.18     26.28  ...  41947.28   6119.86   \n20211119       14.28     23.95      8.93     25.90  ...  45359.15  10840.31   \n...              ...       ...       ...       ...  ...       ...       ...   \n20220425        7.77     13.88      6.29     15.88  ...  13965.74   3349.81   \n20220426        7.55     13.40      6.20     16.29  ...  11150.31   2882.83   \n20220427        6.50     13.57      6.04     16.08  ...  11423.33  14454.87   \n20220428        6.22     13.63      7.14     15.94  ...   7646.07   4275.87   \n20220429        6.19     14.33      7.10     18.48  ...   6828.59   3499.18   \n\n                                              amount                         \\\nts_code    835640.BJ 836433.BJ 837344.BJ   430047.BJ  831768.BJ   835640.BJ   \ntrade_date                                                                    \n20211115    62385.57       NaN  30638.27  178722.467  59406.168  173390.847   \n20211116    28240.23       NaN  10199.01   60011.282  32895.897   70363.492   \n20211117    18558.63   5237.20   5529.35  107959.332  13354.681   43354.268   \n20211118     8284.11   5275.06   4583.90   59129.944   8686.489   19912.836   \n20211119    10355.13   7207.45   3694.87   65456.231  14686.855   23950.031   \n...              ...       ...       ...         ...        ...         ...   \n20220425     4023.70   6174.96    944.20   16288.582   2480.738    5426.962   \n20220426     3949.02   4390.26    941.89   12056.842   2077.591    5215.008   \n20220427     3078.99   2683.39    660.24   11780.639   8840.532    4075.371   \n20220428     1733.63  24751.24   1209.69    7980.984   2595.196    2275.597   \n20220429     5385.64  11645.16   4278.72    7205.702   2130.129    7468.257   \n\n                                  \nts_code     836433.BJ  837344.BJ  \ntrade_date                        \n20211115          NaN  86865.763  \n20211116          NaN  26302.465  \n20211117     4691.080  14270.667  \n20211118     4751.300  11739.949  \n20211119     6246.191   9281.812  \n...               ...        ...  \n20220425     3703.072   1472.480  \n20220426     2592.689   1474.044  \n20220427     1585.591   1030.617  \n20220428    16741.180   1893.788  \n20220429     8082.824   7373.112  \n\n[112 rows x 45 columns]",
      "text/html": "<div>\n<style scoped>\n    .dataframe tbody tr th:only-of-type {\n        vertical-align: middle;\n    }\n\n    .dataframe tbody tr th {\n        vertical-align: top;\n    }\n\n    .dataframe thead tr th {\n        text-align: left;\n    }\n\n    .dataframe thead tr:last-of-type th {\n        text-align: right;\n    }\n</style>\n<table border=\"1\" class=\"dataframe\">\n  <thead>\n    <tr>\n      <th></th>\n      <th colspan=\"5\" halign=\"left\">open</th>\n      <th colspan=\"5\" halign=\"left\">high</th>\n      <th>...</th>\n      <th colspan=\"5\" halign=\"left\">vol</th>\n      <th colspan=\"5\" halign=\"left\">amount</th>\n    </tr>\n    <tr>\n      <th>ts_code</th>\n      <th>430047.BJ</th>\n      <th>831768.BJ</th>\n      <th>835640.BJ</th>\n      <th>836433.BJ</th>\n      <th>837344.BJ</th>\n      <th>430047.BJ</th>\n      <th>831768.BJ</th>\n      <th>835640.BJ</th>\n      <th>836433.BJ</th>\n      <th>837344.BJ</th>\n      <th>...</th>\n      <th>430047.BJ</th>\n      <th>831768.BJ</th>\n      <th>835640.BJ</th>\n      <th>836433.BJ</th>\n      <th>837344.BJ</th>\n      <th>430047.BJ</th>\n      <th>831768.BJ</th>\n      <th>835640.BJ</th>\n      <th>836433.BJ</th>\n      <th>837344.BJ</th>\n    </tr>\n    <tr>\n      <th>trade_date</th>\n      <th></th>\n      <th></th>\n      <th></th>\n      <th></th>\n      <th></th>\n      <th></th>\n      <th></th>\n      <th></th>\n      <th></th>\n      <th></th>\n      <th></th>\n      <th></th>\n      <th></th>\n      <th></th>\n      <th></th>\n      <th></th>\n      <th></th>\n      <th></th>\n      <th></th>\n      <th></th>\n      <th></th>\n    </tr>\n  </thead>\n  <tbody>\n    <tr>\n      <th>20211115</th>\n      <td>18.12</td>\n      <td>17.81</td>\n      <td>27.20</td>\n      <td>NaN</td>\n      <td>27.70</td>\n      <td>21.68</td>\n      <td>17.95</td>\n      <td>30.60</td>\n      <td>NaN</td>\n      <td>31.72</td>\n      <td>...</td>\n      <td>97922.84</td>\n      <td>36583.67</td>\n      <td>62385.57</td>\n      <td>NaN</td>\n      <td>30638.27</td>\n      <td>178722.467</td>\n      <td>59406.168</td>\n      <td>173390.847</td>\n      <td>NaN</td>\n      <td>86865.763</td>\n    </tr>\n    <tr>\n      <th>20211116</th>\n      <td>17.50</td>\n      <td>15.20</td>\n      <td>27.25</td>\n      <td>NaN</td>\n      <td>26.90</td>\n      <td>17.80</td>\n      <td>15.60</td>\n      <td>27.25</td>\n      <td>NaN</td>\n      <td>26.90</td>\n      <td>...</td>\n      <td>35144.43</td>\n      <td>22745.44</td>\n      <td>28240.23</td>\n      <td>NaN</td>\n      <td>10199.01</td>\n      <td>60011.282</td>\n      <td>32895.897</td>\n      <td>70363.492</td>\n      <td>NaN</td>\n      <td>26302.465</td>\n    </tr>\n    <tr>\n      <th>20211117</th>\n      <td>16.50</td>\n      <td>14.40</td>\n      <td>23.65</td>\n      <td>8.93</td>\n      <td>25.35</td>\n      <td>16.50</td>\n      <td>14.68</td>\n      <td>24.25</td>\n      <td>9.10</td>\n      <td>26.50</td>\n      <td>...</td>\n      <td>71191.30</td>\n      <td>9278.65</td>\n      <td>18558.63</td>\n      <td>5237.20</td>\n      <td>5529.35</td>\n      <td>107959.332</td>\n      <td>13354.681</td>\n      <td>43354.268</td>\n      <td>4691.080</td>\n      <td>14270.667</td>\n    </tr>\n    <tr>\n      <th>20211118</th>\n      <td>14.60</td>\n      <td>14.45</td>\n      <td>23.98</td>\n      <td>9.00</td>\n      <td>25.81</td>\n      <td>14.61</td>\n      <td>14.59</td>\n      <td>24.58</td>\n      <td>9.18</td>\n      <td>26.28</td>\n      <td>...</td>\n      <td>41947.28</td>\n      <td>6119.86</td>\n      <td>8284.11</td>\n      <td>5275.06</td>\n      <td>4583.90</td>\n      <td>59129.944</td>\n      <td>8686.489</td>\n      <td>19912.836</td>\n      <td>4751.300</td>\n      <td>11739.949</td>\n    </tr>\n    <tr>\n      <th>20211119</th>\n      <td>14.00</td>\n      <td>14.19</td>\n      <td>23.65</td>\n      <td>8.93</td>\n      <td>25.63</td>\n      <td>15.42</td>\n      <td>14.28</td>\n      <td>23.95</td>\n      <td>8.93</td>\n      <td>25.90</td>\n      <td>...</td>\n      <td>45359.15</td>\n      <td>10840.31</td>\n      <td>10355.13</td>\n      <td>7207.45</td>\n      <td>3694.87</td>\n      <td>65456.231</td>\n      <td>14686.855</td>\n      <td>23950.031</td>\n      <td>6246.191</td>\n      <td>9281.812</td>\n    </tr>\n    <tr>\n      <th>...</th>\n      <td>...</td>\n      <td>...</td>\n      <td>...</td>\n      <td>...</td>\n      <td>...</td>\n      <td>...</td>\n      <td>...</td>\n      <td>...</td>\n      <td>...</td>\n      <td>...</td>\n      <td>...</td>\n      <td>...</td>\n      <td>...</td>\n      <td>...</td>\n      <td>...</td>\n      <td>...</td>\n      <td>...</td>\n      <td>...</td>\n      <td>...</td>\n      <td>...</td>\n      <td>...</td>\n    </tr>\n    <tr>\n      <th>20220425</th>\n      <td>12.13</td>\n      <td>7.66</td>\n      <td>13.50</td>\n      <td>6.29</td>\n      <td>15.88</td>\n      <td>12.32</td>\n      <td>7.77</td>\n      <td>13.88</td>\n      <td>6.29</td>\n      <td>15.88</td>\n      <td>...</td>\n      <td>13965.74</td>\n      <td>3349.81</td>\n      <td>4023.70</td>\n      <td>6174.96</td>\n      <td>944.20</td>\n      <td>16288.582</td>\n      <td>2480.738</td>\n      <td>5426.962</td>\n      <td>3703.072</td>\n      <td>1472.480</td>\n    </tr>\n    <tr>\n      <th>20220426</th>\n      <td>11.40</td>\n      <td>7.55</td>\n      <td>13.20</td>\n      <td>6.20</td>\n      <td>15.35</td>\n      <td>11.48</td>\n      <td>7.55</td>\n      <td>13.40</td>\n      <td>6.20</td>\n      <td>16.29</td>\n      <td>...</td>\n      <td>11150.31</td>\n      <td>2882.83</td>\n      <td>3949.02</td>\n      <td>4390.26</td>\n      <td>941.89</td>\n      <td>12056.842</td>\n      <td>2077.591</td>\n      <td>5215.008</td>\n      <td>2592.689</td>\n      <td>1474.044</td>\n    </tr>\n    <tr>\n      <th>20220427</th>\n      <td>10.26</td>\n      <td>6.50</td>\n      <td>13.00</td>\n      <td>5.86</td>\n      <td>15.25</td>\n      <td>10.80</td>\n      <td>6.50</td>\n      <td>13.57</td>\n      <td>6.04</td>\n      <td>16.08</td>\n      <td>...</td>\n      <td>11423.33</td>\n      <td>14454.87</td>\n      <td>3078.99</td>\n      <td>2683.39</td>\n      <td>660.24</td>\n      <td>11780.639</td>\n      <td>8840.532</td>\n      <td>4075.371</td>\n      <td>1585.591</td>\n      <td>1030.617</td>\n    </tr>\n    <tr>\n      <th>20220428</th>\n      <td>10.66</td>\n      <td>6.13</td>\n      <td>13.63</td>\n      <td>6.60</td>\n      <td>15.89</td>\n      <td>10.66</td>\n      <td>6.22</td>\n      <td>13.63</td>\n      <td>7.14</td>\n      <td>15.94</td>\n      <td>...</td>\n      <td>7646.07</td>\n      <td>4275.87</td>\n      <td>1733.63</td>\n      <td>24751.24</td>\n      <td>1209.69</td>\n      <td>7980.984</td>\n      <td>2595.196</td>\n      <td>2275.597</td>\n      <td>16741.180</td>\n      <td>1893.788</td>\n    </tr>\n    <tr>\n      <th>20220429</th>\n      <td>10.13</td>\n      <td>6.10</td>\n      <td>13.00</td>\n      <td>6.84</td>\n      <td>15.45</td>\n      <td>10.75</td>\n      <td>6.19</td>\n      <td>14.33</td>\n      <td>7.10</td>\n      <td>18.48</td>\n      <td>...</td>\n      <td>6828.59</td>\n      <td>3499.18</td>\n      <td>5385.64</td>\n      <td>11645.16</td>\n      <td>4278.72</td>\n      <td>7205.702</td>\n      <td>2130.129</td>\n      <td>7468.257</td>\n      <td>8082.824</td>\n      <td>7373.112</td>\n    </tr>\n  </tbody>\n</table>\n<p>112 rows × 45 columns</p>\n</div>"
     },
     "execution_count": 218,
     "metadata": {},
     "output_type": "execute_result"
    }
   ],
   "source": [
    "# whole_df[whole_df.ts_code.isin(bj5)].pivot(index='trade_date',columns='ts_code')"
   ],
   "metadata": {
    "collapsed": false,
    "pycharm": {
     "name": "#%%\n"
    }
   }
  },
  {
   "cell_type": "code",
   "execution_count": 220,
   "outputs": [
    {
     "name": "stdout",
     "output_type": "stream",
     "text": [
      "Train on 446 samples\n",
      "Epoch 1/300\n",
      "446/446 [==============================] - 5s 12ms/sample - loss: 57.8171 - mae: 7.1389 - mape: 100.1385\n",
      "Epoch 2/300\n",
      "446/446 [==============================] - 0s 925us/sample - loss: 50.3634 - mae: 6.6657 - mape: 94.0996\n",
      "Epoch 3/300\n",
      "446/446 [==============================] - 0s 871us/sample - loss: 36.4573 - mae: 5.6311 - mape: 80.4655\n",
      "Epoch 4/300\n",
      "446/446 [==============================] - 0s 945us/sample - loss: 19.4615 - mae: 3.9534 - mape: 56.9522\n",
      "Epoch 5/300\n",
      "446/446 [==============================] - 0s 902us/sample - loss: 9.3187 - mae: 2.5509 - mape: 36.3854\n",
      "Epoch 6/300\n",
      "446/446 [==============================] - 0s 946us/sample - loss: 5.0753 - mae: 1.7366 - mape: 24.0413\n",
      "Epoch 7/300\n",
      "446/446 [==============================] - 0s 930us/sample - loss: 3.7666 - mae: 1.4236 - mape: 19.4787\n",
      "Epoch 8/300\n",
      "446/446 [==============================] - 1s 1ms/sample - loss: 3.0177 - mae: 1.2488 - mape: 17.3940\n",
      "Epoch 9/300\n",
      "446/446 [==============================] - 0s 1ms/sample - loss: 2.7910 - mae: 1.1819 - mape: 16.7432\n",
      "Epoch 10/300\n",
      "446/446 [==============================] - 2s 4ms/sample - loss: 2.7515 - mae: 1.1772 - mape: 16.8516\n",
      "Epoch 11/300\n",
      "446/446 [==============================] - 1s 3ms/sample - loss: 2.7474 - mae: 1.1695 - mape: 16.6715\n",
      "Epoch 12/300\n",
      "446/446 [==============================] - 0s 1ms/sample - loss: 2.5723 - mae: 1.1435 - mape: 16.3964\n",
      "Epoch 13/300\n",
      "446/446 [==============================] - 1s 1ms/sample - loss: 2.7085 - mae: 1.1598 - mape: 16.5842\n",
      "Epoch 14/300\n",
      "446/446 [==============================] - 0s 896us/sample - loss: 2.7290 - mae: 1.1685 - mape: 16.7406\n",
      "Epoch 15/300\n",
      "446/446 [==============================] - 0s 1ms/sample - loss: 2.6391 - mae: 1.1631 - mape: 16.6780\n",
      "Epoch 16/300\n",
      "446/446 [==============================] - 0s 1ms/sample - loss: 2.6584 - mae: 1.1518 - mape: 16.5611\n",
      "Epoch 17/300\n",
      "446/446 [==============================] - 0s 977us/sample - loss: 2.6220 - mae: 1.1440 - mape: 16.4009\n",
      "Epoch 18/300\n",
      "446/446 [==============================] - 0s 1ms/sample - loss: 2.6081 - mae: 1.1490 - mape: 16.5277\n",
      "Epoch 19/300\n",
      "446/446 [==============================] - 1s 1ms/sample - loss: 2.5624 - mae: 1.1302 - mape: 16.0700\n",
      "Epoch 20/300\n",
      "446/446 [==============================] - 0s 970us/sample - loss: 2.6412 - mae: 1.1611 - mape: 16.6728\n",
      "Epoch 21/300\n",
      "446/446 [==============================] - 0s 918us/sample - loss: 2.7116 - mae: 1.1745 - mape: 16.9042\n",
      "Epoch 22/300\n",
      "446/446 [==============================] - 0s 907us/sample - loss: 2.7134 - mae: 1.1617 - mape: 16.4363\n",
      "Epoch 23/300\n",
      "446/446 [==============================] - 0s 985us/sample - loss: 2.6307 - mae: 1.1472 - mape: 16.3298\n",
      "Epoch 24/300\n",
      "446/446 [==============================] - 0s 940us/sample - loss: 2.4363 - mae: 1.1071 - mape: 15.8283\n",
      "Epoch 25/300\n",
      "446/446 [==============================] - 0s 917us/sample - loss: 2.5782 - mae: 1.1386 - mape: 16.3406\n",
      "Epoch 26/300\n",
      "446/446 [==============================] - 0s 912us/sample - loss: 2.5037 - mae: 1.1224 - mape: 15.9853\n",
      "Epoch 27/300\n",
      "446/446 [==============================] - 0s 955us/sample - loss: 2.5623 - mae: 1.1327 - mape: 16.3106\n",
      "Epoch 28/300\n",
      "446/446 [==============================] - 0s 1ms/sample - loss: 2.6318 - mae: 1.1463 - mape: 16.3644\n",
      "Epoch 29/300\n",
      "446/446 [==============================] - 0s 1000us/sample - loss: 2.5790 - mae: 1.1413 - mape: 16.3482\n",
      "Epoch 30/300\n",
      "446/446 [==============================] - 0s 1ms/sample - loss: 2.4226 - mae: 1.0943 - mape: 15.6172\n",
      "Epoch 31/300\n",
      "446/446 [==============================] - 0s 962us/sample - loss: 2.4918 - mae: 1.1156 - mape: 15.8734\n",
      "Epoch 32/300\n",
      "446/446 [==============================] - 0s 1ms/sample - loss: 2.5148 - mae: 1.1170 - mape: 15.8136\n",
      "Epoch 33/300\n",
      "446/446 [==============================] - 0s 1ms/sample - loss: 2.5227 - mae: 1.1193 - mape: 15.8893\n",
      "Epoch 34/300\n",
      "446/446 [==============================] - 0s 1ms/sample - loss: 2.5690 - mae: 1.1204 - mape: 15.8022\n",
      "Epoch 35/300\n",
      "446/446 [==============================] - 0s 946us/sample - loss: 2.4576 - mae: 1.1064 - mape: 15.6756\n",
      "Epoch 36/300\n",
      "446/446 [==============================] - 0s 964us/sample - loss: 2.4045 - mae: 1.1001 - mape: 15.7485\n",
      "Epoch 37/300\n",
      "446/446 [==============================] - 0s 996us/sample - loss: 2.3571 - mae: 1.0690 - mape: 15.0769\n",
      "Epoch 38/300\n",
      "446/446 [==============================] - 1s 1ms/sample - loss: 2.3602 - mae: 1.0776 - mape: 15.3936\n",
      "Epoch 39/300\n",
      "446/446 [==============================] - 0s 1ms/sample - loss: 2.2989 - mae: 1.0666 - mape: 15.1204\n",
      "Epoch 40/300\n",
      "446/446 [==============================] - 0s 1ms/sample - loss: 2.2862 - mae: 1.0696 - mape: 15.2611\n",
      "Epoch 41/300\n",
      "446/446 [==============================] - 1s 1ms/sample - loss: 2.2693 - mae: 1.0572 - mape: 15.0211\n",
      "Epoch 42/300\n",
      "446/446 [==============================] - 0s 970us/sample - loss: 2.3282 - mae: 1.0727 - mape: 15.2331\n",
      "Epoch 43/300\n",
      "446/446 [==============================] - 0s 1ms/sample - loss: 2.2184 - mae: 1.0529 - mape: 14.9832\n",
      "Epoch 44/300\n",
      "446/446 [==============================] - 0s 1ms/sample - loss: 2.2738 - mae: 1.0685 - mape: 15.2244\n",
      "Epoch 45/300\n",
      "446/446 [==============================] - 1s 1ms/sample - loss: 2.1970 - mae: 1.0499 - mape: 15.0055\n",
      "Epoch 46/300\n",
      "446/446 [==============================] - 0s 1ms/sample - loss: 2.1645 - mae: 1.0314 - mape: 14.5690\n",
      "Epoch 47/300\n",
      "446/446 [==============================] - 1s 1ms/sample - loss: 2.1403 - mae: 1.0311 - mape: 14.5956\n",
      "Epoch 48/300\n",
      "446/446 [==============================] - 1s 1ms/sample - loss: 2.0381 - mae: 1.0094 - mape: 14.4340\n",
      "Epoch 49/300\n",
      "446/446 [==============================] - 0s 1ms/sample - loss: 2.1036 - mae: 1.0210 - mape: 14.3913\n",
      "Epoch 50/300\n",
      "446/446 [==============================] - 1s 3ms/sample - loss: 2.1359 - mae: 1.0251 - mape: 14.5594\n",
      "Epoch 51/300\n",
      "446/446 [==============================] - 1s 2ms/sample - loss: 1.9710 - mae: 1.0002 - mape: 14.2288\n",
      "Epoch 52/300\n",
      "446/446 [==============================] - 0s 994us/sample - loss: 1.9458 - mae: 0.9807 - mape: 13.8680\n",
      "Epoch 53/300\n",
      "446/446 [==============================] - 0s 973us/sample - loss: 2.0495 - mae: 1.0267 - mape: 14.4276\n",
      "Epoch 54/300\n",
      "446/446 [==============================] - 0s 1ms/sample - loss: 1.9495 - mae: 0.9713 - mape: 13.6393\n",
      "Epoch 55/300\n",
      "446/446 [==============================] - 0s 1ms/sample - loss: 2.0521 - mae: 1.0081 - mape: 13.9101\n",
      "Epoch 56/300\n",
      "446/446 [==============================] - 0s 976us/sample - loss: 1.9178 - mae: 0.9861 - mape: 13.8295\n",
      "Epoch 57/300\n",
      "446/446 [==============================] - 0s 953us/sample - loss: 1.9235 - mae: 0.9727 - mape: 13.5476\n",
      "Epoch 58/300\n",
      "446/446 [==============================] - 0s 989us/sample - loss: 1.8302 - mae: 0.9595 - mape: 13.5590\n",
      "Epoch 59/300\n",
      "446/446 [==============================] - 0s 1ms/sample - loss: 1.7577 - mae: 0.9418 - mape: 13.2995\n",
      "Epoch 60/300\n",
      "446/446 [==============================] - 0s 1ms/sample - loss: 1.8209 - mae: 0.9515 - mape: 13.4311\n",
      "Epoch 61/300\n",
      "446/446 [==============================] - 0s 1ms/sample - loss: 1.7955 - mae: 0.9403 - mape: 13.1977\n",
      "Epoch 62/300\n",
      "446/446 [==============================] - 0s 997us/sample - loss: 1.8699 - mae: 0.9585 - mape: 13.3293\n",
      "Epoch 63/300\n",
      "446/446 [==============================] - 2s 4ms/sample - loss: 1.8120 - mae: 0.9485 - mape: 13.3189\n",
      "Epoch 64/300\n",
      "446/446 [==============================] - 1s 3ms/sample - loss: 1.7563 - mae: 0.9283 - mape: 12.8536\n",
      "Epoch 65/300\n",
      "446/446 [==============================] - 0s 979us/sample - loss: 1.8726 - mae: 0.9674 - mape: 13.5818\n",
      "Epoch 66/300\n",
      "446/446 [==============================] - 0s 1ms/sample - loss: 1.7533 - mae: 0.9272 - mape: 12.8353\n",
      "Epoch 67/300\n",
      "446/446 [==============================] - 0s 961us/sample - loss: 1.7009 - mae: 0.9206 - mape: 12.8919\n",
      "Epoch 68/300\n",
      "446/446 [==============================] - 0s 994us/sample - loss: 1.7056 - mae: 0.9120 - mape: 12.6778\n",
      "Epoch 69/300\n",
      "446/446 [==============================] - 0s 1ms/sample - loss: 1.6867 - mae: 0.9196 - mape: 12.9085\n",
      "Epoch 70/300\n",
      "446/446 [==============================] - 0s 976us/sample - loss: 1.7039 - mae: 0.9148 - mape: 12.8149\n",
      "Epoch 71/300\n",
      "446/446 [==============================] - 0s 962us/sample - loss: 1.6430 - mae: 0.9130 - mape: 12.7589\n",
      "Epoch 72/300\n",
      "446/446 [==============================] - 0s 971us/sample - loss: 1.6693 - mae: 0.9085 - mape: 12.7212\n",
      "Epoch 73/300\n",
      "446/446 [==============================] - 0s 1ms/sample - loss: 1.5869 - mae: 0.8870 - mape: 12.4004\n",
      "Epoch 74/300\n",
      "446/446 [==============================] - 0s 991us/sample - loss: 1.6207 - mae: 0.8945 - mape: 12.5412\n",
      "Epoch 75/300\n",
      "446/446 [==============================] - 0s 1ms/sample - loss: 1.6427 - mae: 0.9073 - mape: 12.6092\n",
      "Epoch 76/300\n",
      "446/446 [==============================] - 0s 966us/sample - loss: 1.5692 - mae: 0.8862 - mape: 12.2887\n",
      "Epoch 77/300\n",
      "446/446 [==============================] - 0s 1ms/sample - loss: 1.5168 - mae: 0.8683 - mape: 12.1781\n",
      "Epoch 78/300\n",
      "446/446 [==============================] - 0s 1ms/sample - loss: 1.5079 - mae: 0.8633 - mape: 11.9439\n",
      "Epoch 79/300\n",
      "446/446 [==============================] - 0s 1ms/sample - loss: 1.4768 - mae: 0.8550 - mape: 11.8542\n",
      "Epoch 80/300\n",
      "446/446 [==============================] - 0s 967us/sample - loss: 1.4747 - mae: 0.8667 - mape: 12.2077\n",
      "Epoch 81/300\n",
      "446/446 [==============================] - 0s 1ms/sample - loss: 1.4826 - mae: 0.8506 - mape: 11.7724\n",
      "Epoch 82/300\n",
      "446/446 [==============================] - 0s 1ms/sample - loss: 1.4584 - mae: 0.8566 - mape: 11.9330\n",
      "Epoch 83/300\n",
      "446/446 [==============================] - 0s 995us/sample - loss: 1.4554 - mae: 0.8692 - mape: 12.1163\n",
      "Epoch 84/300\n",
      "446/446 [==============================] - 0s 990us/sample - loss: 1.4920 - mae: 0.8727 - mape: 12.1500\n",
      "Epoch 85/300\n",
      "446/446 [==============================] - 0s 943us/sample - loss: 1.5109 - mae: 0.8663 - mape: 11.9196\n",
      "Epoch 86/300\n",
      "446/446 [==============================] - 0s 986us/sample - loss: 1.4595 - mae: 0.8516 - mape: 11.7870\n",
      "Epoch 87/300\n",
      "446/446 [==============================] - 0s 1ms/sample - loss: 1.4492 - mae: 0.8502 - mape: 11.7711\n",
      "Epoch 88/300\n",
      "446/446 [==============================] - 0s 981us/sample - loss: 1.4731 - mae: 0.8685 - mape: 12.1429\n",
      "Epoch 89/300\n",
      "446/446 [==============================] - 0s 974us/sample - loss: 1.3484 - mae: 0.8203 - mape: 11.2414\n",
      "Epoch 90/300\n",
      "446/446 [==============================] - 0s 1ms/sample - loss: 1.3152 - mae: 0.8051 - mape: 11.2101\n",
      "Epoch 91/300\n",
      "446/446 [==============================] - 0s 1ms/sample - loss: 1.3905 - mae: 0.8417 - mape: 11.7302\n",
      "Epoch 92/300\n",
      "446/446 [==============================] - 0s 1ms/sample - loss: 1.3053 - mae: 0.8088 - mape: 11.1543\n",
      "Epoch 93/300\n",
      "446/446 [==============================] - 0s 1ms/sample - loss: 1.3387 - mae: 0.8305 - mape: 11.5274\n",
      "Epoch 94/300\n",
      "446/446 [==============================] - 0s 1ms/sample - loss: 1.2963 - mae: 0.8104 - mape: 11.3193\n",
      "Epoch 95/300\n",
      "446/446 [==============================] - 0s 991us/sample - loss: 1.3820 - mae: 0.8334 - mape: 11.4899\n",
      "Epoch 96/300\n",
      "446/446 [==============================] - 0s 1ms/sample - loss: 1.2835 - mae: 0.8010 - mape: 11.2021\n",
      "Epoch 97/300\n",
      "446/446 [==============================] - 0s 977us/sample - loss: 1.2265 - mae: 0.7887 - mape: 10.9435\n",
      "Epoch 98/300\n",
      "446/446 [==============================] - 0s 1ms/sample - loss: 1.3138 - mae: 0.8274 - mape: 11.5366\n",
      "Epoch 99/300\n",
      "446/446 [==============================] - 0s 992us/sample - loss: 1.2719 - mae: 0.8013 - mape: 11.0974\n",
      "Epoch 100/300\n",
      "446/446 [==============================] - 0s 1ms/sample - loss: 1.2757 - mae: 0.8040 - mape: 11.2045\n",
      "Epoch 101/300\n",
      "446/446 [==============================] - 0s 929us/sample - loss: 1.2084 - mae: 0.7892 - mape: 11.0383\n",
      "Epoch 102/300\n",
      "446/446 [==============================] - 0s 978us/sample - loss: 1.2001 - mae: 0.7748 - mape: 10.6593\n",
      "Epoch 103/300\n",
      "446/446 [==============================] - 0s 1ms/sample - loss: 1.2218 - mae: 0.8006 - mape: 11.2451\n",
      "Epoch 104/300\n",
      "446/446 [==============================] - 0s 1ms/sample - loss: 1.1758 - mae: 0.7718 - mape: 10.7178\n",
      "Epoch 105/300\n",
      "446/446 [==============================] - 2s 3ms/sample - loss: 1.2203 - mae: 0.7850 - mape: 10.8680\n",
      "Epoch 106/300\n",
      "446/446 [==============================] - 2s 4ms/sample - loss: 1.1950 - mae: 0.7908 - mape: 11.0608\n",
      "Epoch 107/300\n",
      "446/446 [==============================] - 0s 1ms/sample - loss: 1.1094 - mae: 0.7609 - mape: 10.5263\n",
      "Epoch 108/300\n",
      "446/446 [==============================] - 0s 1ms/sample - loss: 1.1736 - mae: 0.7762 - mape: 10.8056\n",
      "Epoch 109/300\n",
      "446/446 [==============================] - 0s 1ms/sample - loss: 1.1045 - mae: 0.7427 - mape: 10.3763\n",
      "Epoch 110/300\n",
      "446/446 [==============================] - 0s 1ms/sample - loss: 1.0977 - mae: 0.7527 - mape: 10.4477\n",
      "Epoch 111/300\n",
      "446/446 [==============================] - 0s 1ms/sample - loss: 1.0763 - mae: 0.7505 - mape: 10.4821\n",
      "Epoch 112/300\n",
      "446/446 [==============================] - 0s 1ms/sample - loss: 1.1747 - mae: 0.7781 - mape: 10.8222\n",
      "Epoch 113/300\n",
      "446/446 [==============================] - 0s 1ms/sample - loss: 1.0445 - mae: 0.7212 - mape: 10.0527\n",
      "Epoch 114/300\n",
      "446/446 [==============================] - 0s 1ms/sample - loss: 1.1570 - mae: 0.7609 - mape: 10.4806\n",
      "Epoch 115/300\n",
      "446/446 [==============================] - 0s 1ms/sample - loss: 1.1419 - mae: 0.7578 - mape: 10.4770\n",
      "Epoch 116/300\n",
      "446/446 [==============================] - 0s 1ms/sample - loss: 1.1033 - mae: 0.7582 - mape: 10.6008\n",
      "Epoch 117/300\n",
      "446/446 [==============================] - 0s 1ms/sample - loss: 1.0961 - mae: 0.7318 - mape: 10.1187\n",
      "Epoch 118/300\n",
      "446/446 [==============================] - 0s 1ms/sample - loss: 1.1678 - mae: 0.7662 - mape: 10.6191\n",
      "Epoch 119/300\n",
      "446/446 [==============================] - 2s 4ms/sample - loss: 1.0480 - mae: 0.7373 - mape: 10.3793\n",
      "Epoch 120/300\n",
      "446/446 [==============================] - 1s 2ms/sample - loss: 1.0937 - mae: 0.7484 - mape: 10.3292\n",
      "Epoch 121/300\n",
      "446/446 [==============================] - 0s 982us/sample - loss: 1.0244 - mae: 0.7251 - mape: 10.0634\n",
      "Epoch 122/300\n",
      "446/446 [==============================] - 0s 995us/sample - loss: 1.0357 - mae: 0.7469 - mape: 10.4584\n",
      "Epoch 123/300\n",
      "446/446 [==============================] - 0s 1ms/sample - loss: 1.0599 - mae: 0.7459 - mape: 10.3312\n",
      "Epoch 124/300\n",
      "446/446 [==============================] - 0s 998us/sample - loss: 1.1191 - mae: 0.7630 - mape: 10.6138\n",
      "Epoch 125/300\n",
      "446/446 [==============================] - 0s 1ms/sample - loss: 1.0910 - mae: 0.7486 - mape: 10.3665\n",
      "Epoch 126/300\n",
      "446/446 [==============================] - 0s 1ms/sample - loss: 1.1055 - mae: 0.7502 - mape: 10.4770\n",
      "Epoch 127/300\n",
      "446/446 [==============================] - 0s 1ms/sample - loss: 1.0583 - mae: 0.7472 - mape: 10.4272\n",
      "Epoch 128/300\n",
      "446/446 [==============================] - 1s 1ms/sample - loss: 1.0133 - mae: 0.7293 - mape: 10.0553\n",
      "Epoch 129/300\n",
      "446/446 [==============================] - 0s 1ms/sample - loss: 1.0339 - mae: 0.7355 - mape: 10.2584\n",
      "Epoch 130/300\n",
      "446/446 [==============================] - 1s 1ms/sample - loss: 1.0892 - mae: 0.7505 - mape: 10.4485\n",
      "Epoch 131/300\n",
      "446/446 [==============================] - 0s 978us/sample - loss: 0.9842 - mae: 0.7065 - mape: 9.8729\n",
      "Epoch 132/300\n",
      "446/446 [==============================] - 0s 1ms/sample - loss: 1.0292 - mae: 0.7332 - mape: 10.2017\n",
      "Epoch 133/300\n",
      "446/446 [==============================] - 0s 1ms/sample - loss: 0.9820 - mae: 0.7050 - mape: 9.7658\n",
      "Epoch 134/300\n",
      "446/446 [==============================] - 0s 982us/sample - loss: 1.0027 - mae: 0.7106 - mape: 9.9025\n",
      "Epoch 135/300\n",
      "446/446 [==============================] - 0s 1ms/sample - loss: 1.0186 - mae: 0.7210 - mape: 10.0335\n",
      "Epoch 136/300\n",
      "446/446 [==============================] - 0s 1ms/sample - loss: 1.0140 - mae: 0.7138 - mape: 9.9408\n",
      "Epoch 137/300\n",
      "446/446 [==============================] - 0s 1ms/sample - loss: 0.9805 - mae: 0.7158 - mape: 10.0240\n",
      "Epoch 138/300\n",
      "446/446 [==============================] - 0s 1ms/sample - loss: 0.9745 - mae: 0.6962 - mape: 9.6918\n",
      "Epoch 139/300\n",
      "446/446 [==============================] - 0s 1ms/sample - loss: 0.9935 - mae: 0.7069 - mape: 9.8208\n",
      "Epoch 140/300\n",
      "446/446 [==============================] - 0s 1ms/sample - loss: 1.0136 - mae: 0.7217 - mape: 10.0268\n",
      "Epoch 141/300\n",
      "446/446 [==============================] - 1s 1ms/sample - loss: 1.1017 - mae: 0.7353 - mape: 10.0542\n",
      "Epoch 142/300\n",
      "446/446 [==============================] - 1s 1ms/sample - loss: 1.0149 - mae: 0.7387 - mape: 10.3715\n",
      "Epoch 143/300\n",
      "446/446 [==============================] - 0s 990us/sample - loss: 0.9603 - mae: 0.6992 - mape: 9.7149\n",
      "Epoch 144/300\n",
      "446/446 [==============================] - 0s 1000us/sample - loss: 0.8820 - mae: 0.6656 - mape: 9.2111\n",
      "Epoch 145/300\n",
      "446/446 [==============================] - 0s 1ms/sample - loss: 0.9337 - mae: 0.7015 - mape: 9.7420\n",
      "Epoch 146/300\n",
      "446/446 [==============================] - 0s 1ms/sample - loss: 0.8999 - mae: 0.6825 - mape: 9.4982\n",
      "Epoch 147/300\n",
      "446/446 [==============================] - 0s 997us/sample - loss: 0.9567 - mae: 0.6926 - mape: 9.6825\n",
      "Epoch 148/300\n",
      "446/446 [==============================] - 0s 956us/sample - loss: 0.9270 - mae: 0.7050 - mape: 9.8371\n",
      "Epoch 149/300\n",
      "446/446 [==============================] - 0s 961us/sample - loss: 0.9244 - mae: 0.6898 - mape: 9.5213\n",
      "Epoch 150/300\n",
      "446/446 [==============================] - 0s 1ms/sample - loss: 0.9673 - mae: 0.7133 - mape: 9.9298\n",
      "Epoch 151/300\n",
      "446/446 [==============================] - 0s 1ms/sample - loss: 0.9394 - mae: 0.6979 - mape: 9.7104\n",
      "Epoch 152/300\n",
      "446/446 [==============================] - 0s 1ms/sample - loss: 0.9062 - mae: 0.6881 - mape: 9.5173\n",
      "Epoch 153/300\n",
      "446/446 [==============================] - 0s 963us/sample - loss: 0.8887 - mae: 0.6760 - mape: 9.3943\n",
      "Epoch 154/300\n",
      "446/446 [==============================] - 0s 1ms/sample - loss: 0.9092 - mae: 0.6906 - mape: 9.6993\n",
      "Epoch 155/300\n",
      "446/446 [==============================] - 0s 1ms/sample - loss: 0.8958 - mae: 0.6832 - mape: 9.4995\n",
      "Epoch 156/300\n",
      "446/446 [==============================] - 0s 987us/sample - loss: 0.9532 - mae: 0.7016 - mape: 9.7998\n",
      "Epoch 157/300\n",
      "446/446 [==============================] - 0s 990us/sample - loss: 0.8781 - mae: 0.6781 - mape: 9.3833\n",
      "Epoch 158/300\n",
      "446/446 [==============================] - 0s 991us/sample - loss: 0.9035 - mae: 0.6784 - mape: 9.4867\n",
      "Epoch 159/300\n",
      "446/446 [==============================] - 0s 976us/sample - loss: 0.8784 - mae: 0.6712 - mape: 9.3578\n",
      "Epoch 160/300\n",
      "446/446 [==============================] - 0s 1ms/sample - loss: 0.8092 - mae: 0.6616 - mape: 9.1856\n",
      "Epoch 161/300\n",
      "446/446 [==============================] - 2s 5ms/sample - loss: 0.8438 - mae: 0.6620 - mape: 9.2358\n",
      "Epoch 162/300\n",
      "446/446 [==============================] - 2s 4ms/sample - loss: 0.9574 - mae: 0.7067 - mape: 9.8515\n",
      "Epoch 163/300\n",
      "446/446 [==============================] - 1s 2ms/sample - loss: 0.9214 - mae: 0.6820 - mape: 9.4224\n",
      "Epoch 164/300\n",
      "446/446 [==============================] - 0s 1ms/sample - loss: 0.8839 - mae: 0.6804 - mape: 9.5252\n",
      "Epoch 165/300\n",
      "446/446 [==============================] - 0s 1ms/sample - loss: 0.8576 - mae: 0.6629 - mape: 9.1488\n",
      "Epoch 166/300\n",
      "446/446 [==============================] - 0s 1ms/sample - loss: 0.8783 - mae: 0.6780 - mape: 9.4522\n",
      "Epoch 167/300\n",
      "446/446 [==============================] - 0s 1ms/sample - loss: 0.8426 - mae: 0.6724 - mape: 9.3438\n",
      "Epoch 168/300\n",
      "446/446 [==============================] - 1s 1ms/sample - loss: 0.8047 - mae: 0.6476 - mape: 9.0140\n",
      "Epoch 169/300\n",
      "446/446 [==============================] - 0s 1ms/sample - loss: 0.8414 - mae: 0.6708 - mape: 9.3006\n",
      "Epoch 170/300\n",
      "446/446 [==============================] - 0s 1ms/sample - loss: 0.8229 - mae: 0.6491 - mape: 9.0832\n",
      "Epoch 171/300\n",
      "446/446 [==============================] - 0s 1ms/sample - loss: 0.8584 - mae: 0.6728 - mape: 9.4284\n",
      "Epoch 172/300\n",
      "446/446 [==============================] - 0s 1ms/sample - loss: 0.8753 - mae: 0.6893 - mape: 9.5847\n",
      "Epoch 173/300\n",
      "446/446 [==============================] - 0s 1ms/sample - loss: 0.8539 - mae: 0.6748 - mape: 9.4218\n",
      "Epoch 174/300\n",
      "446/446 [==============================] - 0s 1ms/sample - loss: 0.9347 - mae: 0.7002 - mape: 9.8696\n",
      "Epoch 175/300\n",
      "446/446 [==============================] - 2s 5ms/sample - loss: 0.8877 - mae: 0.6737 - mape: 9.3810\n",
      "Epoch 176/300\n",
      "446/446 [==============================] - 2s 4ms/sample - loss: 0.8233 - mae: 0.6624 - mape: 9.3035\n",
      "Epoch 177/300\n",
      "446/446 [==============================] - 1s 1ms/sample - loss: 0.8698 - mae: 0.6692 - mape: 9.3700\n",
      "Epoch 178/300\n",
      "446/446 [==============================] - 0s 1ms/sample - loss: 0.7967 - mae: 0.6579 - mape: 9.2385\n",
      "Epoch 179/300\n",
      "446/446 [==============================] - 1s 1ms/sample - loss: 0.8268 - mae: 0.6622 - mape: 9.2820\n",
      "Epoch 180/300\n",
      "446/446 [==============================] - 1s 1ms/sample - loss: 0.8064 - mae: 0.6445 - mape: 9.0210\n",
      "Epoch 181/300\n",
      "446/446 [==============================] - 1s 1ms/sample - loss: 0.8234 - mae: 0.6541 - mape: 9.0645\n",
      "Epoch 182/300\n",
      "446/446 [==============================] - 0s 1ms/sample - loss: 0.8175 - mae: 0.6598 - mape: 9.2633\n",
      "Epoch 183/300\n",
      "446/446 [==============================] - 1s 1ms/sample - loss: 0.8088 - mae: 0.6541 - mape: 9.1595\n",
      "Epoch 184/300\n",
      "446/446 [==============================] - 0s 1ms/sample - loss: 0.8180 - mae: 0.6626 - mape: 9.2456\n",
      "Epoch 185/300\n",
      "446/446 [==============================] - 1s 1ms/sample - loss: 0.8456 - mae: 0.6627 - mape: 9.2997\n",
      "Epoch 186/300\n",
      "446/446 [==============================] - 1s 1ms/sample - loss: 0.8367 - mae: 0.6591 - mape: 9.2020\n",
      "Epoch 187/300\n",
      "446/446 [==============================] - 1s 1ms/sample - loss: 0.8623 - mae: 0.6807 - mape: 9.4757\n",
      "Epoch 188/300\n",
      "446/446 [==============================] - 1s 1ms/sample - loss: 0.8299 - mae: 0.6595 - mape: 9.2253\n",
      "Epoch 189/300\n",
      "446/446 [==============================] - 1s 1ms/sample - loss: 0.8245 - mae: 0.6531 - mape: 9.0281\n",
      "Epoch 190/300\n",
      "446/446 [==============================] - 1s 1ms/sample - loss: 0.8211 - mae: 0.6554 - mape: 9.0943\n",
      "Epoch 191/300\n",
      "446/446 [==============================] - 0s 1ms/sample - loss: 0.7731 - mae: 0.6482 - mape: 9.0707\n",
      "Epoch 192/300\n",
      "446/446 [==============================] - 1s 1ms/sample - loss: 0.8474 - mae: 0.6668 - mape: 9.3015\n",
      "Epoch 193/300\n",
      "446/446 [==============================] - 0s 1ms/sample - loss: 0.8072 - mae: 0.6512 - mape: 9.0383\n",
      "Epoch 194/300\n",
      "446/446 [==============================] - 0s 1ms/sample - loss: 0.8170 - mae: 0.6533 - mape: 9.1451\n",
      "Epoch 195/300\n",
      "446/446 [==============================] - 1s 1ms/sample - loss: 0.8733 - mae: 0.6791 - mape: 9.4866\n",
      "Epoch 196/300\n",
      "446/446 [==============================] - 1s 1ms/sample - loss: 0.8336 - mae: 0.6521 - mape: 9.1315\n",
      "Epoch 197/300\n",
      "446/446 [==============================] - 0s 1ms/sample - loss: 0.7923 - mae: 0.6411 - mape: 8.9826\n",
      "Epoch 198/300\n",
      "446/446 [==============================] - 0s 1ms/sample - loss: 0.8034 - mae: 0.6498 - mape: 9.0007\n",
      "Epoch 199/300\n",
      "446/446 [==============================] - 1s 1ms/sample - loss: 0.7227 - mae: 0.6207 - mape: 8.6796\n",
      "Epoch 200/300\n",
      "446/446 [==============================] - 1s 1ms/sample - loss: 0.8013 - mae: 0.6411 - mape: 8.9182\n",
      "Epoch 201/300\n",
      "446/446 [==============================] - 1s 1ms/sample - loss: 0.7931 - mae: 0.6479 - mape: 9.1146\n",
      "Epoch 202/300\n",
      "446/446 [==============================] - 0s 1ms/sample - loss: 0.8429 - mae: 0.6685 - mape: 9.2648\n",
      "Epoch 203/300\n",
      "446/446 [==============================] - 0s 1ms/sample - loss: 0.7959 - mae: 0.6501 - mape: 9.1294\n",
      "Epoch 204/300\n",
      "446/446 [==============================] - 0s 1ms/sample - loss: 0.7757 - mae: 0.6358 - mape: 8.8448\n",
      "Epoch 205/300\n",
      "446/446 [==============================] - 1s 1ms/sample - loss: 0.7396 - mae: 0.6223 - mape: 8.7459\n",
      "Epoch 206/300\n",
      "446/446 [==============================] - 1s 1ms/sample - loss: 0.7734 - mae: 0.6314 - mape: 8.7924\n",
      "Epoch 207/300\n",
      "446/446 [==============================] - 1s 3ms/sample - loss: 0.7645 - mae: 0.6414 - mape: 8.9121\n",
      "Epoch 208/300\n",
      "446/446 [==============================] - 2s 5ms/sample - loss: 0.7503 - mae: 0.6340 - mape: 8.8874\n",
      "Epoch 209/300\n",
      "446/446 [==============================] - 1s 3ms/sample - loss: 0.7406 - mae: 0.6269 - mape: 8.7904\n",
      "Epoch 210/300\n",
      "446/446 [==============================] - 0s 1ms/sample - loss: 0.7741 - mae: 0.6385 - mape: 8.8705\n",
      "Epoch 211/300\n",
      "446/446 [==============================] - 0s 1ms/sample - loss: 0.7618 - mae: 0.6316 - mape: 8.7856\n",
      "Epoch 212/300\n",
      "446/446 [==============================] - 1s 1ms/sample - loss: 0.7853 - mae: 0.6433 - mape: 9.0136\n",
      "Epoch 213/300\n",
      "446/446 [==============================] - 0s 1ms/sample - loss: 0.7825 - mae: 0.6389 - mape: 8.9205\n",
      "Epoch 214/300\n",
      "446/446 [==============================] - 0s 1ms/sample - loss: 0.7700 - mae: 0.6342 - mape: 8.8172\n",
      "Epoch 215/300\n",
      "446/446 [==============================] - 1s 1ms/sample - loss: 0.8141 - mae: 0.6473 - mape: 8.9900\n",
      "Epoch 216/300\n",
      "446/446 [==============================] - 1s 2ms/sample - loss: 0.7680 - mae: 0.6349 - mape: 8.8997\n",
      "Epoch 217/300\n",
      "446/446 [==============================] - 2s 5ms/sample - loss: 0.7514 - mae: 0.6257 - mape: 8.7380\n",
      "Epoch 218/300\n",
      "446/446 [==============================] - 1s 2ms/sample - loss: 0.7687 - mae: 0.6445 - mape: 9.0190\n",
      "Epoch 219/300\n",
      "446/446 [==============================] - 1s 1ms/sample - loss: 0.8449 - mae: 0.6706 - mape: 9.3078\n",
      "Epoch 220/300\n",
      "446/446 [==============================] - 0s 1ms/sample - loss: 0.7873 - mae: 0.6495 - mape: 9.0291\n",
      "Epoch 221/300\n",
      "446/446 [==============================] - 0s 1ms/sample - loss: 0.7470 - mae: 0.6279 - mape: 8.7528\n",
      "Epoch 222/300\n",
      "446/446 [==============================] - 0s 1ms/sample - loss: 0.7457 - mae: 0.6238 - mape: 8.7438\n",
      "Epoch 223/300\n",
      "446/446 [==============================] - 1s 1ms/sample - loss: 0.7725 - mae: 0.6361 - mape: 8.9420\n",
      "Epoch 224/300\n",
      "446/446 [==============================] - 1s 1ms/sample - loss: 0.7435 - mae: 0.6250 - mape: 8.7466\n",
      "Epoch 225/300\n",
      "446/446 [==============================] - 0s 1ms/sample - loss: 0.7376 - mae: 0.6220 - mape: 8.7033\n",
      "Epoch 226/300\n",
      "446/446 [==============================] - 1s 1ms/sample - loss: 0.7527 - mae: 0.6227 - mape: 8.6957\n",
      "Epoch 227/300\n",
      "446/446 [==============================] - 1s 1ms/sample - loss: 0.7833 - mae: 0.6466 - mape: 9.0251\n",
      "Epoch 228/300\n",
      "446/446 [==============================] - 0s 1ms/sample - loss: 0.7369 - mae: 0.6297 - mape: 8.7840\n",
      "Epoch 229/300\n",
      "446/446 [==============================] - 1s 1ms/sample - loss: 0.7573 - mae: 0.6300 - mape: 8.7713\n",
      "Epoch 230/300\n",
      "446/446 [==============================] - 1s 2ms/sample - loss: 0.7324 - mae: 0.6227 - mape: 8.6754\n",
      "Epoch 231/300\n",
      "446/446 [==============================] - 1s 3ms/sample - loss: 0.8152 - mae: 0.6527 - mape: 9.1258\n",
      "Epoch 232/300\n",
      "446/446 [==============================] - 1s 1ms/sample - loss: 0.7527 - mae: 0.6348 - mape: 8.8036\n",
      "Epoch 233/300\n",
      "446/446 [==============================] - 1s 1ms/sample - loss: 0.6845 - mae: 0.6022 - mape: 8.4549\n",
      "Epoch 234/300\n",
      "446/446 [==============================] - 1s 1ms/sample - loss: 0.8191 - mae: 0.6561 - mape: 9.1042\n",
      "Epoch 235/300\n",
      "446/446 [==============================] - 1s 1ms/sample - loss: 0.7472 - mae: 0.6311 - mape: 8.8083\n",
      "Epoch 236/300\n",
      "446/446 [==============================] - 1s 1ms/sample - loss: 0.7415 - mae: 0.6132 - mape: 8.5790\n",
      "Epoch 237/300\n",
      "446/446 [==============================] - 1s 1ms/sample - loss: 0.7812 - mae: 0.6350 - mape: 8.8956\n",
      "Epoch 238/300\n",
      "446/446 [==============================] - 1s 1ms/sample - loss: 0.7544 - mae: 0.6356 - mape: 8.9254\n",
      "Epoch 239/300\n",
      "446/446 [==============================] - 1s 1ms/sample - loss: 0.7324 - mae: 0.6210 - mape: 8.5685\n",
      "Epoch 240/300\n",
      "446/446 [==============================] - 1s 1ms/sample - loss: 0.7057 - mae: 0.6183 - mape: 8.7272\n",
      "Epoch 241/300\n",
      "446/446 [==============================] - 1s 1ms/sample - loss: 0.7332 - mae: 0.6262 - mape: 8.7696\n",
      "Epoch 242/300\n",
      "446/446 [==============================] - 1s 1ms/sample - loss: 0.6759 - mae: 0.5988 - mape: 8.3504\n",
      "Epoch 243/300\n",
      "446/446 [==============================] - 1s 1ms/sample - loss: 0.7374 - mae: 0.6342 - mape: 8.9277\n",
      "Epoch 244/300\n",
      "446/446 [==============================] - 1s 1ms/sample - loss: 0.6852 - mae: 0.6157 - mape: 8.6293\n",
      "Epoch 245/300\n",
      "446/446 [==============================] - 1s 1ms/sample - loss: 0.7606 - mae: 0.6455 - mape: 9.0644\n",
      "Epoch 246/300\n",
      "446/446 [==============================] - 1s 1ms/sample - loss: 0.8023 - mae: 0.6525 - mape: 9.1143\n",
      "Epoch 247/300\n",
      "446/446 [==============================] - 1s 1ms/sample - loss: 0.7622 - mae: 0.6391 - mape: 8.8575\n",
      "Epoch 248/300\n",
      "446/446 [==============================] - 1s 1ms/sample - loss: 0.6892 - mae: 0.6081 - mape: 8.5054\n",
      "Epoch 249/300\n",
      "446/446 [==============================] - 1s 1ms/sample - loss: 0.7486 - mae: 0.6245 - mape: 8.6763\n",
      "Epoch 250/300\n",
      "446/446 [==============================] - 1s 1ms/sample - loss: 0.7259 - mae: 0.6243 - mape: 8.6758\n",
      "Epoch 251/300\n",
      "446/446 [==============================] - 0s 1ms/sample - loss: 0.7508 - mae: 0.6293 - mape: 8.7844\n",
      "Epoch 252/300\n",
      "446/446 [==============================] - 0s 1ms/sample - loss: 0.7443 - mae: 0.6211 - mape: 8.7023\n",
      "Epoch 253/300\n",
      "446/446 [==============================] - 0s 1ms/sample - loss: 0.7283 - mae: 0.6267 - mape: 8.7208\n",
      "Epoch 254/300\n",
      "446/446 [==============================] - 0s 1ms/sample - loss: 0.7342 - mae: 0.6317 - mape: 8.8181\n",
      "Epoch 255/300\n",
      "446/446 [==============================] - 1s 1ms/sample - loss: 0.8077 - mae: 0.6572 - mape: 9.2097\n",
      "Epoch 256/300\n",
      "446/446 [==============================] - 0s 1ms/sample - loss: 0.7536 - mae: 0.6320 - mape: 8.8063\n",
      "Epoch 257/300\n",
      "446/446 [==============================] - 0s 1ms/sample - loss: 0.7489 - mae: 0.6335 - mape: 8.9444\n",
      "Epoch 258/300\n",
      "446/446 [==============================] - 1s 1ms/sample - loss: 0.6872 - mae: 0.6019 - mape: 8.4964\n",
      "Epoch 259/300\n",
      "446/446 [==============================] - 1s 1ms/sample - loss: 0.7165 - mae: 0.6207 - mape: 8.6351\n",
      "Epoch 260/300\n",
      "446/446 [==============================] - 1s 1ms/sample - loss: 0.6767 - mae: 0.5959 - mape: 8.3453\n",
      "Epoch 261/300\n",
      "446/446 [==============================] - 1s 1ms/sample - loss: 0.7186 - mae: 0.6123 - mape: 8.6462\n",
      "Epoch 262/300\n",
      "446/446 [==============================] - 1s 2ms/sample - loss: 0.6889 - mae: 0.5948 - mape: 8.3317\n",
      "Epoch 263/300\n",
      "446/446 [==============================] - 2s 4ms/sample - loss: 0.7054 - mae: 0.6132 - mape: 8.4837\n",
      "Epoch 264/300\n",
      "446/446 [==============================] - 2s 5ms/sample - loss: 0.6707 - mae: 0.6041 - mape: 8.4246\n",
      "Epoch 265/300\n",
      "446/446 [==============================] - 1s 2ms/sample - loss: 0.7040 - mae: 0.6253 - mape: 8.7477\n",
      "Epoch 266/300\n",
      "446/446 [==============================] - 1s 1ms/sample - loss: 0.6904 - mae: 0.6125 - mape: 8.5916\n",
      "Epoch 267/300\n",
      "446/446 [==============================] - 1s 1ms/sample - loss: 0.7279 - mae: 0.6258 - mape: 8.7125\n",
      "Epoch 268/300\n",
      "446/446 [==============================] - 1s 1ms/sample - loss: 0.7377 - mae: 0.6203 - mape: 8.6206\n",
      "Epoch 269/300\n",
      "446/446 [==============================] - 1s 1ms/sample - loss: 0.7053 - mae: 0.6062 - mape: 8.4700\n",
      "Epoch 270/300\n",
      "446/446 [==============================] - 1s 1ms/sample - loss: 0.7184 - mae: 0.6170 - mape: 8.6175\n",
      "Epoch 271/300\n",
      "446/446 [==============================] - 1s 1ms/sample - loss: 0.7208 - mae: 0.6244 - mape: 8.7261\n",
      "Epoch 272/300\n",
      "446/446 [==============================] - 1s 3ms/sample - loss: 0.7137 - mae: 0.6229 - mape: 8.7621\n",
      "Epoch 273/300\n",
      "446/446 [==============================] - 1s 2ms/sample - loss: 0.6639 - mae: 0.5946 - mape: 8.3263\n",
      "Epoch 274/300\n",
      "446/446 [==============================] - 1s 1ms/sample - loss: 0.6844 - mae: 0.6031 - mape: 8.4152\n",
      "Epoch 275/300\n",
      "446/446 [==============================] - 1s 1ms/sample - loss: 0.7209 - mae: 0.6189 - mape: 8.6935\n",
      "Epoch 276/300\n",
      "446/446 [==============================] - 1s 1ms/sample - loss: 0.6880 - mae: 0.5977 - mape: 8.3474\n",
      "Epoch 277/300\n",
      "446/446 [==============================] - 0s 1ms/sample - loss: 0.7263 - mae: 0.6214 - mape: 8.6772\n",
      "Epoch 278/300\n",
      "446/446 [==============================] - 0s 1ms/sample - loss: 0.6636 - mae: 0.5995 - mape: 8.4140\n",
      "Epoch 279/300\n",
      "446/446 [==============================] - 1s 1ms/sample - loss: 0.7040 - mae: 0.6220 - mape: 8.7752\n",
      "Epoch 280/300\n",
      "446/446 [==============================] - 0s 1ms/sample - loss: 0.7192 - mae: 0.6204 - mape: 8.6498\n",
      "Epoch 281/300\n",
      "446/446 [==============================] - 0s 1ms/sample - loss: 0.6958 - mae: 0.6081 - mape: 8.5459\n",
      "Epoch 282/300\n",
      "446/446 [==============================] - 1s 1ms/sample - loss: 0.7123 - mae: 0.6156 - mape: 8.6137\n",
      "Epoch 283/300\n",
      "446/446 [==============================] - 1s 1ms/sample - loss: 0.6864 - mae: 0.6020 - mape: 8.4414\n",
      "Epoch 284/300\n",
      "446/446 [==============================] - 1s 1ms/sample - loss: 0.7072 - mae: 0.6165 - mape: 8.6926\n",
      "Epoch 285/300\n",
      "446/446 [==============================] - 1s 2ms/sample - loss: 0.6888 - mae: 0.6152 - mape: 8.7085\n",
      "Epoch 286/300\n",
      "446/446 [==============================] - 3s 6ms/sample - loss: 0.6885 - mae: 0.6108 - mape: 8.5398\n",
      "Epoch 287/300\n",
      "446/446 [==============================] - 2s 4ms/sample - loss: 0.6788 - mae: 0.5989 - mape: 8.3437\n",
      "Epoch 288/300\n",
      "446/446 [==============================] - 1s 2ms/sample - loss: 0.6872 - mae: 0.6024 - mape: 8.4745\n",
      "Epoch 289/300\n",
      "446/446 [==============================] - 1s 1ms/sample - loss: 0.6794 - mae: 0.6040 - mape: 8.4132\n",
      "Epoch 290/300\n",
      "446/446 [==============================] - 1s 1ms/sample - loss: 0.7099 - mae: 0.6071 - mape: 8.4575\n",
      "Epoch 291/300\n",
      "446/446 [==============================] - 0s 1ms/sample - loss: 0.6624 - mae: 0.5968 - mape: 8.3924\n",
      "Epoch 292/300\n",
      "446/446 [==============================] - 1s 1ms/sample - loss: 0.6602 - mae: 0.5922 - mape: 8.3104\n",
      "Epoch 293/300\n",
      "446/446 [==============================] - 0s 1ms/sample - loss: 0.7276 - mae: 0.6177 - mape: 8.5565\n",
      "Epoch 294/300\n",
      "446/446 [==============================] - 0s 1ms/sample - loss: 0.6804 - mae: 0.6007 - mape: 8.3918\n",
      "Epoch 295/300\n",
      "446/446 [==============================] - 1s 1ms/sample - loss: 0.6748 - mae: 0.5999 - mape: 8.3419\n",
      "Epoch 296/300\n",
      "446/446 [==============================] - 0s 1ms/sample - loss: 0.6595 - mae: 0.5959 - mape: 8.3802\n",
      "Epoch 297/300\n",
      "446/446 [==============================] - 1s 1ms/sample - loss: 0.6907 - mae: 0.6074 - mape: 8.5070\n",
      "Epoch 298/300\n",
      "446/446 [==============================] - 0s 1ms/sample - loss: 0.6968 - mae: 0.6149 - mape: 8.6134\n",
      "Epoch 299/300\n",
      "446/446 [==============================] - 1s 1ms/sample - loss: 0.6514 - mae: 0.5951 - mape: 8.3117\n",
      "Epoch 300/300\n",
      "446/446 [==============================] - 1s 1ms/sample - loss: 0.6661 - mae: 0.5994 - mape: 8.3324\n"
     ]
    }
   ],
   "source": [
    "lstm_5stock = LSTMModule()\n",
    "lstm_5stock.batch_size = 32\n",
    "lstm_5stock.input_shape = 5,train_sh5_x.shape[2]\n",
    "lstm_5stock.output_size = train_sh5_y.shape[1]\n",
    "lstm_5stock.model = lstm_5stock.build_model()\n",
    "history_5stock = lstm_5stock.model.fit(train_sh5_x, train_sh5_y,epochs=300)"
   ],
   "metadata": {
    "collapsed": false,
    "pycharm": {
     "name": "#%%\n"
    }
   }
  },
  {
   "cell_type": "code",
   "execution_count": 221,
   "outputs": [],
   "source": [
    "y_pred_sh5 = lstm_5stock.model.predict(test_sh5_x)"
   ],
   "metadata": {
    "collapsed": false,
    "pycharm": {
     "name": "#%%\n"
    }
   }
  },
  {
   "cell_type": "code",
   "execution_count": 222,
   "outputs": [
    {
     "data": {
      "text/plain": "<Figure size 432x288 with 1 Axes>",
      "image/png": "[encoded data removed]"
     },
     "metadata": {
      "needs_background": "light"
     },
     "output_type": "display_data"
    },
    {
     "data": {
      "text/plain": "<Figure size 432x288 with 1 Axes>",
      "image/png": "[encoded data removed]"
     },
     "metadata": {
      "needs_background": "light"
     },
     "output_type": "display_data"
    },
    {
     "data": {
      "text/plain": "<Figure size 432x288 with 1 Axes>",
      "image/png": "[encoded data removed]"
     },
     "metadata": {
      "needs_background": "light"
     },
     "output_type": "display_data"
    },
    {
     "data": {
      "text/plain": "<Figure size 432x288 with 1 Axes>",
      "image/png": "[encoded data removed]"
     },
     "metadata": {
      "needs_background": "light"
     },
     "output_type": "display_data"
    },
    {
     "data": {
      "text/plain": "<Figure size 432x288 with 1 Axes>",
      "image/png": "[encoded data removed]"
     },
     "metadata": {
      "needs_background": "light"
     },
     "output_type": "display_data"
    }
   ],
   "source": [
    "%matplotlib inline\n",
    "# fig,ax = plt.subplots(5,1)\n",
    "for idx, ts_code in enumerate(sh5):\n",
    "    plt.plot(test_sh5_y[:,idx], color = 'red', label = 'Real Stock Price')\n",
    "    # ax[idx].plot(test_sh5_y[:,idx], color = 'red', label = 'Real Stock Price')\n",
    "    # ax[idx].plot(y_pred_sh5[:,idx], color = 'blue', label = 'Predicted Stock Price')\n",
    "    plt.plot(y_pred_sh5[:,idx], color = 'blue', label = 'Predicted Stock Price')\n",
    "    plt.title('%s Stock Price Prediction' %  ts_code)\n",
    "    plt.xlabel('Time')\n",
    "    plt.ylabel('Stock Price')\n",
    "    plt.legend()\n",
    "    plt.show()"
   ],
   "metadata": {
    "collapsed": false,
    "pycharm": {
     "name": "#%%\n"
    }
   }
  },
  {
   "cell_type": "markdown",
   "source": [
    "XGboost"
   ],
   "metadata": {
    "collapsed": false,
    "pycharm": {
     "name": "#%% md\n"
    }
   }
  },
  {
   "cell_type": "code",
   "execution_count": 3,
   "outputs": [],
   "source": [
    "from xgboost import XGBRegressor\n",
    "xg = XGBRegressor()"
   ],
   "metadata": {
    "collapsed": false,
    "pycharm": {
     "name": "#%%\n"
    }
   }
  },
  {
   "cell_type": "code",
   "execution_count": 228,
   "outputs": [
    {
     "data": {
      "text/plain": "XGBRegressor(base_score=0.5, booster='gbtree', callbacks=None,\n             colsample_bylevel=1, colsample_bynode=1, colsample_bytree=1,\n             early_stopping_rounds=None, enable_categorical=False,\n             eval_metric=None, gamma=0, gpu_id=-1, grow_policy='depthwise',\n             importance_type=None, interaction_constraints='',\n             learning_rate=0.300000012, max_bin=256, max_cat_to_onehot=4,\n             max_delta_step=0, max_depth=6, max_leaves=0, min_child_weight=1,\n             missing=nan, monotone_constraints='()', n_estimators=100, n_jobs=0,\n             num_parallel_tree=1, predictor='auto', random_state=0, reg_alpha=0,\n             reg_lambda=1, ...)"
     },
     "execution_count": 228,
     "metadata": {},
     "output_type": "execute_result"
    }
   ],
   "source": [
    "xg.fit(X[:500],y[:500])"
   ],
   "metadata": {
    "collapsed": false,
    "pycharm": {
     "name": "#%%\n"
    }
   }
  },
  {
   "cell_type": "code",
   "execution_count": 229,
   "outputs": [],
   "source": [
    "check = pd.DataFrame(data={'true':y[500:],'pred':xg.predict(X[500:])})"
   ],
   "metadata": {
    "collapsed": false,
    "pycharm": {
     "name": "#%%\n"
    }
   }
  },
  {
   "cell_type": "code",
   "execution_count": 230,
   "outputs": [
    {
     "data": {
      "text/plain": "<matplotlib.axes._subplots.AxesSubplot at 0x7fb67a159e50>"
     },
     "execution_count": 230,
     "metadata": {},
     "output_type": "execute_result"
    },
    {
     "data": {
      "text/plain": "<Figure size 432x288 with 1 Axes>",
      "image/png": "[encoded data removed]"
     },
     "metadata": {
      "needs_background": "light"
     },
     "output_type": "display_data"
    }
   ],
   "source": [
    "%matplotlib inline\n",
    "check.plot()"
   ],
   "metadata": {
    "collapsed": false,
    "pycharm": {
     "name": "#%%\n"
    }
   }
  },
  {
   "cell_type": "code",
   "execution_count": 231,
   "outputs": [
    {
     "data": {
      "text/plain": "0.8957515944755423"
     },
     "execution_count": 231,
     "metadata": {},
     "output_type": "execute_result"
    }
   ],
   "source": [
    "xg.score(X[550:],y[550:])"
   ],
   "metadata": {
    "collapsed": false,
    "pycharm": {
     "name": "#%%\n"
    }
   }
  },
  {
   "cell_type": "code",
   "execution_count": 232,
   "outputs": [
    {
     "data": {
      "text/plain": "array(['open', 'high', 'low', 'pre_close', 'change', 'pct_chg', 'vol',\n       'amount'], dtype='<U9')"
     },
     "execution_count": 232,
     "metadata": {},
     "output_type": "execute_result"
    }
   ],
   "source": [
    "xg.feature_names_in_"
   ],
   "metadata": {
    "collapsed": false,
    "pycharm": {
     "name": "#%%\n"
    }
   }
  },
  {
   "cell_type": "code",
   "execution_count": 233,
   "outputs": [
    {
     "data": {
      "text/plain": "array([0.00060779, 0.52977294, 0.45937386, 0.00407753, 0.00090963,\n       0.00359547, 0.00063815, 0.00102466], dtype=float32)"
     },
     "execution_count": 233,
     "metadata": {},
     "output_type": "execute_result"
    }
   ],
   "source": [
    "xg.feature_importances_"
   ],
   "metadata": {
    "collapsed": false,
    "pycharm": {
     "name": "#%%\n"
    }
   }
  },
  {
   "cell_type": "markdown",
   "source": [
    "## 2 Stocks test - open predict close"
   ],
   "metadata": {
    "collapsed": false,
    "pycharm": {
     "name": "#%% md\n"
    }
   }
  },
  {
   "cell_type": "code",
   "execution_count": 60,
   "outputs": [],
   "source": [
    "target_df = pd.DataFrame()\n",
    "for scode in [stock1,stock2]:\n",
    "    temp_df = pro.daily(exchange='SSE',ts_code=scode,start_date='20200104', end_date='20220430').sort_values('trade_date')\n",
    "    target_df = target_df.append(temp_df)"
   ],
   "metadata": {
    "collapsed": false,
    "pycharm": {
     "name": "#%%\n"
    }
   }
  },
  {
   "cell_type": "code",
   "execution_count": 61,
   "outputs": [],
   "source": [
    "target_df = target_df[['ts_code','trade_date','open','close']]"
   ],
   "metadata": {
    "collapsed": false,
    "pycharm": {
     "name": "#%%\n"
    }
   }
  },
  {
   "cell_type": "code",
   "execution_count": 62,
   "outputs": [],
   "source": [
    "stocks_df = target_df.pivot(index='trade_date',columns='ts_code')\n",
    "stocks_df.columns = [a+'_'+b for a,b in stocks_df.columns.to_flat_index()]\n",
    "stocks_df.fillna(method='ffill',inplace=True)"
   ],
   "metadata": {
    "collapsed": false,
    "pycharm": {
     "name": "#%%\n"
    }
   }
  },
  {
   "cell_type": "code",
   "execution_count": 63,
   "outputs": [],
   "source": [
    "cols_x = [col for col in stocks_df.columns if 'close_' not in col]\n",
    "cols_y = [col for col in stocks_df.columns if 'close_' in col]\n",
    "X_stocks,y_stocks = stocks_df[cols_x], stocks_df[cols_y]\n",
    "split_ratio = 0.2\n",
    "split_idx = -int(len(stocks_df)*split_ratio)\n",
    "\n",
    "train_x, train_y = X_stocks[:split_idx], y_stocks[:split_idx]\n",
    "test_x, test_y = X_stocks[split_idx:], y_stocks[split_idx:]"
   ],
   "metadata": {
    "collapsed": false,
    "pycharm": {
     "name": "#%%\n"
    }
   }
  },
  {
   "cell_type": "code",
   "execution_count": 66,
   "outputs": [
    {
     "data": {
      "text/plain": "XGBRegressor(base_score=0.5, booster='gbtree', callbacks=None,\n             colsample_bylevel=1, colsample_bynode=1, colsample_bytree=1,\n             early_stopping_rounds=None, enable_categorical=False,\n             eval_metric=None, gamma=0, gpu_id=-1, grow_policy='depthwise',\n             importance_type=None, interaction_constraints='',\n             learning_rate=0.300000012, max_bin=256, max_cat_to_onehot=4,\n             max_delta_step=0, max_depth=6, max_leaves=0, min_child_weight=1,\n             missing=nan, monotone_constraints='()', n_estimators=100, n_jobs=0,\n             num_parallel_tree=1, predictor='auto', random_state=0, reg_alpha=0,\n             reg_lambda=1, ...)"
     },
     "execution_count": 66,
     "metadata": {},
     "output_type": "execute_result"
    }
   ],
   "source": [
    "%matplotlib inline\n",
    "\n",
    "xg = XGBRegressor()\n",
    "xg.fit(train_x, train_y)"
   ],
   "metadata": {
    "collapsed": false,
    "pycharm": {
     "name": "#%%\n"
    }
   }
  },
  {
   "cell_type": "code",
   "execution_count": 90,
   "outputs": [
    {
     "name": "stdout",
     "output_type": "stream",
     "text": [
      "0.8309710201176901\n"
     ]
    }
   ],
   "source": [
    "pred = pd.DataFrame(xg.predict(test_x))\n",
    "print(xg.score(test_x, test_y))"
   ],
   "metadata": {
    "collapsed": false,
    "pycharm": {
     "name": "#%%\n"
    }
   }
  },
  {
   "cell_type": "code",
   "execution_count": 95,
   "outputs": [
    {
     "data": {
      "text/plain": "<Figure size 432x288 with 1 Axes>",
      "image/png": "[encoded data removed]"
     },
     "metadata": {
      "needs_background": "light"
     },
     "output_type": "display_data"
    },
    {
     "data": {
      "text/plain": "<Figure size 432x288 with 1 Axes>",
      "image/png": "[encoded data removed]"
     },
     "metadata": {
      "needs_background": "light"
     },
     "output_type": "display_data"
    }
   ],
   "source": [
    "for idx,txt in enumerate(test_x.columns):\n",
    "    check = pd.concat([test_y.iloc[:,idx].reset_index(drop=True), pred.iloc[:,idx]], axis=1)\n",
    "    check.plot()"
   ],
   "metadata": {
    "collapsed": false,
    "pycharm": {
     "name": "#%%\n"
    }
   }
  },
  {
   "cell_type": "markdown",
   "source": [
    "## 2 stocks lag with time window - open predict close"
   ],
   "metadata": {
    "collapsed": false,
    "pycharm": {
     "name": "#%% md\n"
    }
   }
  },
  {
   "cell_type": "code",
   "execution_count": 152,
   "outputs": [],
   "source": [
    "time_window = 1\n",
    "cols_x = [col for col in stocks_df.columns if 'close_' not in col]\n",
    "cols_y = [col for col in stocks_df.columns if 'close_' in col]\n",
    "X_stocks,y_stocks = get_xy(stocks_df[cols_x], stocks_df[cols_y],time_window)\n",
    "split_ratio = 0.2\n",
    "split_idx = -int(len(stocks_df)*split_ratio)\n",
    "\n",
    "train_x, train_y = X_stocks[:split_idx].reshape(-1,time_window*2), y_stocks[:split_idx]\n",
    "test_x, test_y = X_stocks[split_idx:].reshape(-1,time_window*2), y_stocks[split_idx:]"
   ],
   "metadata": {
    "collapsed": false,
    "pycharm": {
     "name": "#%%\n"
    }
   }
  },
  {
   "cell_type": "code",
   "execution_count": 153,
   "outputs": [
    {
     "data": {
      "text/plain": "XGBRegressor(base_score=0.5, booster='gbtree', callbacks=None,\n             colsample_bylevel=1, colsample_bynode=1, colsample_bytree=1,\n             early_stopping_rounds=None, enable_categorical=False,\n             eval_metric=None, gamma=0, gpu_id=-1, grow_policy='depthwise',\n             importance_type=None, interaction_constraints='',\n             learning_rate=0.300000012, max_bin=256, max_cat_to_onehot=4,\n             max_delta_step=0, max_depth=6, max_leaves=0, min_child_weight=1,\n             missing=nan, monotone_constraints='()', n_estimators=100, n_jobs=0,\n             num_parallel_tree=1, predictor='auto', random_state=0, reg_alpha=0,\n             reg_lambda=1, ...)"
     },
     "execution_count": 153,
     "metadata": {},
     "output_type": "execute_result"
    }
   ],
   "source": [
    "%matplotlib inline\n",
    "\n",
    "xg = XGBRegressor()\n",
    "xg.fit(train_x, train_y)"
   ],
   "metadata": {
    "collapsed": false,
    "pycharm": {
     "name": "#%%\n"
    }
   }
  },
  {
   "cell_type": "code",
   "execution_count": 154,
   "outputs": [
    {
     "name": "stdout",
     "output_type": "stream",
     "text": [
      "0.6725964221733276\n"
     ]
    }
   ],
   "source": [
    "pred = xg.predict(test_x)\n",
    "print(xg.score(test_x, test_y))"
   ],
   "metadata": {
    "collapsed": false,
    "pycharm": {
     "name": "#%%\n"
    }
   }
  },
  {
   "cell_type": "code",
   "execution_count": 155,
   "outputs": [
    {
     "data": {
      "text/plain": "<Figure size 432x288 with 1 Axes>",
      "image/png": "[encoded data removed]"
     },
     "metadata": {
      "needs_background": "light"
     },
     "output_type": "display_data"
    },
    {
     "data": {
      "text/plain": "<Figure size 432x288 with 1 Axes>",
      "image/png": "[encoded data removed]"
     },
     "metadata": {
      "needs_background": "light"
     },
     "output_type": "display_data"
    }
   ],
   "source": [
    "for idx in [0,1]:\n",
    "    check = pd.DataFrame(data={'true':test_y[:,idx], 'pred':pred[:,idx]})\n",
    "    check.plot()"
   ],
   "metadata": {
    "collapsed": false,
    "pycharm": {
     "name": "#%%\n"
    }
   }
  },
  {
   "cell_type": "markdown",
   "source": [
    "## 2 stocks open+vol predict close\n",
    "- vol:0.79\n",
    "- change: 0.94\n",
    "- pct_chg: 0.94\n",
    "- amount: 0.79\n",
    "- change only, -open: -2.9"
   ],
   "metadata": {
    "collapsed": false,
    "pycharm": {
     "name": "#%% md\n"
    }
   }
  },
  {
   "cell_type": "code",
   "execution_count": 242,
   "outputs": [],
   "source": [
    "target_df = pd.DataFrame()\n",
    "for scode in [stock1,stock2]:\n",
    "    temp_df = pro.daily(exchange='SSE',ts_code=scode,start_date='20200104', end_date='20220430').sort_values('trade_date')\n",
    "    target_df = target_df.append(temp_df)"
   ],
   "metadata": {
    "collapsed": false,
    "pycharm": {
     "name": "#%%\n"
    }
   }
  },
  {
   "cell_type": "code",
   "execution_count": 243,
   "outputs": [],
   "source": [
    "target_df = target_df[['ts_code','trade_date','open','change','close']]"
   ],
   "metadata": {
    "collapsed": false,
    "pycharm": {
     "name": "#%%\n"
    }
   }
  },
  {
   "cell_type": "code",
   "execution_count": 244,
   "outputs": [],
   "source": [
    "stocks_df = target_df.pivot(index='trade_date',columns='ts_code')\n",
    "stocks_df.columns = [a+'_'+b for a,b in stocks_df.columns.to_flat_index()]\n",
    "stocks_df.fillna(method='ffill',inplace=True)"
   ],
   "metadata": {
    "collapsed": false,
    "pycharm": {
     "name": "#%%\n"
    }
   }
  },
  {
   "cell_type": "code",
   "execution_count": 245,
   "outputs": [],
   "source": [
    "cols_x = [col for col in stocks_df.columns if 'close_' not in col]\n",
    "cols_y = [col for col in stocks_df.columns if 'close_' in col]\n",
    "X_stocks,y_stocks = stocks_df[cols_x], stocks_df[cols_y]\n",
    "split_ratio = 0.2\n",
    "split_idx = -int(len(stocks_df)*split_ratio)\n",
    "\n",
    "train_x, train_y = X_stocks[:split_idx], y_stocks[:split_idx]\n",
    "test_x, test_y = X_stocks[split_idx:], y_stocks[split_idx:]"
   ],
   "metadata": {
    "collapsed": false,
    "pycharm": {
     "name": "#%%\n"
    }
   }
  },
  {
   "cell_type": "code",
   "execution_count": 246,
   "outputs": [
    {
     "data": {
      "text/plain": "XGBRegressor(base_score=0.5, booster='gbtree', callbacks=None,\n             colsample_bylevel=1, colsample_bynode=1, colsample_bytree=1,\n             early_stopping_rounds=None, enable_categorical=False,\n             eval_metric=None, gamma=0, gpu_id=-1, grow_policy='depthwise',\n             importance_type=None, interaction_constraints='',\n             learning_rate=0.300000012, max_bin=256, max_cat_to_onehot=4,\n             max_delta_step=0, max_depth=6, max_leaves=0, min_child_weight=1,\n             missing=nan, monotone_constraints='()', n_estimators=100, n_jobs=0,\n             num_parallel_tree=1, predictor='auto', random_state=0, reg_alpha=0,\n             reg_lambda=1, ...)"
     },
     "execution_count": 246,
     "metadata": {},
     "output_type": "execute_result"
    }
   ],
   "source": [
    "%matplotlib inline\n",
    "\n",
    "xg = XGBRegressor()\n",
    "xg.fit(train_x, train_y)"
   ],
   "metadata": {
    "collapsed": false,
    "pycharm": {
     "name": "#%%\n"
    }
   }
  },
  {
   "cell_type": "code",
   "execution_count": 247,
   "outputs": [
    {
     "name": "stdout",
     "output_type": "stream",
     "text": [
      "0.9473525263860225\n"
     ]
    }
   ],
   "source": [
    "pred = pd.DataFrame(xg.predict(test_x))\n",
    "print(xg.score(test_x, test_y))"
   ],
   "metadata": {
    "collapsed": false,
    "pycharm": {
     "name": "#%%\n"
    }
   }
  },
  {
   "cell_type": "code",
   "execution_count": 250,
   "outputs": [
    {
     "data": {
      "text/plain": "<Figure size 432x288 with 1 Axes>",
      "image/png": "[encoded data removed]"
     },
     "metadata": {
      "needs_background": "light"
     },
     "output_type": "display_data"
    },
    {
     "data": {
      "text/plain": "<Figure size 432x288 with 1 Axes>",
      "image/png": "[encoded data removed]"
     },
     "metadata": {
      "needs_background": "light"
     },
     "output_type": "display_data"
    }
   ],
   "source": [
    "for idx in [0,1]:\n",
    "    check = pd.concat([test_y.iloc[:,idx].reset_index(drop=True), pred.iloc[:,idx]], axis=1)\n",
    "    check.plot()"
   ],
   "metadata": {
    "collapsed": false,
    "pycharm": {
     "name": "#%%\n"
    }
   }
  },
  {
   "cell_type": "code",
   "execution_count": 251,
   "outputs": [
    {
     "data": {
      "text/plain": "array([0.8077334 , 0.17309532, 0.01366432, 0.00550692], dtype=float32)"
     },
     "execution_count": 251,
     "metadata": {},
     "output_type": "execute_result"
    }
   ],
   "source": [
    "xg.feature_importances_"
   ],
   "metadata": {
    "collapsed": false,
    "pycharm": {
     "name": "#%%\n"
    }
   }
  },
  {
   "cell_type": "code",
   "execution_count": 252,
   "outputs": [
    {
     "data": {
      "text/plain": "array(['open_002642.SZ', 'open_600979.SH', 'change_002642.SZ',\n       'change_600979.SH'], dtype='<U16')"
     },
     "execution_count": 252,
     "metadata": {},
     "output_type": "execute_result"
    }
   ],
   "source": [
    "xg.feature_names_in_"
   ],
   "metadata": {
    "collapsed": false,
    "pycharm": {
     "name": "#%%\n"
    }
   }
  },
  {
   "cell_type": "markdown",
   "source": [
    "## 2 stocks lag with time window - open,vol predict close"
   ],
   "metadata": {
    "collapsed": false,
    "pycharm": {
     "name": "#%% md\n"
    }
   }
  },
  {
   "cell_type": "code",
   "execution_count": 195,
   "outputs": [],
   "source": [
    "time_window = 2\n",
    "cols_x = [col for col in stocks_df.columns if 'close_' not in col]\n",
    "cols_y = [col for col in stocks_df.columns if 'close_' in col]\n",
    "X_stocks,y_stocks = get_xy(stocks_df[cols_x], stocks_df[cols_y],time_window)\n",
    "split_ratio = 0.2\n",
    "split_idx = -int(len(stocks_df)*split_ratio)\n",
    "\n",
    "train_x, train_y = X_stocks[:split_idx].reshape(-1,time_window*len(cols_x)), y_stocks[:split_idx]\n",
    "test_x, test_y = X_stocks[split_idx:].reshape(-1,time_window*len(cols_x)), y_stocks[split_idx:]"
   ],
   "metadata": {
    "collapsed": false,
    "pycharm": {
     "name": "#%%\n"
    }
   }
  },
  {
   "cell_type": "code",
   "execution_count": 196,
   "outputs": [
    {
     "data": {
      "text/plain": "XGBRegressor(base_score=0.5, booster='gbtree', callbacks=None,\n             colsample_bylevel=1, colsample_bynode=1, colsample_bytree=1,\n             early_stopping_rounds=None, enable_categorical=False,\n             eval_metric=None, gamma=0, gpu_id=-1, grow_policy='depthwise',\n             importance_type=None, interaction_constraints='',\n             learning_rate=0.300000012, max_bin=256, max_cat_to_onehot=4,\n             max_delta_step=0, max_depth=6, max_leaves=0, min_child_weight=1,\n             missing=nan, monotone_constraints='()', n_estimators=100, n_jobs=0,\n             num_parallel_tree=1, predictor='auto', random_state=0, reg_alpha=0,\n             reg_lambda=1, ...)"
     },
     "execution_count": 196,
     "metadata": {},
     "output_type": "execute_result"
    }
   ],
   "source": [
    "%matplotlib inline\n",
    "\n",
    "xg = XGBRegressor()\n",
    "xg.fit(train_x, train_y)"
   ],
   "metadata": {
    "collapsed": false,
    "pycharm": {
     "name": "#%%\n"
    }
   }
  },
  {
   "cell_type": "code",
   "execution_count": 197,
   "outputs": [
    {
     "name": "stdout",
     "output_type": "stream",
     "text": [
      "0.7527164931092287\n"
     ]
    }
   ],
   "source": [
    "pred = xg.predict(test_x)\n",
    "print(xg.score(test_x, test_y))"
   ],
   "metadata": {
    "collapsed": false,
    "pycharm": {
     "name": "#%%\n"
    }
   }
  },
  {
   "cell_type": "code",
   "execution_count": 198,
   "outputs": [
    {
     "data": {
      "text/plain": "<Figure size 432x288 with 1 Axes>",
      "image/png": "[encoded data removed]"
     },
     "metadata": {
      "needs_background": "light"
     },
     "output_type": "display_data"
    },
    {
     "data": {
      "text/plain": "<Figure size 432x288 with 1 Axes>",
      "image/png": "[encoded data removed]"
     },
     "metadata": {
      "needs_background": "light"
     },
     "output_type": "display_data"
    }
   ],
   "source": [
    "for idx in [0,1]:\n",
    "    check = pd.DataFrame(data={'true':test_y[:,idx], 'pred':pred[:,idx]})\n",
    "    check.plot()"
   ],
   "metadata": {
    "collapsed": false,
    "pycharm": {
     "name": "#%%\n"
    }
   }
  },
  {
   "cell_type": "code",
   "execution_count": 227,
   "outputs": [
    {
     "data": {
      "text/plain": "array(['open_002642.SZ', 'open_600979.SH', 'amount_002642.SZ',\n       'amount_600979.SH'], dtype='<U16')"
     },
     "execution_count": 227,
     "metadata": {},
     "output_type": "execute_result"
    }
   ],
   "source": [
    "xg.feature_names_in_"
   ],
   "metadata": {
    "collapsed": false,
    "pycharm": {
     "name": "#%%\n"
    }
   }
  },
  {
   "cell_type": "code",
   "execution_count": 226,
   "outputs": [
    {
     "data": {
      "text/plain": "array([0.79308575, 0.19427983, 0.00625591, 0.00637852], dtype=float32)"
     },
     "execution_count": 226,
     "metadata": {},
     "output_type": "execute_result"
    }
   ],
   "source": [
    "xg.feature_importances_"
   ],
   "metadata": {
    "collapsed": false,
    "pycharm": {
     "name": "#%%\n"
    }
   }
  },
  {
   "cell_type": "markdown",
   "source": [
    "### arima 需要p,q 值"
   ],
   "metadata": {
    "collapsed": false,
    "pycharm": {
     "name": "#%% md\n"
    }
   }
  },
  {
   "cell_type": "code",
   "execution_count": 257,
   "outputs": [],
   "source": [
    "from statsmodels.tsa.arima.model import ARIMA"
   ],
   "metadata": {
    "collapsed": false,
    "pycharm": {
     "name": "#%%\n"
    }
   }
  },
  {
   "cell_type": "code",
   "execution_count": 255,
   "outputs": [
    {
     "data": {
      "text/plain": "trade_date\n20200106    6.34\n20200107    6.53\n20200108    6.61\n20200109    6.94\n20200110    6.75\n            ... \n20211108    4.53\n20211109    4.62\n20211110    4.64\n20211111    4.68\n20211112    4.70\nName: close_002642.SZ, Length: 449, dtype: float64"
     },
     "execution_count": 255,
     "metadata": {},
     "output_type": "execute_result"
    }
   ],
   "source": [
    "train_y.iloc[:,0]"
   ],
   "metadata": {
    "collapsed": false,
    "pycharm": {
     "name": "#%%\n"
    }
   }
  },
  {
   "cell_type": "code",
   "execution_count": 259,
   "outputs": [
    {
     "ename": "ValueError",
     "evalue": "A constant trend was included in the model specification, but the `exog` data already contains a column of constants.",
     "output_type": "error",
     "traceback": [
      "\u001B[0;31m---------------------------------------------------------------------------\u001B[0m",
      "\u001B[0;31mValueError\u001B[0m                                Traceback (most recent call last)",
      "\u001B[0;32m<ipython-input-259-12bd8d39732a>\u001B[0m in \u001B[0;36m<module>\u001B[0;34m\u001B[0m\n\u001B[0;32m----> 1\u001B[0;31m \u001B[0mmodel\u001B[0m \u001B[0;34m=\u001B[0m \u001B[0mARIMA\u001B[0m\u001B[0;34m(\u001B[0m\u001B[0mtrain_y\u001B[0m\u001B[0;34m.\u001B[0m\u001B[0miloc\u001B[0m\u001B[0;34m[\u001B[0m\u001B[0;34m:\u001B[0m\u001B[0;34m,\u001B[0m\u001B[0;36m0\u001B[0m\u001B[0;34m]\u001B[0m\u001B[0;34m,\u001B[0m \u001B[0;34m(\u001B[0m\u001B[0;36m1\u001B[0m\u001B[0;34m,\u001B[0m\u001B[0;36m1\u001B[0m\u001B[0;34m,\u001B[0m\u001B[0;36m1\u001B[0m\u001B[0;34m)\u001B[0m\u001B[0;34m)\u001B[0m\u001B[0;34m.\u001B[0m\u001B[0mfit\u001B[0m\u001B[0;34m(\u001B[0m\u001B[0;34m)\u001B[0m\u001B[0;34m\u001B[0m\u001B[0;34m\u001B[0m\u001B[0m\n\u001B[0m",
      "\u001B[0;32m~/anaconda3/envs/learn_notes/lib/python3.7/site-packages/statsmodels/tsa/arima/model.py\u001B[0m in \u001B[0;36m__init__\u001B[0;34m(self, endog, exog, order, seasonal_order, trend, enforce_stationarity, enforce_invertibility, concentrate_scale, trend_offset, dates, freq, missing, validate_specification)\u001B[0m\n\u001B[1;32m    156\u001B[0m             \u001B[0mconcentrate_scale\u001B[0m\u001B[0;34m=\u001B[0m\u001B[0mconcentrate_scale\u001B[0m\u001B[0;34m,\u001B[0m \u001B[0mtrend_offset\u001B[0m\u001B[0;34m=\u001B[0m\u001B[0mtrend_offset\u001B[0m\u001B[0;34m,\u001B[0m\u001B[0;34m\u001B[0m\u001B[0;34m\u001B[0m\u001B[0m\n\u001B[1;32m    157\u001B[0m             \u001B[0mdates\u001B[0m\u001B[0;34m=\u001B[0m\u001B[0mdates\u001B[0m\u001B[0;34m,\u001B[0m \u001B[0mfreq\u001B[0m\u001B[0;34m=\u001B[0m\u001B[0mfreq\u001B[0m\u001B[0;34m,\u001B[0m \u001B[0mmissing\u001B[0m\u001B[0;34m=\u001B[0m\u001B[0mmissing\u001B[0m\u001B[0;34m,\u001B[0m\u001B[0;34m\u001B[0m\u001B[0;34m\u001B[0m\u001B[0m\n\u001B[0;32m--> 158\u001B[0;31m             validate_specification=validate_specification)\n\u001B[0m\u001B[1;32m    159\u001B[0m         \u001B[0mexog\u001B[0m \u001B[0;34m=\u001B[0m \u001B[0mself\u001B[0m\u001B[0;34m.\u001B[0m\u001B[0m_spec_arima\u001B[0m\u001B[0;34m.\u001B[0m\u001B[0m_model\u001B[0m\u001B[0;34m.\u001B[0m\u001B[0mdata\u001B[0m\u001B[0;34m.\u001B[0m\u001B[0morig_exog\u001B[0m\u001B[0;34m\u001B[0m\u001B[0;34m\u001B[0m\u001B[0m\n\u001B[1;32m    160\u001B[0m \u001B[0;34m\u001B[0m\u001B[0m\n",
      "\u001B[0;32m~/anaconda3/envs/learn_notes/lib/python3.7/site-packages/statsmodels/tsa/arima/specification.py\u001B[0m in \u001B[0;36m__init__\u001B[0;34m(self, endog, exog, order, seasonal_order, ar_order, diff, ma_order, seasonal_ar_order, seasonal_diff, seasonal_ma_order, seasonal_periods, trend, enforce_stationarity, enforce_invertibility, concentrate_scale, trend_offset, dates, freq, missing, validate_specification)\u001B[0m\n\u001B[1;32m    393\u001B[0m             \u001B[0;31m# If we already have a constant column, raise an error\u001B[0m\u001B[0;34m\u001B[0m\u001B[0;34m\u001B[0m\u001B[0;34m\u001B[0m\u001B[0m\n\u001B[1;32m    394\u001B[0m             \u001B[0;32mif\u001B[0m \u001B[0mnp\u001B[0m\u001B[0;34m.\u001B[0m\u001B[0many\u001B[0m\u001B[0;34m(\u001B[0m\u001B[0mcol_const\u001B[0m\u001B[0;34m)\u001B[0m\u001B[0;34m:\u001B[0m\u001B[0;34m\u001B[0m\u001B[0;34m\u001B[0m\u001B[0m\n\u001B[0;32m--> 395\u001B[0;31m                 raise ValueError('A constant trend was included in the model'\n\u001B[0m\u001B[1;32m    396\u001B[0m                                  \u001B[0;34m' specification, but the `exog` data already'\u001B[0m\u001B[0;34m\u001B[0m\u001B[0;34m\u001B[0m\u001B[0m\n\u001B[1;32m    397\u001B[0m                                  ' contains a column of constants.')\n",
      "\u001B[0;31mValueError\u001B[0m: A constant trend was included in the model specification, but the `exog` data already contains a column of constants."
     ]
    }
   ],
   "source": [
    "model = ARIMA(train_y.iloc[:,0], (1,1,1)).fit()"
   ],
   "metadata": {
    "collapsed": false,
    "pycharm": {
     "name": "#%%\n"
    }
   }
  },
  {
   "cell_type": "code",
   "execution_count": 261,
   "outputs": [
    {
     "name": "stderr",
     "output_type": "stream",
     "text": [
      "/Users/nanzou/anaconda3/envs/learn_notes/lib/python3.7/site-packages/statsmodels/tsa/base/tsa_model.py:471: ValueWarning: A date index has been provided, but it has no associated frequency information and so will be ignored when e.g. forecasting.\n",
      "  self._init_dates(dates, freq)\n",
      "/Users/nanzou/anaconda3/envs/learn_notes/lib/python3.7/site-packages/statsmodels/tsa/base/tsa_model.py:471: ValueWarning: A date index has been provided, but it has no associated frequency information and so will be ignored when e.g. forecasting.\n",
      "  self._init_dates(dates, freq)\n",
      "/Users/nanzou/anaconda3/envs/learn_notes/lib/python3.7/site-packages/statsmodels/tsa/base/tsa_model.py:471: ValueWarning: A date index has been provided, but it has no associated frequency information and so will be ignored when e.g. forecasting.\n",
      "  self._init_dates(dates, freq)\n"
     ]
    }
   ],
   "source": [
    "import statsmodels.api as sm\n",
    "model = sm.tsa.ARIMA(train_y.iloc[:,0],order= (1,1,1)).fit()"
   ],
   "metadata": {
    "collapsed": false,
    "pycharm": {
     "name": "#%%\n"
    }
   }
  },
  {
   "cell_type": "code",
   "execution_count": 264,
   "outputs": [
    {
     "name": "stderr",
     "output_type": "stream",
     "text": [
      "/Users/nanzou/anaconda3/envs/learn_notes/lib/python3.7/site-packages/statsmodels/tsa/base/tsa_model.py:843: ValueWarning: No supported index is available. Prediction results will be given with an integer index beginning at `start`.\n",
      "  data=self.data,\n"
     ]
    },
    {
     "data": {
      "text/plain": "449    4.700738\n450    4.700590\n451    4.700619\n452    4.700613\n453    4.700614\n         ...   \n556    4.700614\n557    4.700614\n558    4.700614\n559    4.700614\n560    4.700614\nName: predicted_mean, Length: 112, dtype: float64"
     },
     "execution_count": 264,
     "metadata": {},
     "output_type": "execute_result"
    }
   ],
   "source": [
    "model.forecast(len(test_y))"
   ],
   "metadata": {
    "collapsed": false,
    "pycharm": {
     "name": "#%%\n"
    }
   }
  },
  {
   "cell_type": "code",
   "execution_count": 271,
   "outputs": [
    {
     "name": "stderr",
     "output_type": "stream",
     "text": [
      "/Users/nanzou/anaconda3/envs/learn_notes/lib/python3.7/site-packages/statsmodels/tsa/base/tsa_model.py:843: ValueWarning: No supported index is available. Prediction results will be given with an integer index beginning at `start`.\n",
      "  data=self.data,\n"
     ]
    },
    {
     "data": {
      "text/plain": "<matplotlib.axes._subplots.AxesSubplot at 0x7fb67a3a8f90>"
     },
     "execution_count": 271,
     "metadata": {},
     "output_type": "execute_result"
    },
    {
     "data": {
      "text/plain": "<Figure size 432x288 with 1 Axes>",
      "image/png": "[encoded data removed]"
     },
     "metadata": {
      "needs_background": "light"
     },
     "output_type": "display_data"
    }
   ],
   "source": [
    "\n",
    "model.forecast(len(test_y)).reset_index(drop=True).plot()"
   ],
   "metadata": {
    "collapsed": false,
    "pycharm": {
     "name": "#%%\n"
    }
   }
  },
  {
   "cell_type": "markdown",
   "source": [
    "## 测试纯change 多window 1，5，10"
   ],
   "metadata": {
    "collapsed": false,
    "pycharm": {
     "name": "#%% md\n"
    }
   }
  },
  {
   "cell_type": "code",
   "execution_count": 279,
   "outputs": [],
   "source": [
    "target_df = pd.DataFrame()\n",
    "for scode in [stock1,stock2]:\n",
    "    temp_df = pro.daily(exchange='SSE',ts_code=scode,start_date='20200104', end_date='20220430').sort_values('trade_date')\n",
    "    target_df = target_df.append(temp_df)"
   ],
   "metadata": {
    "collapsed": false,
    "pycharm": {
     "name": "#%%\n"
    }
   }
  },
  {
   "cell_type": "code",
   "execution_count": 280,
   "outputs": [],
   "source": [
    "target_df = target_df[['ts_code','trade_date','change','close']]"
   ],
   "metadata": {
    "collapsed": false,
    "pycharm": {
     "name": "#%%\n"
    }
   }
  },
  {
   "cell_type": "code",
   "execution_count": 281,
   "outputs": [],
   "source": [
    "stocks_df = target_df.pivot(index='trade_date',columns='ts_code')\n",
    "stocks_df.columns = [a+'_'+b for a,b in stocks_df.columns.to_flat_index()]\n",
    "stocks_df.fillna(method='ffill',inplace=True)"
   ],
   "metadata": {
    "collapsed": false,
    "pycharm": {
     "name": "#%%\n"
    }
   }
  },
  {
   "cell_type": "code",
   "execution_count": 372,
   "outputs": [],
   "source": [
    "x_temp = np.ones((len(stocks_df),1))\n",
    "\n",
    "for time_window in [1,5,10]:\n",
    "    cols_x = [col for col in stocks_df.columns if 'close_' not in col]\n",
    "    cols_y = [col for col in stocks_df.columns if 'close_' in col]\n",
    "    X_stocks,y_stocks = get_xy(stocks_df[cols_x], stocks_df[cols_y],time_window)\n",
    "    X_stocks = X_stocks.reshape(-1,time_window*2)\n",
    "    x_temp = np.concatenate((x_temp[-len(X_stocks):],X_stocks), axis=1)\n",
    "\n",
    "y_temp = y_stocks[-len(x_temp):]"
   ],
   "metadata": {
    "collapsed": false,
    "pycharm": {
     "name": "#%%\n"
    }
   }
  },
  {
   "cell_type": "code",
   "execution_count": 374,
   "outputs": [],
   "source": [
    "split_ratio = 0.2\n",
    "split_idx = -int(len(x_temp)*split_ratio)\n",
    "\n",
    "train_x, train_y = x_temp[:split_idx], y_temp[:split_idx]\n",
    "test_x, test_y = x_temp[split_idx:], y_temp[split_idx:]"
   ],
   "metadata": {
    "collapsed": false,
    "pycharm": {
     "name": "#%%\n"
    }
   }
  },
  {
   "cell_type": "code",
   "execution_count": 375,
   "outputs": [
    {
     "data": {
      "text/plain": "XGBRegressor(base_score=0.5, booster='gbtree', callbacks=None,\n             colsample_bylevel=1, colsample_bynode=1, colsample_bytree=1,\n             early_stopping_rounds=None, enable_categorical=False,\n             eval_metric=None, gamma=0, gpu_id=-1, grow_policy='depthwise',\n             importance_type=None, interaction_constraints='',\n             learning_rate=0.300000012, max_bin=256, max_cat_to_onehot=4,\n             max_delta_step=0, max_depth=6, max_leaves=0, min_child_weight=1,\n             missing=nan, monotone_constraints='()', n_estimators=100, n_jobs=0,\n             num_parallel_tree=1, predictor='auto', random_state=0, reg_alpha=0,\n             reg_lambda=1, ...)"
     },
     "execution_count": 375,
     "metadata": {},
     "output_type": "execute_result"
    }
   ],
   "source": [
    "%matplotlib inline\n",
    "\n",
    "xg = XGBRegressor()\n",
    "xg.fit(train_x, train_y)"
   ],
   "metadata": {
    "collapsed": false,
    "pycharm": {
     "name": "#%%\n"
    }
   }
  },
  {
   "cell_type": "code",
   "execution_count": 376,
   "outputs": [
    {
     "name": "stdout",
     "output_type": "stream",
     "text": [
      "-1.6775189632952552\n"
     ]
    }
   ],
   "source": [
    "pred = xg.predict(test_x)\n",
    "print(xg.score(test_x, test_y))"
   ],
   "metadata": {
    "collapsed": false,
    "pycharm": {
     "name": "#%%\n"
    }
   }
  },
  {
   "cell_type": "code",
   "execution_count": 378,
   "outputs": [
    {
     "data": {
      "text/plain": "array([[ 1.  , -0.05,  0.  , ...,  0.03, -0.05,  0.  ],\n       [ 1.  ,  0.17,  0.04, ...,  0.  ,  0.17,  0.04],\n       [ 1.  , -0.07,  0.  , ...,  0.04, -0.07,  0.  ],\n       ...,\n       [ 1.  , -0.23, -0.09, ..., -0.21, -0.23, -0.09],\n       [ 1.  ,  0.26,  0.09, ..., -0.09,  0.26,  0.09],\n       [ 1.  , -0.19, -0.02, ...,  0.09, -0.19, -0.02]])"
     },
     "execution_count": 378,
     "metadata": {},
     "output_type": "execute_result"
    }
   ],
   "source": [
    "test_x"
   ],
   "metadata": {
    "collapsed": false,
    "pycharm": {
     "name": "#%%\n"
    }
   }
  },
  {
   "cell_type": "code",
   "execution_count": 379,
   "outputs": [
    {
     "data": {
      "text/plain": "<Figure size 432x288 with 1 Axes>",
      "image/png": "[encoded data removed]"
     },
     "metadata": {
      "needs_background": "light"
     },
     "output_type": "display_data"
    },
    {
     "data": {
      "text/plain": "<Figure size 432x288 with 1 Axes>",
      "image/png": "[encoded data removed]"
     },
     "metadata": {
      "needs_background": "light"
     },
     "output_type": "display_data"
    }
   ],
   "source": [
    "for idx in [0,1]:\n",
    "    check = pd.DataFrame(data={'true':test_y[:,idx], 'pred':pred[:,idx]})\n",
    "    check.plot()"
   ],
   "metadata": {
    "collapsed": false,
    "pycharm": {
     "name": "#%%\n"
    }
   }
  },
  {
   "cell_type": "code",
   "execution_count": 227,
   "outputs": [
    {
     "data": {
      "text/plain": "array(['open_002642.SZ', 'open_600979.SH', 'amount_002642.SZ',\n       'amount_600979.SH'], dtype='<U16')"
     },
     "execution_count": 227,
     "metadata": {},
     "output_type": "execute_result"
    }
   ],
   "source": [
    "xg.feature_names_in_"
   ],
   "metadata": {
    "collapsed": false,
    "pycharm": {
     "name": "#%%\n"
    }
   }
  },
  {
   "cell_type": "code",
   "execution_count": 226,
   "outputs": [
    {
     "data": {
      "text/plain": "array([0.79308575, 0.19427983, 0.00625591, 0.00637852], dtype=float32)"
     },
     "execution_count": 226,
     "metadata": {},
     "output_type": "execute_result"
    }
   ],
   "source": [
    "xg.feature_importances_"
   ],
   "metadata": {
    "collapsed": false,
    "pycharm": {
     "name": "#%%\n"
    }
   }
  },
  {
   "cell_type": "code",
   "execution_count": null,
   "outputs": [],
   "source": [],
   "metadata": {
    "collapsed": false,
    "pycharm": {
     "name": "#%%\n"
    }
   }
  }
 ],
 "metadata": {
  "kernelspec": {
   "display_name": "Python 3",
   "language": "python",
   "name": "python3"
  },
  "language_info": {
   "codemirror_mode": {
    "name": "ipython",
    "version": 2
   },
   "file_extension": ".py",
   "mimetype": "text/x-python",
   "name": "python",
   "nbconvert_exporter": "python",
   "pygments_lexer": "ipython2",
   "version": "2.7.6"
  }
 },
 "nbformat": 4,
 "nbformat_minor": 0
}