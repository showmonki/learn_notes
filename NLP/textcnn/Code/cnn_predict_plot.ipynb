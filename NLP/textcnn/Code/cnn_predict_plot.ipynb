{
 "cells": [
  {
   "cell_type": "code",
   "execution_count": 1,
   "metadata": {
    "collapsed": true
   },
   "outputs": [],
   "source": [
    "import numpy as np\n",
    "import tensorflow as tf\n",
    "from cnn_model import CNNKeras\n",
    "from tensorflow import keras\n",
    "import pickle\n",
    "import matplotlib.pyplot as plt\n",
    "from cnn_utils import make_gradcam_heatmap, txt2vec, _plot_score, _get_text_xticks"
   ]
  },
  {
   "cell_type": "code",
   "execution_count": 2,
   "outputs": [],
   "source": [
    "clf = keras.models.load_model('../Model/textcnn_model.h5')\n",
    "with open('../Model/textcnn_model_config.pkl', \"rb+\") as f:\n",
    "\ttrain_config = pickle.load(f)\n",
    "label_list = {v:k for k,v in train_config.label_dict.items()}"
   ],
   "metadata": {
    "collapsed": false,
    "pycharm": {
     "name": "#%%\n"
    }
   }
  },
  {
   "cell_type": "code",
   "execution_count": 3,
   "outputs": [
    {
     "data": {
      "text/plain": "<Figure size 640x480 with 1 Axes>",
      "image/png": "[encoded data removed]"
     },
     "metadata": {},
     "output_type": "display_data"
    }
   ],
   "source": [
    "test_txt = 'Calbee/卡乐比进口原味水果麦片即食燕麦片早餐饱腹食品700g冲饮'\n",
    "test_vec = txt2vec(test_txt,train_config.seq_length,train_config.vocab)\n",
    "result = clf.predict(test_vec)\n",
    "predict_label, prediction_prob = result.argmax(), result.max()\n",
    "heatmap = make_gradcam_heatmap(test_vec, clf, 'conv3')\n",
    "plt.imshow([heatmap])\n",
    "plt.show()"
   ],
   "metadata": {
    "collapsed": false,
    "pycharm": {
     "name": "#%%\n"
    }
   }
  },
  {
   "cell_type": "code",
   "execution_count": 4,
   "outputs": [
    {
     "name": "stderr",
     "output_type": "stream",
     "text": [
      "/Users/nanzou/anaconda3/envs/learn_notes/lib/python3.7/site-packages/matplotlib/figure.py:98: MatplotlibDeprecationWarning: \n",
      "Adding an axes using the same arguments as a previous axes currently reuses the earlier instance.  In a future version, a new instance will always be created and returned.  Meanwhile, this warning can be suppressed, and the future behavior ensured, by passing a unique label to each axes instance.\n",
      "  \"Adding an axes using the same arguments as a previous axes \"\n",
      "/Users/nanzou/anaconda3/envs/learn_notes/lib/python3.7/site-packages/matplotlib/font_manager.py:1241: UserWarning: findfont: Font family ['sans-serif'] not found. Falling back to DejaVu Sans.\n",
      "  (prop.get_family(), self.defaultFamily[fontext]))\n",
      "/Users/nanzou/anaconda3/envs/learn_notes/lib/python3.7/site-packages/matplotlib/font_manager.py:1241: UserWarning: findfont: Font family ['SimSun'] not found. Falling back to DejaVu Sans.\n",
      "  (prop.get_family(), self.defaultFamily[fontext]))\n"
     ]
    },
    {
     "data": {
      "text/plain": "<Figure size 1400x1000 with 1 Axes>",
      "image/png": "[encoded data removed]"
     },
     "metadata": {},
     "output_type": "display_data"
    }
   ],
   "source": [
    "resize_heatmap = tf.keras.preprocessing.image.array_to_img(heatmap[...,np.newaxis,np.newaxis])\n",
    "resize_heatmap = resize_heatmap.resize((1,35))\n",
    "resize_heatmap = tf.keras.preprocessing.image.img_to_array(resize_heatmap)\n",
    "# plt.matshow(resize_heatmap[:,0])\n",
    "# plt.show()\n",
    "_plot_score(resize_heatmap[:,0,0], pred_label=label_list[predict_label], txt_len=len(test_txt), xticks=_get_text_xticks(test_txt))"
   ],
   "metadata": {
    "collapsed": false,
    "pycharm": {
     "name": "#%%\n"
    }
   }
  },
  {
   "cell_type": "code",
   "execution_count": 5,
   "outputs": [
    {
     "name": "stderr",
     "output_type": "stream",
     "text": [
      "/Users/nanzou/anaconda3/envs/learn_notes/lib/python3.7/site-packages/matplotlib/font_manager.py:1241: UserWarning: findfont: Font family ['sans-serif'] not found. Falling back to DejaVu Sans.\n",
      "  (prop.get_family(), self.defaultFamily[fontext]))\n"
     ]
    },
    {
     "data": {
      "text/plain": "<Figure size 640x480 with 1 Axes>",
      "image/png": "[encoded data removed]"
     },
     "metadata": {},
     "output_type": "display_data"
    }
   ],
   "source": [
    "test_txt = '良品铺子-每日麦片早餐冲饮即食麦片代餐坚果酸奶营养燕麦400g'\n",
    "test_vec = txt2vec(test_txt,train_config.seq_length,train_config.vocab)\n",
    "result = clf.predict(test_vec)\n",
    "predict_label, prediction_prob = result.argmax(), result.max()\n",
    "heatmap = make_gradcam_heatmap(test_vec, clf, 'conv3')\n",
    "plt.imshow([heatmap])\n",
    "plt.show()"
   ],
   "metadata": {
    "collapsed": false,
    "pycharm": {
     "name": "#%%\n"
    }
   }
  },
  {
   "cell_type": "code",
   "execution_count": 6,
   "outputs": [
    {
     "name": "stderr",
     "output_type": "stream",
     "text": [
      "/Users/nanzou/anaconda3/envs/learn_notes/lib/python3.7/site-packages/matplotlib/figure.py:98: MatplotlibDeprecationWarning: \n",
      "Adding an axes using the same arguments as a previous axes currently reuses the earlier instance.  In a future version, a new instance will always be created and returned.  Meanwhile, this warning can be suppressed, and the future behavior ensured, by passing a unique label to each axes instance.\n",
      "  \"Adding an axes using the same arguments as a previous axes \"\n"
     ]
    },
    {
     "data": {
      "text/plain": "<Figure size 1400x1000 with 1 Axes>",
      "image/png": "[encoded data removed]"
     },
     "metadata": {},
     "output_type": "display_data"
    }
   ],
   "source": [
    "resize_heatmap = tf.keras.preprocessing.image.array_to_img(heatmap[...,np.newaxis,np.newaxis])\n",
    "resize_heatmap = resize_heatmap.resize((1,35))\n",
    "resize_heatmap = tf.keras.preprocessing.image.img_to_array(resize_heatmap)\n",
    "# plt.matshow(resize_heatmap[:,0])\n",
    "# plt.show()\n",
    "_plot_score(resize_heatmap[:,0,0], pred_label=label_list[predict_label], txt_len=len(test_txt), xticks=_get_text_xticks(test_txt))"
   ],
   "metadata": {
    "collapsed": false,
    "pycharm": {
     "name": "#%%\n"
    }
   }
  },
  {
   "cell_type": "code",
   "execution_count": 7,
   "outputs": [
    {
     "name": "stdout",
     "output_type": "stream",
     "text": [
      "Model: \"keras_model\"\n",
      "_________________________________________________________________\n",
      "Layer (type)                 Output Shape              Param #   \n",
      "=================================================================\n",
      "model_input (InputLayer)     [(None, 50)]              0         \n",
      "_________________________________________________________________\n",
      "embedding (Embedding)        (None, 50, 128)           1280000   \n",
      "_________________________________________________________________\n",
      "conv1_1 (Conv1D)             (None, 50, 512)           197120    \n",
      "_________________________________________________________________\n",
      "conv1_2 (Conv1D)             (None, 50, 512)           262656    \n",
      "_________________________________________________________________\n",
      "mp1 (MaxPooling1D)           (None, 25, 512)           0         \n",
      "_________________________________________________________________\n",
      "bn1 (BatchNormalization)     (None, 25, 512)           2048      \n",
      "_________________________________________________________________\n",
      "conv2_1 (Conv1D)             (None, 25, 512)           786944    \n",
      "_________________________________________________________________\n",
      "conv2_2 (Conv1D)             (None, 25, 512)           262656    \n",
      "_________________________________________________________________\n",
      "mp2 (MaxPooling1D)           (None, 12, 512)           0         \n",
      "_________________________________________________________________\n",
      "bn2 (BatchNormalization)     (None, 12, 512)           2048      \n",
      "_________________________________________________________________\n",
      "conv3 (Conv1D)               (None, 12, 512)           786944    \n",
      "_________________________________________________________________\n",
      "conv3_2 (Conv1D)             (None, 12, 512)           262656    \n",
      "_________________________________________________________________\n",
      "mp3 (MaxPooling1D)           (None, 6, 512)            0         \n",
      "_________________________________________________________________\n",
      "bn3 (BatchNormalization)     (None, 6, 512)            2048      \n",
      "_________________________________________________________________\n",
      "dense (Dense)                (None, 6, 128)            65664     \n",
      "_________________________________________________________________\n",
      "gmp (GlobalMaxPooling1D)     (None, 128)               0         \n",
      "_________________________________________________________________\n",
      "dense_1 (Dense)              (None, 4)                 516       \n",
      "=================================================================\n",
      "Total params: 3,911,300\n",
      "Trainable params: 3,908,228\n",
      "Non-trainable params: 3,072\n",
      "_________________________________________________________________\n"
     ]
    }
   ],
   "source": [
    "clf.summary()"
   ],
   "metadata": {
    "collapsed": false,
    "pycharm": {
     "name": "#%%\n"
    }
   }
  },
  {
   "cell_type": "code",
   "execution_count": 8,
   "outputs": [
    {
     "data": {
      "text/plain": "{'name': 'keras_model',\n 'layers': [{'class_name': 'InputLayer',\n   'config': {'batch_input_shape': (None, 50),\n    'dtype': 'float32',\n    'sparse': False,\n    'name': 'model_input'},\n   'name': 'model_input',\n   'inbound_nodes': []},\n  {'class_name': 'Embedding',\n   'config': {'name': 'embedding',\n    'trainable': True,\n    'batch_input_shape': (None, 50),\n    'dtype': 'float32',\n    'input_dim': 10000,\n    'output_dim': 128,\n    'embeddings_initializer': {'class_name': 'RandomUniform',\n     'config': {'minval': -0.05, 'maxval': 0.05, 'seed': None}},\n    'embeddings_regularizer': None,\n    'activity_regularizer': None,\n    'embeddings_constraint': None,\n    'mask_zero': False,\n    'input_length': 50},\n   'name': 'embedding',\n   'inbound_nodes': [[['model_input', 0, 0, {}]]]},\n  {'class_name': 'Conv1D',\n   'config': {'name': 'conv1_1',\n    'trainable': True,\n    'dtype': 'float32',\n    'filters': 512,\n    'kernel_size': (3,),\n    'strides': (1,),\n    'padding': 'same',\n    'data_format': 'channels_last',\n    'dilation_rate': (1,),\n    'activation': 'relu',\n    'use_bias': True,\n    'kernel_initializer': {'class_name': 'GlorotUniform',\n     'config': {'seed': None}},\n    'bias_initializer': {'class_name': 'Zeros', 'config': {}},\n    'kernel_regularizer': None,\n    'bias_regularizer': None,\n    'activity_regularizer': None,\n    'kernel_constraint': None,\n    'bias_constraint': None},\n   'name': 'conv1_1',\n   'inbound_nodes': [[['embedding', 0, 0, {}]]]},\n  {'class_name': 'Conv1D',\n   'config': {'name': 'conv1_2',\n    'trainable': True,\n    'dtype': 'float32',\n    'filters': 512,\n    'kernel_size': (1,),\n    'strides': (1,),\n    'padding': 'valid',\n    'data_format': 'channels_last',\n    'dilation_rate': (1,),\n    'activation': 'relu',\n    'use_bias': True,\n    'kernel_initializer': {'class_name': 'GlorotUniform',\n     'config': {'seed': None}},\n    'bias_initializer': {'class_name': 'Zeros', 'config': {}},\n    'kernel_regularizer': None,\n    'bias_regularizer': None,\n    'activity_regularizer': None,\n    'kernel_constraint': None,\n    'bias_constraint': None},\n   'name': 'conv1_2',\n   'inbound_nodes': [[['conv1_1', 0, 0, {}]]]},\n  {'class_name': 'MaxPooling1D',\n   'config': {'name': 'mp1',\n    'trainable': True,\n    'dtype': 'float32',\n    'strides': (2,),\n    'pool_size': (2,),\n    'padding': 'valid',\n    'data_format': 'channels_last'},\n   'name': 'mp1',\n   'inbound_nodes': [[['conv1_2', 0, 0, {}]]]},\n  {'class_name': 'BatchNormalization',\n   'config': {'name': 'bn1',\n    'trainable': True,\n    'dtype': 'float32',\n    'axis': ListWrapper([2]),\n    'momentum': 0.99,\n    'epsilon': 0.001,\n    'center': True,\n    'scale': True,\n    'beta_initializer': {'class_name': 'Zeros', 'config': {}},\n    'gamma_initializer': {'class_name': 'Ones', 'config': {}},\n    'moving_mean_initializer': {'class_name': 'Zeros', 'config': {}},\n    'moving_variance_initializer': {'class_name': 'Ones', 'config': {}},\n    'beta_regularizer': None,\n    'gamma_regularizer': None,\n    'beta_constraint': None,\n    'gamma_constraint': None},\n   'name': 'bn1',\n   'inbound_nodes': [[['mp1', 0, 0, {}]]]},\n  {'class_name': 'Conv1D',\n   'config': {'name': 'conv2_1',\n    'trainable': True,\n    'dtype': 'float32',\n    'filters': 512,\n    'kernel_size': (3,),\n    'strides': (1,),\n    'padding': 'same',\n    'data_format': 'channels_last',\n    'dilation_rate': (1,),\n    'activation': 'relu',\n    'use_bias': True,\n    'kernel_initializer': {'class_name': 'GlorotUniform',\n     'config': {'seed': None}},\n    'bias_initializer': {'class_name': 'Zeros', 'config': {}},\n    'kernel_regularizer': None,\n    'bias_regularizer': None,\n    'activity_regularizer': None,\n    'kernel_constraint': None,\n    'bias_constraint': None},\n   'name': 'conv2_1',\n   'inbound_nodes': [[['bn1', 0, 0, {}]]]},\n  {'class_name': 'Conv1D',\n   'config': {'name': 'conv2_2',\n    'trainable': True,\n    'dtype': 'float32',\n    'filters': 512,\n    'kernel_size': (1,),\n    'strides': (1,),\n    'padding': 'valid',\n    'data_format': 'channels_last',\n    'dilation_rate': (1,),\n    'activation': 'relu',\n    'use_bias': True,\n    'kernel_initializer': {'class_name': 'GlorotUniform',\n     'config': {'seed': None}},\n    'bias_initializer': {'class_name': 'Zeros', 'config': {}},\n    'kernel_regularizer': None,\n    'bias_regularizer': None,\n    'activity_regularizer': None,\n    'kernel_constraint': None,\n    'bias_constraint': None},\n   'name': 'conv2_2',\n   'inbound_nodes': [[['conv2_1', 0, 0, {}]]]},\n  {'class_name': 'MaxPooling1D',\n   'config': {'name': 'mp2',\n    'trainable': True,\n    'dtype': 'float32',\n    'strides': (2,),\n    'pool_size': (2,),\n    'padding': 'valid',\n    'data_format': 'channels_last'},\n   'name': 'mp2',\n   'inbound_nodes': [[['conv2_2', 0, 0, {}]]]},\n  {'class_name': 'BatchNormalization',\n   'config': {'name': 'bn2',\n    'trainable': True,\n    'dtype': 'float32',\n    'axis': ListWrapper([2]),\n    'momentum': 0.99,\n    'epsilon': 0.001,\n    'center': True,\n    'scale': True,\n    'beta_initializer': {'class_name': 'Zeros', 'config': {}},\n    'gamma_initializer': {'class_name': 'Ones', 'config': {}},\n    'moving_mean_initializer': {'class_name': 'Zeros', 'config': {}},\n    'moving_variance_initializer': {'class_name': 'Ones', 'config': {}},\n    'beta_regularizer': None,\n    'gamma_regularizer': None,\n    'beta_constraint': None,\n    'gamma_constraint': None},\n   'name': 'bn2',\n   'inbound_nodes': [[['mp2', 0, 0, {}]]]},\n  {'class_name': 'Conv1D',\n   'config': {'name': 'conv3',\n    'trainable': True,\n    'dtype': 'float32',\n    'filters': 512,\n    'kernel_size': (3,),\n    'strides': (1,),\n    'padding': 'same',\n    'data_format': 'channels_last',\n    'dilation_rate': (1,),\n    'activation': 'relu',\n    'use_bias': True,\n    'kernel_initializer': {'class_name': 'GlorotUniform',\n     'config': {'seed': None}},\n    'bias_initializer': {'class_name': 'Zeros', 'config': {}},\n    'kernel_regularizer': None,\n    'bias_regularizer': None,\n    'activity_regularizer': None,\n    'kernel_constraint': None,\n    'bias_constraint': None},\n   'name': 'conv3',\n   'inbound_nodes': [[['bn2', 0, 0, {}]]]},\n  {'class_name': 'Conv1D',\n   'config': {'name': 'conv3_2',\n    'trainable': True,\n    'dtype': 'float32',\n    'filters': 512,\n    'kernel_size': (1,),\n    'strides': (1,),\n    'padding': 'valid',\n    'data_format': 'channels_last',\n    'dilation_rate': (1,),\n    'activation': 'relu',\n    'use_bias': True,\n    'kernel_initializer': {'class_name': 'GlorotUniform',\n     'config': {'seed': None}},\n    'bias_initializer': {'class_name': 'Zeros', 'config': {}},\n    'kernel_regularizer': None,\n    'bias_regularizer': None,\n    'activity_regularizer': None,\n    'kernel_constraint': None,\n    'bias_constraint': None},\n   'name': 'conv3_2',\n   'inbound_nodes': [[['conv3', 0, 0, {}]]]},\n  {'class_name': 'MaxPooling1D',\n   'config': {'name': 'mp3',\n    'trainable': True,\n    'dtype': 'float32',\n    'strides': (2,),\n    'pool_size': (2,),\n    'padding': 'valid',\n    'data_format': 'channels_last'},\n   'name': 'mp3',\n   'inbound_nodes': [[['conv3_2', 0, 0, {}]]]},\n  {'class_name': 'BatchNormalization',\n   'config': {'name': 'bn3',\n    'trainable': True,\n    'dtype': 'float32',\n    'axis': ListWrapper([2]),\n    'momentum': 0.99,\n    'epsilon': 0.001,\n    'center': True,\n    'scale': True,\n    'beta_initializer': {'class_name': 'Zeros', 'config': {}},\n    'gamma_initializer': {'class_name': 'Ones', 'config': {}},\n    'moving_mean_initializer': {'class_name': 'Zeros', 'config': {}},\n    'moving_variance_initializer': {'class_name': 'Ones', 'config': {}},\n    'beta_regularizer': None,\n    'gamma_regularizer': None,\n    'beta_constraint': None,\n    'gamma_constraint': None},\n   'name': 'bn3',\n   'inbound_nodes': [[['mp3', 0, 0, {}]]]},\n  {'class_name': 'Dense',\n   'config': {'name': 'dense',\n    'trainable': True,\n    'dtype': 'float32',\n    'units': 128,\n    'activation': 'relu',\n    'use_bias': True,\n    'kernel_initializer': {'class_name': 'GlorotUniform',\n     'config': {'seed': None}},\n    'bias_initializer': {'class_name': 'Zeros', 'config': {}},\n    'kernel_regularizer': None,\n    'bias_regularizer': None,\n    'activity_regularizer': None,\n    'kernel_constraint': None,\n    'bias_constraint': None},\n   'name': 'dense',\n   'inbound_nodes': [[['bn3', 0, 0, {}]]]},\n  {'class_name': 'GlobalMaxPooling1D',\n   'config': {'name': 'gmp',\n    'trainable': True,\n    'dtype': 'float32',\n    'data_format': 'channels_last'},\n   'name': 'gmp',\n   'inbound_nodes': [[['dense', 0, 0, {}]]]},\n  {'class_name': 'Dense',\n   'config': {'name': 'dense_1',\n    'trainable': True,\n    'dtype': 'float32',\n    'units': 4,\n    'activation': 'softmax',\n    'use_bias': True,\n    'kernel_initializer': {'class_name': 'GlorotUniform',\n     'config': {'seed': None}},\n    'bias_initializer': {'class_name': 'Zeros', 'config': {}},\n    'kernel_regularizer': None,\n    'bias_regularizer': None,\n    'activity_regularizer': None,\n    'kernel_constraint': None,\n    'bias_constraint': None},\n   'name': 'dense_1',\n   'inbound_nodes': [[['gmp', 0, 0, {}]]]}],\n 'input_layers': [['model_input', 0, 0]],\n 'output_layers': [['dense_1', 0, 0]]}"
     },
     "execution_count": 8,
     "metadata": {},
     "output_type": "execute_result"
    }
   ],
   "source": [
    "clf.get_config()"
   ],
   "metadata": {
    "collapsed": false,
    "pycharm": {
     "name": "#%%\n"
    }
   }
  }
 ],
 "metadata": {
  "kernelspec": {
   "display_name": "Python 3",
   "language": "python",
   "name": "python3"
  },
  "language_info": {
   "codemirror_mode": {
    "name": "ipython",
    "version": 2
   },
   "file_extension": ".py",
   "mimetype": "text/x-python",
   "name": "python",
   "nbconvert_exporter": "python",
   "pygments_lexer": "ipython2",
   "version": "2.7.6"
  }
 },
 "nbformat": 4,
 "nbformat_minor": 0
}